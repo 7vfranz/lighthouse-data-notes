{
 "cells": [
  {
   "cell_type": "markdown",
   "metadata": {},
   "source": [
    "#### Lecture"
   ]
  },
  {
   "cell_type": "markdown",
   "metadata": {},
   "source": [
    "* ML - computer program that accepts inputs and predicts target variable\n",
    "* cost/penalty function monitored as moves through data\n",
    "* corrects to minimize cost/penalty \n",
    "\n",
    "* randomize the data - then partition to get train/test sets \n",
    "* model should not be exposed to test until training is done\n",
    "\n",
    "* Machine Learning \n",
    "    * supervised - labels are given \n",
    "        * Regression - continuous variables e.g. diff temperatures\n",
    "        * Classification - categorical e.g. hot/cold. logistic regression\n",
    "    * unsupervised - labels are not given\n",
    "        * clustering - recommender systems, targeted marketing, customer segmentation\n",
    "        * generative networks - more deep learning\n",
    "        * dimension reduction - for structure discovery and big data visualization\n",
    "    * semi supervised - mix \n",
    "    * reinforcement learning - skill acquisition\n",
    "    * \"inference learning\"\n",
    "        * induction - learning general model from specific\n",
    "        * deducation - using a model to make predictions\n",
    "        * specific examples to make predictions \n",
    "\n",
    "#### Unsupervised Learning\n",
    "* product recommendations, fraudulent cases, insurance risk models, social media (friend suggestions), drug trials/genetic markers\n",
    "* clustering based on a 'centroid'/distribution\n",
    "* also includes KDE (kernel density estimation)\n",
    "* PCA principal component analysis, can also visualize\n",
    "* [clustering](https://www.naftaliharris.com/blog/visualizing-k-means-clustering/)\n",
    "<br>\n",
    "\n",
    "1. K-Means Clustering \n",
    "* 'base' model - more simple and the basis of other clustering techniques\n",
    "* K = number of clusters you are using\n",
    "* finds centroid for number of clusters \n",
    "* takes k number of randomly selected points - gets mean from those clusters - taken as new centroid - compare values between centroids \n",
    "* reassigns points to new cluster depending on how far those points are from the new centroid \n",
    "* good for spherical clusters\n",
    "* Short-comings\n",
    "    * convergence is not guaranteed - scikit learn by default uses a large number of random initializations to find the best results\n",
    "    * number of clusters must be set beforehand - other clustering algorithms don't \n",
    "* how well clustered: inertia - sum of squares difference from the centroid - because some can be classified to a different one after one run\n",
    "* can be more 1-3 dimensions - but usually not more, because based on some euclidean distance \n",
    "\n",
    "2. Hierarchical Clustering \n",
    "* each point is a cluster -> take two closest as a cluster -> repeats until only one cluster\n",
    "* Dendrogram - visualize the number of clusters you should go for\n",
    "* goes through how each individual point is getting linked \n",
    "* 'agglomerative' \n",
    "* linkage can be based on - two closest points min distance 'single', furthest distance 'complete', or through average \n",
    "\n",
    "3. DBScan - Density-Based Spatial Clustering Applications with Noise\n",
    "* sphetical and arbitrary shape clusters (donut wtih hole)\n",
    "* e.g. for smiley face \n",
    "* no k input - figures tricky shapes based on it\n",
    "* based on radius of neighbourhood \"R\" or epsilon\n",
    "* \"M\" minimum number of neighbours - to get a corepoint - to get minimum number of points\n",
    "* collects/connects core-points near by with set 'M' - \n",
    "* robust to outliers\n",
    "* can have noise points - no corepoints nearby to make it into that cluster"
   ]
  },
  {
   "cell_type": "markdown",
   "metadata": {},
   "source": [
    "#### Compass/Readings\n",
    "\n",
    "* Clustering\n",
    "    * dividing a population/data points into several groups so that the data in same groups are more similar to each other than those in other groups\n",
    "    * segregate groups with similar traits - to assign to clusters\n",
    "    * can have many uses, data reduction, finding natural clusters, outlier detection\n",
    "\n",
    "* Methods:\n",
    "    * density-based methods \n",
    "        * DBSCANs/OPTICS\n",
    "        * dense regions having some similarities/differences from lower dense region of the space\n",
    "        * can merge two clusters\n",
    "    * Hierarchical\n",
    "        * tree type structure - clusters formed from previous\n",
    "        * can be: (1) agglomerative - bottom-up (2) Divisive - top down\n",
    "    * Partitioning\n",
    "        * partition into k-clusters, and partition form a cluster\n",
    "        * K-means, CLARANS (clustering large applications based on randomized search)\n",
    "    * Grid-based methods\n",
    "        * data space is formulated into a finite number of cells for a grid like structure\n",
    "        * fast and independent on the number of data\n",
    "        * e.g. are STING, wave cluster, CLIQUE"
   ]
  },
  {
   "cell_type": "markdown",
   "metadata": {},
   "source": [
    "* **K-means**\n",
    "    * observations belongs to a cluster, nearest mean is the prototype of the cluster\n",
    "    * used in marketing, bio, libraries, insurance, city planning,\n",
    "    * a centroid-based clustering\n",
    "    * centroid = central vector - not necessarily part of the dataset \n",
    "    * important to scale your data - if they are on different scales - e.g. age vs income one var will have a bigger impact to the model. \n",
    "    * does multiple k-runs and returns best with least variation within each cluster\n",
    "    * 'elbow plot' to see at what k is there no big improvements in reducing variance w/ in clusters\n",
    "    * 2 variables - euclidean distance/hypoteneuse \n",
    "    * 3 variables - sqrt x^2 + y^2 + z^2 - similar euclidean distance\n",
    "    * L2 distance or euclidean distance\n",
    "\n",
    "    * steps: \n",
    "        * Initialize Cluster Centroids (Choose those 3 books to start with)\n",
    "        * Assign datapoints to Clusters (Place remaining the books one by one)\n",
    "        * Update Cluster centroids (Start over with 3 different books)\n",
    "        * Repeat step 2–3 until the stopping condition is met. \n",
    "\n",
    "    * assign a stopping criterion or some conditions met:\n",
    "        * datapoints remain the same (too long)\n",
    "        * centroids remain the same (too long)\n",
    "        * distance of datapoint from centroid is minimum (set thresh)\n",
    "        * number of iterations reached (set)\n",
    "\n",
    "    * cluster quality:\n",
    "        * inertia - how far away the points within the cluster are, smaller the better, 0 means no variance, sum of squares of variance(?)\n",
    "        * silhouette score - how far the datapoints in one cluster are from data in another cluster -1 to 1, 1 is better, meaning further apart \n",
    "\n",
    "    * choosing k\n",
    "        * eyeballing - looking at the data \n",
    "        * use inertia - graphed with increasing ks, choose a k where change in value isn't significant anymore \n",
    "        \n",
    "    * name the clusters, and can be used to assign new data points "
   ]
  },
  {
   "cell_type": "code",
   "execution_count": 1,
   "metadata": {},
   "outputs": [],
   "source": [
    "# import make_blobs from sklearn\n",
    "from sklearn.datasets import make_blobs\n",
    "\n",
    "# import matplotlib\n",
    "import matplotlib.pyplot as plt\n",
    "\n",
    "# import Kmeans from sklearn\n",
    "from sklearn.cluster import KMeans\n",
    "\n",
    "# import numpy\n",
    "import numpy as np"
   ]
  },
  {
   "cell_type": "code",
   "execution_count": 2,
   "metadata": {},
   "outputs": [],
   "source": [
    "# create blobs\n",
    "X, y = make_blobs(n_samples=150,\n",
    "                  n_features=2,\n",
    "                  centers=3,\n",
    "                  cluster_std=0.5,\n",
    "                  random_state=0)"
   ]
  },
  {
   "cell_type": "code",
   "execution_count": 3,
   "metadata": {},
   "outputs": [
    {
     "data": {
      "image/png": "[encoded data removed]",
      "text/plain": [
       "<Figure size 432x288 with 1 Axes>"
      ]
     },
     "metadata": {
      "needs_background": "light"
     },
     "output_type": "display_data"
    }
   ],
   "source": [
    "# set figure size\n",
    "plt.rcParams[\"figure.figsize\"] = (12,8)\n",
    "\n",
    "# plot clusters\n",
    "plt.scatter(X[:,0],\n",
    "            X[:,1],\n",
    "            c='black',\n",
    "            marker='o')\n",
    "plt.grid()\n",
    "plt.show()"
   ]
  },
  {
   "cell_type": "code",
   "execution_count": 4,
   "metadata": {},
   "outputs": [],
   "source": [
    "km = KMeans(n_clusters=3, # how many clusters we expected \n",
    "            n_init=10, # how many initial runs or seeds\n",
    "            random_state=0)"
   ]
  },
  {
   "cell_type": "code",
   "execution_count": 5,
   "metadata": {},
   "outputs": [],
   "source": [
    "# note that may have to scale features if not from the same distribution, random_state to reproduce the results\n",
    "# fit and predict are two separate methods can be run separately\n",
    "# fit - creates model using the dataset in the argument of the function\n",
    "# predict - predicts the cluster for every row of data set in the argument function\n",
    "y_km = km.fit_predict(X)"
   ]
  },
  {
   "cell_type": "code",
   "execution_count": 6,
   "metadata": {},
   "outputs": [],
   "source": [
    " # create a function to plot how the k-means alg assigned the clusters \n",
    " def plot_clusters(X,y_res, plt_cluster_centers = False):\n",
    "    X_centroids = []\n",
    "    Y_centroids = []\n",
    "\n",
    "    for cluster in set(y_res):\n",
    "        x = X[y_res == cluster,0]\n",
    "        y = X[y_res == cluster,1]\n",
    "        X_centroids.append(np.mean(x))\n",
    "        Y_centroids.append(np.mean(y))\n",
    "\n",
    "        plt.scatter(x,\n",
    "                    y,\n",
    "                    s=50,\n",
    "                    marker='s',\n",
    "                    label=f'cluster {cluster}')\n",
    "\n",
    "    if plt_cluster_centers:\n",
    "        plt.scatter(X_centroids,\n",
    "                    Y_centroids,\n",
    "                    marker='*',\n",
    "                    c='red',\n",
    "                    s=250,\n",
    "                    label='centroids')\n",
    "    plt.legend()\n",
    "    plt.grid()\n",
    "    plt.show()"
   ]
  },
  {
   "cell_type": "code",
   "execution_count": 7,
   "metadata": {},
   "outputs": [
    {
     "data": {
      "image/png": "[encoded data removed]",
      "text/plain": [
       "<Figure size 432x288 with 1 Axes>"
      ]
     },
     "metadata": {
      "needs_background": "light"
     },
     "output_type": "display_data"
    }
   ],
   "source": [
    "plot_clusters(X, y_km, plt_cluster_centers= True)"
   ]
  },
  {
   "cell_type": "code",
   "execution_count": 8,
   "metadata": {},
   "outputs": [],
   "source": [
    "# distortion plot, called inertia in sklearn\n",
    "def plot_distortion(X,max_clusters = 10):\n",
    "    distortions = []\n",
    "    for i in range(1, max_clusters +1):\n",
    "        km = KMeans(n_clusters=i,\n",
    "                    init='k-means++',\n",
    "                    n_init=10,\n",
    "                    random_state=0)\n",
    "        km.fit(X)\n",
    "        distortions.append(km.inertia_)\n",
    "\n",
    "    plt.plot(range(1,max_clusters +1), distortions, marker='o')\n",
    "    plt.xlabel('Number of clusters')\n",
    "    plt.ylabel('Distortion')\n",
    "    plt.show() "
   ]
  },
  {
   "cell_type": "code",
   "execution_count": 9,
   "metadata": {},
   "outputs": [
    {
     "data": {
      "image/png": "[encoded data removed]",
      "text/plain": [
       "<Figure size 432x288 with 1 Axes>"
      ]
     },
     "metadata": {
      "needs_background": "light"
     },
     "output_type": "display_data"
    }
   ],
   "source": [
    "plot_distortion(X,max_clusters=10)"
   ]
  },
  {
   "cell_type": "markdown",
   "metadata": {},
   "source": [
    "* **Hierarchical Clustering** \n",
    "    * connects nearby objects to form clusters with maximum distance to connect parts of the cluster\n",
    "    * repped with a dendrogram, providing a hierarchy of clusters that merge at different distances\n",
    "    * y = distance clusters merge, x objects \n",
    "    * can be bottom up (agglomerative), or top down (divisive)\n",
    "    * start with data points as own cluster - join closest clusters\n",
    "    * Euclidean space - clusters are represented as centroid - average of its pointness\n",
    "    * distance to centroid = measure of distance between clusters or nearness \n",
    "\n",
    "    * non-euclidean space\n",
    "        * not based on distance from centroids, and using centroids \n",
    "        * no \"average\"\n",
    "        * based on: \"clustroids\"\n",
    "        * clustroid chooses one of the **existing** data points in the cluster that is closest to all the other points in the cluster\n",
    "        * can be treated as a centroid\n",
    "        * closest can mean: smallest maximum distance, average distance to other points, smallest sum of squares distance \n",
    "    \n",
    "    * termination condition\n",
    "        * when to stop\n",
    "        * pick k upfront - if known\n",
    "        * if unknown - keep clustering until low cohesion ('bad' cluster)\n",
    "            * 1. diameter of merged clusters reaches a max distance between points \n",
    "            * 2. radius - maximum distance of a point from centroid \n",
    "            * 3. density based approach - number of points per unit volume (density) \n",
    "                * e.g. divide number of points by diameter/radius \n",
    "\n",
    "    * implementation\n",
    "        * at each step - gets pairs of clusters - compute pairwise distances and then merge\n",
    "        * can be memory intensive and slow with large data "
   ]
  },
  {
   "cell_type": "code",
   "execution_count": 13,
   "metadata": {},
   "outputs": [],
   "source": [
    "# import libraries\n",
    "from sklearn.datasets import make_blobs\n",
    "import matplotlib.pyplot as plt\n",
    "import numpy as np\n",
    "\n",
    "# Generate clusters \n",
    "X, y = make_blobs(n_samples=150,\n",
    "                  n_features=2,\n",
    "                  centers=3,\n",
    "                  cluster_std=0.5,\n",
    "                  random_state=0)\n"
   ]
  },
  {
   "cell_type": "code",
   "execution_count": 14,
   "metadata": {},
   "outputs": [],
   "source": [
    "def plot_clusters(X,y_res, plt_cluster_centers = False):\n",
    "    X_centroids = []\n",
    "    Y_centroids = []\n",
    "\n",
    "    for cluster in set(y_res):\n",
    "        x = X[y_res == cluster,0]\n",
    "        y = X[y_res == cluster,1]\n",
    "        X_centroids.append(np.mean(x))\n",
    "        Y_centroids.append(np.mean(y))\n",
    "\n",
    "        plt.scatter(x,\n",
    "                    y,\n",
    "                    s=50,\n",
    "                    marker='s',\n",
    "                    label=f'cluster {cluster}')\n",
    "\n",
    "    if plt_cluster_centers:\n",
    "        plt.scatter(X_centroids,\n",
    "                    Y_centroids,\n",
    "                    marker='*',\n",
    "                    c='red',\n",
    "                    s=250,\n",
    "                    label='centroids')\n",
    "    plt.legend()\n",
    "    plt.grid()\n",
    "    plt.show()"
   ]
  },
  {
   "cell_type": "code",
   "execution_count": 15,
   "metadata": {},
   "outputs": [],
   "source": [
    "# aglomerative clustering\n",
    "from sklearn.cluster import AgglomerativeClustering\n",
    "\n",
    "# cluster hierarchy\n",
    "import scipy.cluster.hierarchy as sch"
   ]
  },
  {
   "cell_type": "code",
   "execution_count": 16,
   "metadata": {},
   "outputs": [],
   "source": [
    "# create an object for clustering\n",
    "# linkage can be: 'ward' - minimum sum of squared difference w/in clusters similar to k-means of minimizing variance\n",
    "# 'maximum' - minimize maximum distance between observations of pairs of clusters\n",
    "# 'average' - minimize average distance between observations of pairs of clusters\n",
    "# 'single' - minimize the distance b/w closest observations of pairs of clusters  \n",
    "ac = AgglomerativeClustering(affinity='euclidean',\n",
    "                             linkage='ward',\n",
    "                             n_clusters = 3)"
   ]
  },
  {
   "cell_type": "code",
   "execution_count": 17,
   "metadata": {},
   "outputs": [],
   "source": [
    "y_hc = ac.fit_predict(X)"
   ]
  },
  {
   "cell_type": "code",
   "execution_count": 18,
   "metadata": {},
   "outputs": [
    {
     "data": {
      "image/png": "[encoded data removed]",
      "text/plain": [
       "<Figure size 432x288 with 1 Axes>"
      ]
     },
     "metadata": {
      "needs_background": "light"
     },
     "output_type": "display_data"
    }
   ],
   "source": [
    "# no difference from k-means\n",
    "plot_clusters(X,y_hc)"
   ]
  },
  {
   "cell_type": "code",
   "execution_count": 19,
   "metadata": {},
   "outputs": [],
   "source": [
    "# check with dendrogram\n",
    "def plot_dendrogram(X,method ='ward'):\n",
    "    dendrogram = sch.dendrogram(sch.linkage(X, method=method))\n",
    "    plt.title(\"Dendrogram\")\n",
    "    plt.ylabel(\"Euclidean distances\")\n",
    "    plt.xlabel('Points')\n",
    "    plt.show()"
   ]
  },
  {
   "cell_type": "code",
   "execution_count": 20,
   "metadata": {},
   "outputs": [
    {
     "data": {
      "image/png": "[encoded data removed]",
      "text/plain": [
       "<Figure size 432x288 with 1 Axes>"
      ]
     },
     "metadata": {
      "needs_background": "light"
     },
     "output_type": "display_data"
    }
   ],
   "source": [
    "plot_dendrogram(X)"
   ]
  },
  {
   "cell_type": "markdown",
   "metadata": {},
   "source": [
    "#### DBSCAN\n",
    "* density-based spatial clustering of applications with noise\n",
    "* separate high density from low density\n",
    "* not dependent on spherical data - can have detect other shapes\n",
    "* epsilon - radius of the cluster\n",
    "* minimum points - points in a cluster\n",
    "* core (has minimum), border (part of a core's cluster, but doesn't meet minimum), outlier (no minimum, and not connected to a cluster)\n",
    "* 1. pick a random point that has yet to be decided -> check if core point (meets minimum) -> if not, label as outlier\n",
    "* 2. from a core - add all reachable to its cluster, then do neighbour jumps to each reachable point, add them to the cluster, once outlier is reached, labeled as border point\n",
    "* 3. repeat until all points are assigned to a cluster or outlier \n",
    "* care with use, sparse data are treated as outliers even though they can still be part of a cluster\n",
    "\n",
    "* vs k-means\n",
    "    * DBSCAN doesn't use entire data set\n",
    "    * can detect non-spherical \n"
   ]
  },
  {
   "cell_type": "code",
   "execution_count": 21,
   "metadata": {},
   "outputs": [],
   "source": [
    "# import libraries\n",
    "from sklearn.datasets import make_blobs\n",
    "import matplotlib.pyplot as plt\n",
    "import numpy as np\n",
    "\n",
    "# generate clusters \n",
    "X, y = make_blobs(n_samples=150,\n",
    "                  n_features=2,\n",
    "                  centers=3,\n",
    "                  cluster_std=0.5,\n",
    "                  random_state=0)\n",
    "\n",
    "\n",
    "def plot_clusters(X,y_res, plt_cluster_centers = False):\n",
    "    X_centroids = []\n",
    "    Y_centroids = []\n",
    "\n",
    "    for cluster in set(y_res):\n",
    "        x = X[y_res == cluster,0]\n",
    "        y = X[y_res == cluster,1]\n",
    "        X_centroids.append(np.mean(x))\n",
    "        Y_centroids.append(np.mean(y))\n",
    "\n",
    "        plt.scatter(x,\n",
    "                    y,\n",
    "                    s=50,\n",
    "                    marker='s',\n",
    "                    label=f'cluster {cluster}')\n",
    "\n",
    "    if plt_cluster_centers:\n",
    "        plt.scatter(X_centroids,\n",
    "                    Y_centroids,\n",
    "                    marker='*',\n",
    "                    c='red',\n",
    "                    s=250,\n",
    "                    label='centroids')\n",
    "    plt.legend(bbox_to_anchor=(1,1), loc='upper left')\n",
    "    plt.grid()\n",
    "    plt.show()"
   ]
  },
  {
   "cell_type": "code",
   "execution_count": 22,
   "metadata": {},
   "outputs": [],
   "source": [
    "from sklearn.datasets import make_moons\n",
    "\n",
    "# import DBSCAN\n",
    "from sklearn.cluster import DBSCAN"
   ]
  },
  {
   "cell_type": "code",
   "execution_count": 36,
   "metadata": {},
   "outputs": [],
   "source": [
    "# eps - maximum distance between two samples to be considered as being in the neighbourhood\n",
    "# min_samples - number of samples in a neighborhood for apoint to be considered as a core\n",
    "db = DBSCAN(eps=0.5,\n",
    "            min_samples=5,\n",
    "            metric='euclidean')\n"
   ]
  },
  {
   "cell_type": "code",
   "execution_count": 38,
   "metadata": {},
   "outputs": [
    {
     "name": "stdout",
     "output_type": "stream",
     "text": [
      "DBSCAN()\n"
     ]
    }
   ],
   "source": [
    "print(db)"
   ]
  },
  {
   "cell_type": "code",
   "execution_count": 24,
   "metadata": {},
   "outputs": [],
   "source": [
    "y_db = db.fit_predict(X)"
   ]
  },
  {
   "cell_type": "code",
   "execution_count": 25,
   "metadata": {},
   "outputs": [
    {
     "data": {
      "image/png": "[encoded data removed]",
      "text/plain": [
       "<Figure size 432x288 with 1 Axes>"
      ]
     },
     "metadata": {
      "needs_background": "light"
     },
     "output_type": "display_data"
    }
   ],
   "source": [
    "plot_clusters(X,y_db)"
   ]
  },
  {
   "cell_type": "code",
   "execution_count": 26,
   "metadata": {},
   "outputs": [],
   "source": [
    "# Non spherical data\n",
    "X, y = make_moons(n_samples=200,\n",
    "                  noise=0.05,\n",
    "                  random_state=0)"
   ]
  },
  {
   "cell_type": "code",
   "execution_count": 27,
   "metadata": {},
   "outputs": [
    {
     "data": {
      "image/png": "[encoded data removed]",
      "text/plain": [
       "<Figure size 432x288 with 1 Axes>"
      ]
     },
     "metadata": {
      "needs_background": "light"
     },
     "output_type": "display_data"
    }
   ],
   "source": [
    "plt.scatter(X[:,0], X[:,1])\n",
    "plt.show()\n"
   ]
  },
  {
   "cell_type": "code",
   "execution_count": 28,
   "metadata": {},
   "outputs": [
    {
     "data": {
      "image/png": "[encoded data removed]",
      "text/plain": [
       "<Figure size 432x288 with 1 Axes>"
      ]
     },
     "metadata": {
      "needs_background": "light"
     },
     "output_type": "display_data"
    }
   ],
   "source": [
    "from sklearn.cluster import KMeans\n",
    "\n",
    "# Fit K-means\n",
    "km = KMeans(n_clusters=2, # how many clusters we expected \n",
    "            n_init=10,\n",
    "            random_state=0,)\n",
    "\n",
    "y_km = km.fit_predict(X)\n",
    "\n",
    "# plot K-means clusters\n",
    "plot_clusters(X,y_km,plt_cluster_centers=True)"
   ]
  },
  {
   "cell_type": "code",
   "execution_count": 29,
   "metadata": {},
   "outputs": [
    {
     "data": {
      "image/png": "[encoded data removed]",
      "text/plain": [
       "<Figure size 432x288 with 1 Axes>"
      ]
     },
     "metadata": {
      "needs_background": "light"
     },
     "output_type": "display_data"
    }
   ],
   "source": [
    "# with hierarchical - agglomerative\n",
    "# import Agglomerative clustering\n",
    "from sklearn.cluster import AgglomerativeClustering\n",
    "\n",
    "# fit Agglomerative clustering\n",
    "ac = AgglomerativeClustering(affinity='euclidean',\n",
    "                             linkage='ward',\n",
    "                             n_clusters = 2)\n",
    "y_hc = ac.fit_predict(X)\n",
    "\n",
    "# plot HC clusters\n",
    "plot_clusters(X,y_hc)"
   ]
  },
  {
   "cell_type": "code",
   "execution_count": 30,
   "metadata": {},
   "outputs": [
    {
     "data": {
      "image/png": "[encoded data removed]",
      "text/plain": [
       "<Figure size 432x288 with 1 Axes>"
      ]
     },
     "metadata": {
      "needs_background": "light"
     },
     "output_type": "display_data"
    }
   ],
   "source": [
    "# fit DBSCAN\n",
    "db = DBSCAN(eps=0.2,\n",
    "            min_samples=5,\n",
    "            metric='euclidean')\n",
    "\n",
    "y_db = db.fit_predict(X)\n",
    "\n",
    "# plot DBSCAN clusters\n",
    "plot_clusters(X,y_db)\n"
   ]
  },
  {
   "cell_type": "code",
   "execution_count": null,
   "metadata": {},
   "outputs": [],
   "source": []
  }
 ],
 "metadata": {
  "kernelspec": {
   "display_name": "lhl_env38",
   "language": "python",
   "name": "lhl_env38"
  },
  "language_info": {
   "codemirror_mode": {
    "name": "ipython",
    "version": 3
   },
   "file_extension": ".py",
   "mimetype": "text/x-python",
   "name": "python",
   "nbconvert_exporter": "python",
   "pygments_lexer": "ipython3",
   "version": "3.8.13"
  },
  "orig_nbformat": 4
 },
 "nbformat": 4,
 "nbformat_minor": 2
}
