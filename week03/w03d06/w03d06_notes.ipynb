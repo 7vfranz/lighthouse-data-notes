{
 "cells": [
  {
   "cell_type": "markdown",
   "metadata": {},
   "source": [
    "#### Machine Learning Intro\n",
    "* making predictions and classifications\n",
    "* have training data, fit regression line to fit training data\n",
    "* quality based on how the model predicts new data\n",
    "* decision trees\n",
    "\n",
    "<br>\n",
    "\n",
    "* bias/variance tradeoff \n",
    "    * fit training data well but makes poor predictions\n",
    "    * i.e. over-fitting \n",
    "\n",
    "* compare methods and pick which had best/correct predictions on testing data\n",
    "\n",
    "#### ML vs AI\n",
    "* machine learning is a subset of AI\n",
    "* importance based on weights\n",
    "* ML can find weights, by comparing predicts with the actual data you gave it, and re-adjust those weights as it gets trained\n",
    "* weights how much to factor each feature\n",
    "\n",
    "#### ML vs Statistics\n",
    "[ml vs stats](https://www.educba.com/machine-learning-vs-statistics/)\n",
    "* ML is built on statistics\n",
    "* ML is a set of steps/rules fed by the user where the machine understands and trains by itself, predicts future events, or classifies existing material \n",
    "    * for hypothesis uses \n",
    "    * more for data analytics\n",
    "    * keywords: linear regressions, random forests, support vector machine, neural networks\n",
    "* Statistics: math for finding patterns from the data, identifies relationship between data points \n",
    "    * for correlation between data points, univariates, and multivariates \n",
    "    * covariance, univar, multivar, estimators, p-values, root mean squared deviation (RMSE)\n",
    "\n",
    "#### Calculus\n",
    "* derivatives, chain\n",
    "* hard problems reframed as finding an area under some graph\n",
    "* integral of x^2, function that find area under curve\n",
    "* if indefinite integration (?) - returns a function\n",
    "* differentiation gives the derivative \n",
    "* derivative of a function for the area under the graph, returns the function \n",
    "* inverse of each other integral and derivatives\n",
    "\n",
    "#### Calculus in Data Science\n",
    "* used in least squares regression, probability distributions (basis)\n",
    "* measuring rates or quantities that change over time (change)\n",
    "* maximum and minimum of functions when optimizing (min/max)\n",
    "* two kinds: 1. differential (rates of change) 2. integrals (quantity at a specific time, given rate of change)f\n",
    "* finding slope at a curve - find the derivative, can have set equations\n",
    "* f'(x^2) =  2x\n",
    "* use these procedures to optimize decisions \n",
    "\n",
    "<br>\n",
    "\n",
    "* [more info](https://www.mathsisfun.com/calculus/derivatives-introduction.html)\n",
    "* price optimization\n",
    "* find values that maximize and minimize outcomes\n",
    "* e.g. finding maximum revenue given sales/price and discount per sale, describes an inverted U relationship\n",
    "\n",
    "<br>\n",
    "\n",
    "* minimums and maximums\n",
    "* absolutes and relatives\n",
    "* min and max are used in almost all machine learning algos - via \"gradient descent\" \n",
    "* absolute max at x = c , if f(c) >= f(x), for all x in the domain of function\n",
    "* abs min at x=c if f(c) <= f(x), for all x in the domain"
   ]
  },
  {
   "cell_type": "markdown",
   "metadata": {},
   "source": [
    "#### Walk through clustering and optimization\n",
    "* from realpython\n",
    "* scipy ecosystem: numpy, scipy, matplotlib, ipython, numpy, pandas\n",
    "* scipy subpackages require explicit import"
   ]
  },
  {
   "cell_type": "code",
   "execution_count": 4,
   "metadata": {},
   "outputs": [],
   "source": [
    "import scipy"
   ]
  },
  {
   "cell_type": "code",
   "execution_count": 3,
   "metadata": {},
   "outputs": [
    {
     "name": "stdout",
     "output_type": "stream",
     "text": [
      "Help on package scipy:\n",
      "\n",
      "NAME\n",
      "    scipy\n",
      "\n",
      "DESCRIPTION\n",
      "    SciPy: A scientific computing package for Python\n",
      "    ================================================\n",
      "    \n",
      "    Documentation is available in the docstrings and\n",
      "    online at https://docs.scipy.org.\n",
      "    \n",
      "    Contents\n",
      "    --------\n",
      "    SciPy imports all the functions from the NumPy namespace, and in\n",
      "    addition provides:\n",
      "    \n",
      "    Subpackages\n",
      "    -----------\n",
      "    Using any of these subpackages requires an explicit import. For example,\n",
      "    ``import scipy.cluster``.\n",
      "    \n",
      "    ::\n",
      "    \n",
      "     cluster                      --- Vector Quantization / Kmeans\n",
      "     fft                          --- Discrete Fourier transforms\n",
      "     fftpack                      --- Legacy discrete Fourier transforms\n",
      "     integrate                    --- Integration routines\n",
      "     interpolate                  --- Interpolation Tools\n",
      "     io                           --- Data input and output\n",
      "     linalg                       --- Linear algebra routines\n",
      "     linalg.blas                  --- Wrappers to BLAS library\n",
      "     linalg.lapack                --- Wrappers to LAPACK library\n",
      "     misc                         --- Various utilities that don't have\n",
      "                                      another home.\n",
      "     ndimage                      --- N-D image package\n",
      "     odr                          --- Orthogonal Distance Regression\n",
      "     optimize                     --- Optimization Tools\n",
      "     signal                       --- Signal Processing Tools\n",
      "     signal.windows               --- Window functions\n",
      "     sparse                       --- Sparse Matrices\n",
      "     sparse.linalg                --- Sparse Linear Algebra\n",
      "     sparse.linalg.dsolve         --- Linear Solvers\n",
      "     sparse.linalg.dsolve.umfpack --- :Interface to the UMFPACK library:\n",
      "                                      Conjugate Gradient Method (LOBPCG)\n",
      "     sparse.linalg.eigen          --- Sparse Eigenvalue Solvers\n",
      "     sparse.linalg.eigen.lobpcg   --- Locally Optimal Block Preconditioned\n",
      "                                      Conjugate Gradient Method (LOBPCG)\n",
      "     spatial                      --- Spatial data structures and algorithms\n",
      "     special                      --- Special functions\n",
      "     stats                        --- Statistical Functions\n",
      "    \n",
      "    Utility tools\n",
      "    -------------\n",
      "    ::\n",
      "    \n",
      "     test              --- Run scipy unittests\n",
      "     show_config       --- Show scipy build configuration\n",
      "     show_numpy_config --- Show numpy build configuration\n",
      "     __version__       --- SciPy version string\n",
      "     __numpy_version__ --- Numpy version string\n",
      "\n",
      "PACKAGE CONTENTS\n",
      "    __config__\n",
      "    _build_utils (package)\n",
      "    _distributor_init\n",
      "    _lib (package)\n",
      "    cluster (package)\n",
      "    conftest\n",
      "    constants (package)\n",
      "    fft (package)\n",
      "    fftpack (package)\n",
      "    integrate (package)\n",
      "    interpolate (package)\n",
      "    io (package)\n",
      "    linalg (package)\n",
      "    misc (package)\n",
      "    ndimage (package)\n",
      "    odr (package)\n",
      "    optimize (package)\n",
      "    setup\n",
      "    signal (package)\n",
      "    sparse (package)\n",
      "    spatial (package)\n",
      "    special (package)\n",
      "    stats (package)\n",
      "    version\n",
      "\n",
      "CLASSES\n",
      "    builtins.tuple(builtins.object)\n",
      "        scipy._lib._ccallback.LowLevelCallable\n",
      "    \n",
      "    class LowLevelCallable(builtins.tuple)\n",
      "     |  LowLevelCallable(function, user_data=None, signature=None)\n",
      "     |  \n",
      "     |  Low-level callback function.\n",
      "     |  \n",
      "     |  Parameters\n",
      "     |  ----------\n",
      "     |  function : {PyCapsule, ctypes function pointer, cffi function pointer}\n",
      "     |      Low-level callback function.\n",
      "     |  user_data : {PyCapsule, ctypes void pointer, cffi void pointer}\n",
      "     |      User data to pass on to the callback function.\n",
      "     |  signature : str, optional\n",
      "     |      Signature of the function. If omitted, determined from *function*,\n",
      "     |      if possible.\n",
      "     |  \n",
      "     |  Attributes\n",
      "     |  ----------\n",
      "     |  function\n",
      "     |      Callback function given.\n",
      "     |  user_data\n",
      "     |      User data given.\n",
      "     |  signature\n",
      "     |      Signature of the function.\n",
      "     |  \n",
      "     |  Methods\n",
      "     |  -------\n",
      "     |  from_cython\n",
      "     |      Class method for constructing callables from Cython C-exported\n",
      "     |      functions.\n",
      "     |  \n",
      "     |  Notes\n",
      "     |  -----\n",
      "     |  The argument ``function`` can be one of:\n",
      "     |  \n",
      "     |  - PyCapsule, whose name contains the C function signature\n",
      "     |  - ctypes function pointer\n",
      "     |  - cffi function pointer\n",
      "     |  \n",
      "     |  The signature of the low-level callback must match one of those expected\n",
      "     |  by the routine it is passed to.\n",
      "     |  \n",
      "     |  If constructing low-level functions from a PyCapsule, the name of the\n",
      "     |  capsule must be the corresponding signature, in the format::\n",
      "     |  \n",
      "     |      return_type (arg1_type, arg2_type, ...)\n",
      "     |  \n",
      "     |  For example::\n",
      "     |  \n",
      "     |      \"void (double)\"\n",
      "     |      \"double (double, int *, void *)\"\n",
      "     |  \n",
      "     |  The context of a PyCapsule passed in as ``function`` is used as ``user_data``,\n",
      "     |  if an explicit value for ``user_data`` was not given.\n",
      "     |  \n",
      "     |  Method resolution order:\n",
      "     |      LowLevelCallable\n",
      "     |      builtins.tuple\n",
      "     |      builtins.object\n",
      "     |  \n",
      "     |  Methods defined here:\n",
      "     |  \n",
      "     |  __getitem__(self, idx)\n",
      "     |      Return self[key].\n",
      "     |  \n",
      "     |  __repr__(self)\n",
      "     |      Return repr(self).\n",
      "     |  \n",
      "     |  ----------------------------------------------------------------------\n",
      "     |  Class methods defined here:\n",
      "     |  \n",
      "     |  from_cython(module, name, user_data=None, signature=None) from builtins.type\n",
      "     |      Create a low-level callback function from an exported Cython function.\n",
      "     |      \n",
      "     |      Parameters\n",
      "     |      ----------\n",
      "     |      module : module\n",
      "     |          Cython module where the exported function resides\n",
      "     |      name : str\n",
      "     |          Name of the exported function\n",
      "     |      user_data : {PyCapsule, ctypes void pointer, cffi void pointer}, optional\n",
      "     |          User data to pass on to the callback function.\n",
      "     |      signature : str, optional\n",
      "     |          Signature of the function. If omitted, determined from *function*.\n",
      "     |  \n",
      "     |  ----------------------------------------------------------------------\n",
      "     |  Static methods defined here:\n",
      "     |  \n",
      "     |  __new__(cls, function, user_data=None, signature=None)\n",
      "     |      Create and return a new object.  See help(type) for accurate signature.\n",
      "     |  \n",
      "     |  ----------------------------------------------------------------------\n",
      "     |  Readonly properties defined here:\n",
      "     |  \n",
      "     |  function\n",
      "     |  \n",
      "     |  signature\n",
      "     |  \n",
      "     |  user_data\n",
      "     |  \n",
      "     |  ----------------------------------------------------------------------\n",
      "     |  Methods inherited from builtins.tuple:\n",
      "     |  \n",
      "     |  __add__(self, value, /)\n",
      "     |      Return self+value.\n",
      "     |  \n",
      "     |  __contains__(self, key, /)\n",
      "     |      Return key in self.\n",
      "     |  \n",
      "     |  __eq__(self, value, /)\n",
      "     |      Return self==value.\n",
      "     |  \n",
      "     |  __ge__(self, value, /)\n",
      "     |      Return self>=value.\n",
      "     |  \n",
      "     |  __getattribute__(self, name, /)\n",
      "     |      Return getattr(self, name).\n",
      "     |  \n",
      "     |  __getnewargs__(self, /)\n",
      "     |  \n",
      "     |  __gt__(self, value, /)\n",
      "     |      Return self>value.\n",
      "     |  \n",
      "     |  __hash__(self, /)\n",
      "     |      Return hash(self).\n",
      "     |  \n",
      "     |  __iter__(self, /)\n",
      "     |      Implement iter(self).\n",
      "     |  \n",
      "     |  __le__(self, value, /)\n",
      "     |      Return self<=value.\n",
      "     |  \n",
      "     |  __len__(self, /)\n",
      "     |      Return len(self).\n",
      "     |  \n",
      "     |  __lt__(self, value, /)\n",
      "     |      Return self<value.\n",
      "     |  \n",
      "     |  __mul__(self, value, /)\n",
      "     |      Return self*value.\n",
      "     |  \n",
      "     |  __ne__(self, value, /)\n",
      "     |      Return self!=value.\n",
      "     |  \n",
      "     |  __rmul__(self, value, /)\n",
      "     |      Return value*self.\n",
      "     |  \n",
      "     |  count(self, value, /)\n",
      "     |      Return number of occurrences of value.\n",
      "     |  \n",
      "     |  index(self, value, start=0, stop=9223372036854775807, /)\n",
      "     |      Return first index of value.\n",
      "     |      \n",
      "     |      Raises ValueError if the value is not present.\n",
      "\n",
      "DATA\n",
      "    test = <scipy._lib._testutils.PytestTester object>\n",
      "\n",
      "VERSION\n",
      "    1.8.0\n",
      "\n",
      "FILE\n",
      "    /opt/homebrew/Caskroom/miniforge/base/envs/lhl_env38/lib/python3.8/site-packages/scipy/__init__.py\n",
      "\n",
      "\n"
     ]
    }
   ],
   "source": [
    "help(scipy)"
   ]
  },
  {
   "cell_type": "code",
   "execution_count": null,
   "metadata": {},
   "outputs": [],
   "source": [
    "# using scipy.cluster.vq: kmeans clustering algo with vector quantization"
   ]
  },
  {
   "cell_type": "code",
   "execution_count": 9,
   "metadata": {},
   "outputs": [],
   "source": [
    "from pathlib import Path\n",
    "import numpy as np\n",
    "from scipy.cluster.vq import whiten, kmeans, vq"
   ]
  },
  {
   "cell_type": "code",
   "execution_count": 15,
   "metadata": {},
   "outputs": [],
   "source": [
    "data = Path(\"smsspamcollection/SMSSpamCollection\").read_text()\n",
    "data = data.strip() # removes trailing space\n",
    "data = data.split(\"\\n\") #split string into a list based on new line\n"
   ]
  },
  {
   "cell_type": "code",
   "execution_count": 16,
   "metadata": {},
   "outputs": [],
   "source": [
    "# use numpy to count digits in the data - could be done with collections.Counter - but cluster.vq needs numpy array"
   ]
  },
  {
   "cell_type": "code",
   "execution_count": 19,
   "metadata": {},
   "outputs": [],
   "source": [
    "# creates an empty array with two columns and rows from the data (5574)\n",
    "digit_counts = np.empty((len(data), 2), dtype=int)"
   ]
  },
  {
   "cell_type": "code",
   "execution_count": null,
   "metadata": {},
   "outputs": [],
   "source": [
    "# use digit counts to associate number of digits in the message to determine spam or not\n",
    "# creating an array before loop so it's not allocating new memory as the array expands "
   ]
  },
  {
   "cell_type": "code",
   "execution_count": 20,
   "metadata": {},
   "outputs": [],
   "source": [
    "for i, line in enumerate(data): # uses enumerate to create a counter and index for the list\n",
    "    case, message = line.split(\"\\t\") #splits case and message as two columns \n",
    "    num_digits = sum(c.isdigit() for c in message) #check sum of is digit for each line \n",
    "    digit_counts[i, 0] = 0 if case == \"ham\" else 1 # 0 for ham, and 1 for spam\n",
    "    digit_counts[i, 1] = num_digits # add num_digits to that index\n"
   ]
  },
  {
   "cell_type": "code",
   "execution_count": 21,
   "metadata": {},
   "outputs": [
    {
     "data": {
      "text/plain": [
       "array([[ 0,  0],\n",
       "       [ 0,  0],\n",
       "       [ 1, 25],\n",
       "       [ 0,  0],\n",
       "       [ 0,  0],\n",
       "       [ 1,  4],\n",
       "       [ 0,  0],\n",
       "       [ 0,  1],\n",
       "       [ 1, 19],\n",
       "       [ 1, 13]])"
      ]
     },
     "execution_count": 21,
     "metadata": {},
     "output_type": "execute_result"
    }
   ],
   "source": [
    "digit_counts[:10,:]"
   ]
  },
  {
   "cell_type": "code",
   "execution_count": null,
   "metadata": {},
   "outputs": [],
   "source": [
    "# use clustering algo with number of messages with certain number of digits\n",
    "# create an array where first column = number of digits, 2nd column number of messages that have that number of digits (value counts?)"
   ]
  },
  {
   "cell_type": "code",
   "execution_count": 23,
   "metadata": {},
   "outputs": [],
   "source": [
    "# np.unique() takes an array, and returns another array with unique elements from the argument\n",
    "# return_counts returns number of times that element is in the array\n",
    "unique_counts = np.unique(digit_counts[:,1], return_counts=True)"
   ]
  },
  {
   "cell_type": "code",
   "execution_count": 25,
   "metadata": {},
   "outputs": [
    {
     "data": {
      "text/plain": [
       "(array([ 0,  1,  2,  3,  4,  5,  6,  7,  8,  9, 10, 11, 12, 13, 14, 15, 16,\n",
       "        17, 18, 19, 20, 21, 22, 23, 24, 25, 26, 27, 28, 29, 30, 31, 32, 33,\n",
       "        34, 35, 36, 37, 40, 41, 47]),\n",
       " array([4110,  486,  160,   78,   42,   39,   16,   14,   28,   17,   16,\n",
       "          34,   30,   31,   37,   29,   35,   33,   41,   47,   18,   31,\n",
       "          28,   36,   34,   16,   16,   13,   19,    9,    2,    6,    3,\n",
       "           4,    3,    4,    1,    1,    4,    2,    1]))"
      ]
     },
     "execution_count": 25,
     "metadata": {},
     "output_type": "execute_result"
    }
   ],
   "source": [
    "# two arrays with number of digits, and number of cases with those digits\n",
    "unique_counts"
   ]
  },
  {
   "cell_type": "code",
   "execution_count": 26,
   "metadata": {},
   "outputs": [],
   "source": [
    "# transform unique_counts for clustering\n",
    "# vstack combines the two arrays into 2xN arrays, and then transpose them to a Nx2 array\n",
    "unique_counts = np.transpose(np.vstack(unique_counts))"
   ]
  },
  {
   "cell_type": "code",
   "execution_count": 28,
   "metadata": {},
   "outputs": [
    {
     "data": {
      "text/plain": [
       "array([[   0, 4110],\n",
       "       [   1,  486],\n",
       "       [   2,  160],\n",
       "       [   3,   78],\n",
       "       [   4,   42],\n",
       "       [   5,   39],\n",
       "       [   6,   16],\n",
       "       [   7,   14],\n",
       "       [   8,   28],\n",
       "       [   9,   17]])"
      ]
     },
     "execution_count": 28,
     "metadata": {},
     "output_type": "execute_result"
    }
   ],
   "source": [
    "# number of digits in a message, number of messages in rows\n",
    "unique_counts[:10,:]"
   ]
  },
  {
   "cell_type": "code",
   "execution_count": 29,
   "metadata": {},
   "outputs": [],
   "source": [
    "# now ready for k-means algo\n",
    "# whiten normalizes each feature to have a unit variance to improve kmeans results  (?)\n",
    "whitened_counts = whiten(unique_counts)\n",
    "\n",
    "# kmeans is the whitened data, and number of clusters - ham, spam, unknown\n",
    "# codebook gives 3x2 array, with centroids of each group \n",
    "# _ gives the mean euclidian distance between observations and centroids - not needed anymore\n",
    "codebook, _ = kmeans(whitened_counts, 3)"
   ]
  },
  {
   "cell_type": "code",
   "execution_count": 31,
   "metadata": {},
   "outputs": [
    {
     "data": {
      "text/plain": [
       "array([[2.52050073, 0.01840656],\n",
       "       [0.85234324, 0.09724666],\n",
       "       [0.        , 6.49364346]])"
      ]
     },
     "execution_count": 31,
     "metadata": {},
     "output_type": "execute_result"
    }
   ],
   "source": [
    "codebook"
   ]
  },
  {
   "cell_type": "code",
   "execution_count": 33,
   "metadata": {},
   "outputs": [],
   "source": [
    "# determining which cluster each observation belongs to using vq \n",
    "# assigns codes from the codebook to each observation (cluster), each observation is assigned either 0,1, or 2\n",
    "# _ euclidian distance between observation and centroid\n",
    "codes, _ = vq(whitened_counts, codebook)"
   ]
  },
  {
   "cell_type": "code",
   "execution_count": 36,
   "metadata": {},
   "outputs": [
    {
     "data": {
      "text/plain": [
       "array([2, 1, 1, 1, 1, 1, 1, 1, 1, 1, 1, 1, 1, 1, 1, 1, 1, 1, 1, 1, 1, 0,\n",
       "       0, 0, 0, 0, 0, 0, 0, 0, 0, 0, 0, 0, 0, 0, 0, 0, 0, 0, 0],\n",
       "      dtype=int32)"
      ]
     },
     "execution_count": 36,
     "metadata": {},
     "output_type": "execute_result"
    }
   ],
   "source": [
    "codes"
   ]
  },
  {
   "cell_type": "code",
   "execution_count": 34,
   "metadata": {},
   "outputs": [],
   "source": [
    "# assign code to find code associated with each cluster \n",
    "ham_code = codes[0] # finds code associated with ham, since ham should have smallest digits, it is in beginning of codes\n",
    "spam_code = codes[-1] # spam has most messages - and therefore the last cluster in codes\n",
    "unknown_code = list(set(range(3)) ^ set((ham_code, spam_code)))[0] # use symmetric difference to determine the last code value (?)"
   ]
  },
  {
   "cell_type": "code",
   "execution_count": 35,
   "metadata": {},
   "outputs": [
    {
     "name": "stdout",
     "output_type": "stream",
     "text": [
      "definitely ham: [   0 4110]\n",
      "definitely spam: [47  1]\n",
      "unknown: [20 18]\n"
     ]
    }
   ],
   "source": [
    "print(\"definitely ham:\", unique_counts[codes == ham_code][-1]) #0 digits definitely ham\n",
    "print(\"definitely spam:\", unique_counts[codes == spam_code][-1]) #21 to 47 (max num of digits) digits definitely spam \n",
    "print(\"unknown:\", unique_counts[codes == unknown_code][-1]) #unknown 1-20 digits"
   ]
  },
  {
   "cell_type": "code",
   "execution_count": null,
   "metadata": {},
   "outputs": [],
   "source": []
  },
  {
   "cell_type": "code",
   "execution_count": 37,
   "metadata": {},
   "outputs": [],
   "source": [
    "# check accuracy of predictions \n",
    "# create masks for digit counts to grab ham/spam status based on the kmeans results\n",
    "digits = digit_counts[:, 1]\n",
    "predicted_hams = digits == 0\n",
    "predicted_spams = digits > 20\n",
    "predicted_unknowns = np.logical_and(digits > 0, digits <= 20)"
   ]
  },
  {
   "cell_type": "code",
   "execution_count": 38,
   "metadata": {},
   "outputs": [],
   "source": [
    "spam_cluster = digit_counts[predicted_spams]\n",
    "ham_cluster = digit_counts[predicted_hams]\n",
    "unk_cluster = digit_counts[predicted_unknowns]"
   ]
  },
  {
   "cell_type": "code",
   "execution_count": 39,
   "metadata": {},
   "outputs": [
    {
     "name": "stdout",
     "output_type": "stream",
     "text": [
      "hams: (array([0, 1]), array([4071,   39]))\n",
      "spams: (array([0, 1]), array([  1, 232]))\n",
      "unknowns: (array([0, 1]), array([755, 476]))\n"
     ]
    }
   ],
   "source": [
    "print(\"hams:\", np.unique(ham_cluster[:, 0], return_counts=True))\n",
    "print(\"spams:\", np.unique(spam_cluster[:, 0], return_counts=True))\n",
    "print(\"unknowns:\", np.unique(unk_cluster[:, 0], return_counts=True))"
   ]
  },
  {
   "cell_type": "code",
   "execution_count": null,
   "metadata": {},
   "outputs": [],
   "source": [
    "# 4110 - were identifies as definitely ham, 4071 were actually ham, but 39 spams - from initial labels\n",
    "# 233 - were identified as definite spam - 1 was ham, and 232 were spam\n",
    "# 1200 fell as unkowns - not that great. "
   ]
  },
  {
   "cell_type": "markdown",
   "metadata": {},
   "source": [
    "#### Using the Optimize Module in Scipy\n",
    "* to optimize input params of a function, all f'n performs optimization\n",
    "* minimize_scalar() and minimize() - minimize function of one var (minimize_scalar) and multiple variables (minimize)\n",
    "* curve_fit() - fits a function to a set of data\n",
    "* root_scalar() and root() - find zeros of a function for one or many variables, respectively\n",
    "* linprog() - minimize linear objective function that has linear inequality and equality constraints\n",
    "\n",
    "#### Minimize a function with one variable\n",
    "* one number input and gives one output = scalar function "
   ]
  },
  {
   "cell_type": "code",
   "execution_count": 40,
   "metadata": {},
   "outputs": [],
   "source": [
    "from scipy.optimize import minimize_scalar\n",
    "\n",
    "def objective_function(x):\n",
    "    return 3 * x ** 4 - 2 * x + 1"
   ]
  },
  {
   "cell_type": "code",
   "execution_count": 41,
   "metadata": {},
   "outputs": [],
   "source": [
    "# for a quadratic function finding the minimum\n",
    "# can be any function as long as it returns a single number at the end\n",
    "# minimize_scalar takes one input, the objective_function\n",
    "res = minimize_scalar(objective_function)"
   ]
  },
  {
   "cell_type": "code",
   "execution_count": 42,
   "metadata": {},
   "outputs": [
    {
     "data": {
      "text/plain": [
       "     fun: 0.17451818777634331\n",
       " message: '\\nOptimization terminated successfully;\\nThe returned value satisfies the termination criteria\\n(using xtol = 1.48e-08 )'\n",
       "    nfev: 16\n",
       "     nit: 12\n",
       " success: True\n",
       "       x: 0.5503212087491959"
      ]
     },
     "execution_count": 42,
     "metadata": {},
     "output_type": "execute_result"
    }
   ],
   "source": [
    "# reports when optimization was successful, fun is the value of the function at optimal value x\n",
    "res"
   ]
  },
  {
   "cell_type": "code",
   "execution_count": 43,
   "metadata": {},
   "outputs": [],
   "source": [
    "# when there is no minimum will result in OverflowError - optimizer tries a number that is too big to be calculated by the computer \n",
    "def objective_func2(x):\n",
    "    return x**3"
   ]
  },
  {
   "cell_type": "code",
   "execution_count": null,
   "metadata": {},
   "outputs": [],
   "source": [
    "res2=minimize_scalar(objective_func2)\n",
    "res2"
   ]
  },
  {
   "cell_type": "code",
   "execution_count": 45,
   "metadata": {},
   "outputs": [],
   "source": [
    "# for functions that have several minima, not guaranteed to find a global minimum\n",
    "# built-in methods: brent (default), golden ('golden-section' search), bounded (when minimum is in known range)\n",
    "# when method is brent or golden, need argument 'bracket' - sequence of 2 or 3 elements provides the initial guess for the bounds of region w/ minimum\n",
    "# minimum found may not be in tese bounds \n",
    "\n",
    "def objective_func3(x):\n",
    "    return x ** 4 - x ** 2"
   ]
  },
  {
   "cell_type": "code",
   "execution_count": 47,
   "metadata": {},
   "outputs": [
    {
     "data": {
      "text/plain": [
       "     fun: -0.24999999999999994\n",
       " message: '\\nOptimization terminated successfully;\\nThe returned value satisfies the termination criteria\\n(using xtol = 1.48e-08 )'\n",
       "    nfev: 15\n",
       "     nit: 11\n",
       " success: True\n",
       "       x: 0.7071067853059209"
      ]
     },
     "execution_count": 47,
     "metadata": {},
     "output_type": "execute_result"
    }
   ],
   "source": [
    "# default with brent detects one minimum but not the symmetric minimum on the negative\n",
    "res3 = minimize_scalar(objective_func3)\n",
    "res3"
   ]
  },
  {
   "cell_type": "code",
   "execution_count": 50,
   "metadata": {},
   "outputs": [
    {
     "data": {
      "text/plain": [
       "     fun: -0.24999999999999997\n",
       " message: '\\nOptimization terminated successfully;\\nThe returned value satisfies the termination criteria\\n(using xtol = 1.48e-08 )'\n",
       "    nfev: 17\n",
       "     nit: 13\n",
       " success: True\n",
       "       x: 0.7071067809244586"
      ]
     },
     "execution_count": 50,
     "metadata": {},
     "output_type": "execute_result"
    }
   ],
   "source": [
    "# can specify the bracket argument - doesn't always work \n",
    "res4 = minimize_scalar(objective_func3, bracket=(-1, 0))\n",
    "res4"
   ]
  },
  {
   "cell_type": "code",
   "execution_count": 52,
   "metadata": {},
   "outputs": [
    {
     "data": {
      "text/plain": [
       "     fun: -0.24999999999998732\n",
       " message: 'Solution found.'\n",
       "    nfev: 10\n",
       "     nit: 10\n",
       "  status: 0\n",
       " success: True\n",
       "       x: -0.707106701474177"
      ]
     },
     "execution_count": 52,
     "metadata": {},
     "output_type": "execute_result"
    }
   ],
   "source": [
    "# use bounded to find the minimum at negative x \n",
    "res5 = minimize_scalar(objective_func3, method='bounded', bounds=(-1, 0))\n",
    "res5"
   ]
  },
  {
   "cell_type": "markdown",
   "metadata": {},
   "source": [
    "#### minimizing a function with many variables\n",
    "* for multivariate inputs and outputs\n",
    "* has more complex optimization algorithms\n",
    "* can have constraints:\n",
    "    * LinearConstraint: solution is constrained by taking the **inner product** of the solution x values with a user-input array and comparing the result to a lower and upper bound.\n",
    "    * NonlinearConstraint:  solution is constrained by applying a **user-supplied function** to the solution x values and comparing the return value with a lower and upper bound.\n",
    "    * Bounds: solution x values are constrained to lie between a lower and upper bound\n",
    "\n",
    "* constrained optimization problem - for maximizing total income\n",
    "    * minimize() finds the min value, multiply objective function by -1 to find x-values that lead to largest negative number \n",
    "    * constraint - sum of total shares purchased > number of shares own \n",
    "    * bounds - each buyer has an upper bound of cash available and lower bound of zero, lower than zero means you pay the buyers"
   ]
  },
  {
   "cell_type": "code",
   "execution_count": 53,
   "metadata": {},
   "outputs": [],
   "source": [
    "import numpy as np\n",
    "from scipy.optimize import minimize, LinearConstraint\n",
    "\n",
    "n_buyers = 10\n",
    "n_shares = 15"
   ]
  },
  {
   "cell_type": "code",
   "execution_count": 54,
   "metadata": {},
   "outputs": [],
   "source": [
    "# set array for price that each buyer pays, and number they can afford based on the first two arrays\n",
    "np.random.seed(10) #ensures same output everytime\n",
    "prices = np.random.random(n_buyers) #creates prices (0 to 1) based on number of buyers  \n",
    "money_available = np.random.randint(1, 4, n_buyers) #generate from 1-4 with size of buyers, how much each buyer has"
   ]
  },
  {
   "cell_type": "code",
   "execution_count": 55,
   "metadata": {},
   "outputs": [
    {
     "name": "stdout",
     "output_type": "stream",
     "text": [
      "[0.77132064 0.02075195 0.63364823 0.74880388 0.49850701 0.22479665\n",
      " 0.19806286 0.76053071 0.16911084 0.08833981]\n",
      "[1 1 1 3 1 3 3 2 1 1]\n",
      "[ 1.29647768 48.18824404  1.57816269  4.00638948  2.00598984 13.34539487\n",
      " 15.14670609  2.62974258  5.91328161 11.3199242 ]\n"
     ]
    }
   ],
   "source": [
    "# computing number of shares each buyer can buy\n",
    "n_shares_per_buyer = money_available / prices #ratio of money_avail with prices to get the max number of shares each buyer can purchase\n",
    "print(prices, money_available, n_shares_per_buyer, sep=\"\\n\")"
   ]
  },
  {
   "cell_type": "code",
   "execution_count": null,
   "metadata": {},
   "outputs": [],
   "source": [
    "# now create constraints and bounds for the solver\n",
    "# constraint - involves more than one solution - sum of total purchased shares can't be greater than total num of shares\n",
    "# take the dot or inner product of a vector of ones with the solution values, and constrain that to be equal to n_shares.\n",
    "# i.e. use linearConstraints"
   ]
  },
  {
   "cell_type": "code",
   "execution_count": 56,
   "metadata": {},
   "outputs": [],
   "source": [
    "constraint = LinearConstraint(np.ones(n_buyers), lb=n_shares, ub=n_shares) #lower and upper bound, should return the sum of purchased shares \n",
    "#lb = ub = n_shares, this is an equality constraint because the sum of the values must be equal to both lb and ub\n",
    "# lb were different from ub, then it would be an inequality constraint."
   ]
  },
  {
   "cell_type": "code",
   "execution_count": 57,
   "metadata": {},
   "outputs": [],
   "source": [
    "# minimize() expects bounds to be a sequence of tuples of lower and upper bounds\n",
    "# want to make the negative of your income as large a negative as possible \n",
    "bounds = [(0, n) for n in n_shares_per_buyer]"
   ]
  },
  {
   "cell_type": "code",
   "execution_count": 59,
   "metadata": {},
   "outputs": [],
   "source": [
    "# income generated from each sale is price that the buyer pays * number of shares they are buying, i.e. the dot or inner product\n",
    "# turned negative to get the number as small as possible\n",
    "def objective_function(x, prices):\n",
    "    return -x.dot(prices)"
   ]
  },
  {
   "cell_type": "code",
   "execution_count": 60,
   "metadata": {},
   "outputs": [],
   "source": [
    "res = minimize(\n",
    "    objective_function, #objective function that is being optimized\n",
    "    x0=10 * np.random.random(n_buyers), #x0 - initial guess for the values of the solution, a random array of values between 0 and 10 w/ length n_buyers\n",
    "    args=(prices,), #tuple of other arguments, in the function prices\n",
    "    constraints=constraint, #sequence of constraints\n",
    "    bounds=bounds, #sequence of bounds\n",
    ")\n"
   ]
  },
  {
   "cell_type": "code",
   "execution_count": 61,
   "metadata": {},
   "outputs": [
    {
     "data": {
      "text/plain": [
       "     fun: -8.78302015708768\n",
       "     jac: array([-0.7713207 , -0.02075195, -0.63364828, -0.74880397, -0.49850702,\n",
       "       -0.22479665, -0.1980629 , -0.76053071, -0.16911089, -0.08833981])\n",
       " message: 'Optimization terminated successfully'\n",
       "    nfev: 187\n",
       "     nit: 17\n",
       "    njev: 17\n",
       "  status: 0\n",
       " success: True\n",
       "       x: array([1.29647768e+00, 3.73026111e-14, 1.57816269e+00, 4.00638948e+00,\n",
       "       2.00598984e+00, 3.48323773e+00, 6.66133815e-16, 2.62974258e+00,\n",
       "       2.79628716e-15, 5.05103555e-15])"
      ]
     },
     "execution_count": 61,
     "metadata": {},
     "output_type": "execute_result"
    }
   ],
   "source": [
    "res"
   ]
  },
  {
   "cell_type": "code",
   "execution_count": null,
   "metadata": {},
   "outputs": [],
   "source": [
    "#  status = 0 means successful optimization \n",
    "# fun - value of the objective function at the optimized solution values = 8.78 income from this sale\n",
    "# res.x is the values of x that optimize the function\n",
    "# sell about 1.3 shares to first buyer, 0 to second, 1.6 to the third, and 4 to the 4th"
   ]
  },
  {
   "cell_type": "code",
   "execution_count": 63,
   "metadata": {},
   "outputs": [
    {
     "name": "stdout",
     "output_type": "stream",
     "text": [
      "The total number of shares is: 14.999999999999996\n",
      "Leftover money for each buyer: [3.66373598e-15 1.00000000e+00 1.77635684e-15 3.55271368e-15\n",
      " 2.10942375e-15 2.21697984e+00 3.00000000e+00 4.88498131e-15\n",
      " 1.00000000e+00 1.00000000e+00]\n"
     ]
    }
   ],
   "source": [
    "# Check and make sure that the constraints and bounds that you set are satisfied. You can do this with the following code:\n",
    "# each value should be positive \n",
    "\n",
    "\n",
    "print(\"The total number of shares is:\", sum(res.x))\n",
    "print(\"Leftover money for each buyer:\", money_available - res.x * prices)"
   ]
  },
  {
   "cell_type": "code",
   "execution_count": null,
   "metadata": {},
   "outputs": [],
   "source": [
    "# errors \n",
    "# status 9 - iteration limit is exceeded\n",
    "# there's no solution e.g. when 1000 shares are being sold,to the same buyers, not enough money and buyers in the marker\n",
    "# make sure to check this to be sure"
   ]
  }
 ],
 "metadata": {
  "kernelspec": {
   "display_name": "lhl_env38",
   "language": "python",
   "name": "lhl_env38"
  },
  "language_info": {
   "codemirror_mode": {
    "name": "ipython",
    "version": 3
   },
   "file_extension": ".py",
   "mimetype": "text/x-python",
   "name": "python",
   "nbconvert_exporter": "python",
   "pygments_lexer": "ipython3",
   "version": "3.8.13"
  },
  "orig_nbformat": 4
 },
 "nbformat": 4,
 "nbformat_minor": 2
}
