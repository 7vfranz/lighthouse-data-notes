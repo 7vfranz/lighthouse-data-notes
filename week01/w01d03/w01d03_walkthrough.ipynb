{
 "cells": [
  {
   "cell_type": "code",
   "execution_count": null,
   "id": "7d252f1c-4d18-49e9-a1bf-0efef15f6933",
   "metadata": {},
   "outputs": [],
   "source": [
    "import requests as re\n",
    "import os"
   ]
  },
  {
   "cell_type": "code",
   "execution_count": null,
   "id": "e25dd24d-bc2c-42eb-8e7b-449914a40502",
   "metadata": {},
   "outputs": [],
   "source": [
    "api_key = os.environ.get('FOURSQUARE_API')\n",
    "location = 'Toronto,Canada'\n",
    "url = \"https://api.foursquare.com/v3/places/search?near=\"+location\n",
    "headers = {\"Accept\": \"application/json\"}\n",
    "headers['Authorization'] = api_key\n",
    "response = re.get(url,headers=headers)\n",
    "print(response)\n",
    "#print(response.json())"
   ]
  },
  {
   "cell_type": "code",
   "execution_count": null,
   "id": "48e60d89-dbb7-4f07-b80e-7290683051f2",
   "metadata": {},
   "outputs": [],
   "source": [
    "resp_git = re.get('https://api.github.com')"
   ]
  },
  {
   "cell_type": "code",
   "execution_count": null,
   "id": "640f75b3-d924-4ed4-84ef-c4e82a784d9f",
   "metadata": {},
   "outputs": [],
   "source": [
    "resp_git.status_code"
   ]
  },
  {
   "cell_type": "code",
   "execution_count": null,
   "id": "3ae96fed-0a16-4ea1-ae2e-a5501e747121",
   "metadata": {},
   "outputs": [],
   "source": [
    "# only says that it was a general success - could still have 204 NO CONTENT even if success \n",
    "if resp_git:\n",
    "    print('Success')\n",
    "else:\n",
    "    print('Error')"
   ]
  },
  {
   "cell_type": "code",
   "execution_count": null,
   "id": "7f6ea4b1-d80c-441b-8177-f5904c4833e8",
   "metadata": {},
   "outputs": [],
   "source": [
    "# .raise_for_status() if response is successful no exception raised"
   ]
  },
  {
   "cell_type": "code",
   "execution_count": null,
   "id": "fa344084-67bf-4a6e-8bd1-38b620c9cc3b",
   "metadata": {},
   "outputs": [],
   "source": [
    "resp_git.content #raw bytes"
   ]
  },
  {
   "cell_type": "code",
   "execution_count": null,
   "id": "7e7acd6f-87b6-48b7-977b-26dfbf43ffa4",
   "metadata": {},
   "outputs": [],
   "source": [
    "resp_git.text # returns the content as a string, guesses the encoding, default is utf-8"
   ]
  },
  {
   "cell_type": "code",
   "execution_count": null,
   "id": "2337d264-d9d7-460f-99fd-e99c13a6ff96",
   "metadata": {},
   "outputs": [],
   "source": [
    "resp_git.encoding = 'utf-8' # converts to encoding scheme "
   ]
  },
  {
   "cell_type": "code",
   "execution_count": null,
   "id": "32c450ad-4d75-4825-adbb-36bed7707d05",
   "metadata": {},
   "outputs": [],
   "source": [
    "resp_git.json() #turns this all into a dictionary"
   ]
  },
  {
   "cell_type": "code",
   "execution_count": null,
   "id": "696ed54b-ea98-4f73-a878-bdb6e41f258c",
   "metadata": {},
   "outputs": [],
   "source": [
    "resp_git.headers['Content-Type']"
   ]
  },
  {
   "cell_type": "markdown",
   "id": "fa30cfa4-1612-4bcb-9be4-745f0bf5799c",
   "metadata": {},
   "source": [
    "## Query String Parameters"
   ]
  },
  {
   "cell_type": "code",
   "execution_count": null,
   "id": "df9cf7ce-1de9-4be6-9455-28b82d587ae1",
   "metadata": {},
   "outputs": [],
   "source": [
    "# done through params from get \n",
    "# done to customize the GET request"
   ]
  },
  {
   "cell_type": "code",
   "execution_count": null,
   "id": "c48ca40f-2b66-4043-bbb2-563e366c799e",
   "metadata": {},
   "outputs": [],
   "source": [
    "resp_git2 = re.get(\n",
    "    'https://api.github.com/search/repositories',\n",
    "    params={'q': 'requests+language:python'},\n",
    ")\n",
    "\n",
    "jsonRespGit2 = resp_git2.json()\n",
    "repository = jsonRespGit2['items'][0]\n",
    "print(repository['name'])\n",
    "print(repository['description'])\n",
    "\n",
    "#the params parameter modifies results that come back from the search API\n",
    "# params don't have to be a dictionary can be tuples or even bytes "
   ]
  },
  {
   "cell_type": "code",
   "execution_count": null,
   "id": "c64dc054-e574-4054-9222-0f0db68a0c0f",
   "metadata": {},
   "outputs": [],
   "source": [
    "resp_git3 = re.get(\n",
    "    'https://api.github.com/search/repositories',\n",
    "    params={'q': 'requests+language:python'},\n",
    "    headers={'Accept': 'application/vnd.github.v3.text-match+json'},\n",
    ")\n",
    "\n",
    "jsonRespGit3 = resp_git3.json()\n",
    "repository1 = jsonRespGit3['items'][0]\n",
    "print(repository1['text_matches'])\n"
   ]
  },
  {
   "cell_type": "code",
   "execution_count": null,
   "id": "5bc14708-69a4-4126-9937-0a6fa96e5b7e",
   "metadata": {},
   "outputs": [],
   "source": [
    "# Parameters are actual data, Headers have 'meta info' \n",
    "# HTTP auto decodes parameters\n",
    "# headers usually need to be manually encoded\n",
    "# headers are hidden, but parameters can be seen by end-users in the URL."
   ]
  },
  {
   "cell_type": "markdown",
   "id": "f882ab7a-7cad-4a1c-8e89-51b84946db8c",
   "metadata": {},
   "source": [
    "## Other HTTP Methods"
   ]
  },
  {
   "cell_type": "code",
   "execution_count": null,
   "id": "b2fe2db1-dc49-466b-9f11-56feb2f63662",
   "metadata": {},
   "outputs": [],
   "source": [
    "# .post, .put, .delete .head .patch .options"
   ]
  }
 ],
 "metadata": {
  "kernelspec": {
   "display_name": "lhl_env",
   "language": "python",
   "name": "lhl_env"
  },
  "language_info": {
   "codemirror_mode": {
    "name": "ipython",
    "version": 3
   },
   "file_extension": ".py",
   "mimetype": "text/x-python",
   "name": "python",
   "nbconvert_exporter": "python",
   "pygments_lexer": "ipython3",
   "version": "3.10.2"
  }
 },
 "nbformat": 4,
 "nbformat_minor": 5
}
