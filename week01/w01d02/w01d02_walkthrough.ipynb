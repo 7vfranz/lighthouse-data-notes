{
 "cells": [
  {
   "cell_type": "code",
   "execution_count": 1,
   "id": "a2359a45-cca2-4dad-950f-ede87f1c8353",
   "metadata": {},
   "outputs": [],
   "source": [
    "x = (1,2,3)"
   ]
  },
  {
   "cell_type": "code",
   "execution_count": 2,
   "id": "5344504f-743b-48aa-9eb8-22228709b9b8",
   "metadata": {},
   "outputs": [],
   "source": [
    "x = (8,2) + x"
   ]
  },
  {
   "cell_type": "code",
   "execution_count": 3,
   "id": "870d599b-a57a-4753-bc32-12c1b5089c58",
   "metadata": {},
   "outputs": [
    {
     "name": "stdout",
     "output_type": "stream",
     "text": [
      "(8, 2, 1, 2, 3)\n"
     ]
    }
   ],
   "source": [
    "print(x)"
   ]
  },
  {
   "cell_type": "code",
   "execution_count": 4,
   "id": "1586fb11-418e-4f88-9501-d9227424e0cf",
   "metadata": {},
   "outputs": [
    {
     "name": "stdout",
     "output_type": "stream",
     "text": [
      "name1 10\n",
      "name2 20\n",
      "name3 30\n"
     ]
    }
   ],
   "source": [
    "course_marks = {'name1':10, 'name2':20, 'name3':30}\n",
    "for key,item in course_marks.items():\n",
    "    print(key,item)"
   ]
  },
  {
   "cell_type": "code",
   "execution_count": 5,
   "id": "5465d290-b46c-4daf-8c0d-f566f566ffb4",
   "metadata": {},
   "outputs": [],
   "source": [
    "y = [\n",
    "    1,2,\n",
    "    3,4,\n",
    "]"
   ]
  },
  {
   "cell_type": "code",
   "execution_count": 6,
   "id": "94fcfd10-d3f3-4980-a2c4-81f8eb1a5095",
   "metadata": {},
   "outputs": [
    {
     "name": "stdout",
     "output_type": "stream",
     "text": [
      "[1, 2, 3, 4]\n"
     ]
    }
   ],
   "source": [
    "print(y)"
   ]
  },
  {
   "cell_type": "code",
   "execution_count": 7,
   "id": "4a9bd734-f0bf-4f59-a1d9-0b94cd147e0c",
   "metadata": {},
   "outputs": [
    {
     "name": "stdout",
     "output_type": "stream",
     "text": [
      "try block\n"
     ]
    },
    {
     "name": "stdin",
     "output_type": "stream",
     "text": [
      "Enter a number:  7\n",
      "Enter another number:  7\n"
     ]
    },
    {
     "name": "stdout",
     "output_type": "stream",
     "text": [
      "else block\n",
      "Division =  1.0\n",
      "finally block\n",
      "Out of try, except, else and finally blocks.\n"
     ]
    }
   ],
   "source": [
    "try:\n",
    "    print('try block')\n",
    "    x=int(input('Enter a number: '))\n",
    "    y=int(input('Enter another number: '))\n",
    "    z=x/y\n",
    "except ZeroDivisionError:\n",
    "    print(\"except ZeroDivisionError block\")\n",
    "    print(\"Division by 0 not accepted\")\n",
    "else:\n",
    "    print(\"else block\")\n",
    "    print(\"Division = \", z)\n",
    "finally:\n",
    "    print(\"finally block\")\n",
    "    x=0\n",
    "    y=0\n",
    "print (\"Out of try, except, else and finally blocks.\" )\n"
   ]
  },
  {
   "cell_type": "code",
   "execution_count": 8,
   "id": "73f0dd72-05b0-4842-864c-af71e3418b01",
   "metadata": {},
   "outputs": [
    {
     "name": "stdin",
     "output_type": "stream",
     "text": [
      "Enter a number upto 100:  80\n"
     ]
    },
    {
     "name": "stdout",
     "output_type": "stream",
     "text": [
      "80 is within the allowed range\n"
     ]
    }
   ],
   "source": [
    "try:\n",
    "    x=int(input('Enter a number upto 100: '))\n",
    "    if x > 100:\n",
    "        raise ValueError(x)\n",
    "except ValueError:\n",
    "    print(x, \"is out of allowed range\")\n",
    "else:\n",
    "    print(x, \"is within the allowed range\")"
   ]
  },
  {
   "cell_type": "code",
   "execution_count": 15,
   "id": "7c0391fc-ee66-4000-8248-d4cfe16d1ad4",
   "metadata": {},
   "outputs": [
    {
     "name": "stdout",
     "output_type": "stream",
     "text": [
      "Old list: [[1, 1, 1], [2, 'AA', 2], [3, 3, 3]]\n",
      "New list: [[1, 1, 1], [2, 'AA', 2], [3, 3, 3]]\n"
     ]
    }
   ],
   "source": [
    "import copy\n",
    "\n",
    "old_list = [[1, 1, 1], [2, 2, 2], [3, 3, 3]]\n",
    "new_list = copy.copy(old_list)\n",
    "\n",
    "old_list[1][1] = 'AA'\n",
    "\n",
    "print(\"Old list:\", old_list)\n",
    "print(\"New list:\", new_list)\n"
   ]
  },
  {
   "cell_type": "code",
   "execution_count": 16,
   "id": "8bea0206-3df0-4409-ac67-78a1453681a9",
   "metadata": {},
   "outputs": [
    {
     "name": "stdout",
     "output_type": "stream",
     "text": [
      "Old list: [[1, 1, 1], ['BB', 2, 2], [3, 3, 3]]\n",
      "New list: [[1, 1, 1], [2, 2, 2], [3, 3, 3]]\n"
     ]
    }
   ],
   "source": [
    "import copy\n",
    "\n",
    "old_list = [[1, 1, 1], [2, 2, 2], [3, 3, 3]]\n",
    "new_list = copy.deepcopy(old_list)\n",
    "\n",
    "old_list[1][0] = 'BB'\n",
    "\n",
    "print(\"Old list:\", old_list)\n",
    "print(\"New list:\", new_list)\n"
   ]
  },
  {
   "cell_type": "code",
   "execution_count": 19,
   "id": "45f309cf-31a3-40e2-a1f5-22631e9190bc",
   "metadata": {},
   "outputs": [
    {
     "data": {
      "text/plain": [
       "[[10, 20], [30, 40], [50, 60]]"
      ]
     },
     "execution_count": 19,
     "metadata": {},
     "output_type": "execute_result"
    }
   ],
   "source": [
    "l1=[[10, 20], [30, 40], [50, 60]] \n",
    "ls=list(l1)\n",
    "ls\n",
    "\n"
   ]
  },
  {
   "cell_type": "code",
   "execution_count": 20,
   "id": "de8fc6f0-ec32-4419-9774-acdb21b0a010",
   "metadata": {},
   "outputs": [],
   "source": [
    "from collections import namedtuple\n",
    "fruit = namedtuple('fruit','number variety color')\n",
    "guava = fruit(number=2,variety='HoneyCrisp',color='green')\n",
    "apple = fruit(number=5,variety='Granny Smith',color='red')"
   ]
  },
  {
   "cell_type": "code",
   "execution_count": 21,
   "id": "439fe5c9-fc3d-4e0b-864e-6953325f9d71",
   "metadata": {},
   "outputs": [
    {
     "data": {
      "text/plain": [
       "'green'"
      ]
     },
     "execution_count": 21,
     "metadata": {},
     "output_type": "execute_result"
    }
   ],
   "source": [
    "guava.color"
   ]
  },
  {
   "cell_type": "code",
   "execution_count": 24,
   "id": "b17992fc-aae0-4efe-a96c-95235bd0bba1",
   "metadata": {},
   "outputs": [
    {
     "data": {
      "text/plain": [
       "['a', 'a', 'a', 'b', 'b', 'c']"
      ]
     },
     "execution_count": 24,
     "metadata": {},
     "output_type": "execute_result"
    }
   ],
   "source": [
    "from collections import Counter\n",
    "c = Counter(a=3, b=2, c=1, d=-2)\n",
    "sorted(c.elements())\n"
   ]
  },
  {
   "cell_type": "code",
   "execution_count": 26,
   "id": "65aea142-4185-4ee1-b2a4-7df05f3be4e9",
   "metadata": {},
   "outputs": [
    {
     "name": "stdout",
     "output_type": "stream",
     "text": [
      "['the', 'lazy', 'dog', 'jumped', 'over', 'another', 'lazy', 'dog']\n"
     ]
    },
    {
     "data": {
      "text/plain": [
       "[('lazy', 2),\n",
       " ('dog', 2),\n",
       " ('the', 1),\n",
       " ('jumped', 1),\n",
       " ('over', 1),\n",
       " ('another', 1)]"
      ]
     },
     "execution_count": 26,
     "metadata": {},
     "output_type": "execute_result"
    }
   ],
   "source": [
    "s = 'the lazy dog jumped over another lazy dog'\n",
    "words = s.split()\n",
    "print(words)\n",
    "Counter(words).most_common()"
   ]
  },
  {
   "cell_type": "code",
   "execution_count": 27,
   "id": "be30d25d-5c88-46c2-b37f-5dbcfea2b9a1",
   "metadata": {},
   "outputs": [],
   "source": [
    "d = {'banana': 3, 'apple': 4, 'pear': 1, 'orange': 2}"
   ]
  },
  {
   "cell_type": "code",
   "execution_count": 32,
   "id": "3feb0775-9d86-4a02-8849-bd532f73e3eb",
   "metadata": {},
   "outputs": [
    {
     "name": "stdout",
     "output_type": "stream",
     "text": [
      "OrderedDict([('apple', 4), ('banana', 3), ('orange', 2), ('pear', 1)])\n"
     ]
    }
   ],
   "source": [
    "from collections import OrderedDict\n",
    "d = OrderedDict(sorted(d.items(), key=lambda t: t[0]))\n",
    "print(d)"
   ]
  },
  {
   "cell_type": "code",
   "execution_count": 52,
   "id": "87595b75-24ca-4287-a2a4-ca6b18084fce",
   "metadata": {},
   "outputs": [
    {
     "name": "stdout",
     "output_type": "stream",
     "text": [
      "Counter({'lazy': 2, 'dog': 2, 'the': 1, 'jumped': 1, 'over': 1, 'another': 1})\n",
      "[('another', 1), ('over', 1), ('jumped', 1), ('the', 1), ('dog', 2)]\n"
     ]
    }
   ],
   "source": [
    "s = 'the lazy dog jumped over another lazy dog'\n",
    "words = s.split()\n",
    "c = Counter(words)\n",
    "print(c)\n",
    "d = c.most_common()[:-5-1:-1]       \n",
    "print(d)"
   ]
  },
  {
   "cell_type": "code",
   "execution_count": 4,
   "id": "fe1f884a-af78-4d9d-869a-5aaecb4d3084",
   "metadata": {},
   "outputs": [
    {
     "name": "stdout",
     "output_type": "stream",
     "text": [
      "[1, 1, 1, 2, 2, 2, 2]\n"
     ]
    }
   ],
   "source": [
    "from collections import Counter\n",
    "cnt = Counter({1:3,2:4})\n",
    "print(list(cnt.elements()))"
   ]
  },
  {
   "cell_type": "code",
   "execution_count": 5,
   "id": "8cecefb5-2071-4c5c-bdef-eaa0718507fd",
   "metadata": {},
   "outputs": [
    {
     "name": "stdout",
     "output_type": "stream",
     "text": [
      "[(1, 3), (2, 2), (3, 2), (4, 1), (6, 1), (7, 1), (8, 1)]\n"
     ]
    }
   ],
   "source": [
    "list1 = [1,2,3,4,1,2,6,7,3,8,1]\n",
    "cnt = Counter(list1)\n",
    "print(cnt.most_common())"
   ]
  },
  {
   "cell_type": "code",
   "execution_count": 10,
   "id": "53487eea-313a-46c8-9fb6-4691bd32b5d2",
   "metadata": {},
   "outputs": [
    {
     "name": "stdout",
     "output_type": "stream",
     "text": [
      "0\n"
     ]
    }
   ],
   "source": [
    "from collections import defaultdict\n",
    "nums = defaultdict(int)\n",
    "nums['one'] = 1\n",
    "print(nums['three'])"
   ]
  },
  {
   "cell_type": "code",
   "execution_count": 11,
   "id": "cfb17b3a-5ce2-4027-b5b4-1e0e35027219",
   "metadata": {},
   "outputs": [
    {
     "name": "stdout",
     "output_type": "stream",
     "text": [
      "defaultdict(<class 'int'>, {'one': 1, 'three': 0})\n"
     ]
    }
   ],
   "source": [
    "print(nums)"
   ]
  },
  {
   "cell_type": "code",
   "execution_count": 12,
   "id": "f18fcca0-cbe6-4ec1-bac2-9566e3e1d21c",
   "metadata": {},
   "outputs": [
    {
     "name": "stdout",
     "output_type": "stream",
     "text": [
      "OrderedDict([('a', 1), ('c', 3), ('b', 2)])\n"
     ]
    }
   ],
   "source": [
    "from collections import OrderedDict\n",
    "od = OrderedDict()\n",
    "od['a'] = 1\n",
    "od['c'] = 3\n",
    "od['b'] = 2\n",
    "print(od)"
   ]
  },
  {
   "cell_type": "code",
   "execution_count": 13,
   "id": "79b278f4-37c3-4249-b94e-673dd6a67782",
   "metadata": {},
   "outputs": [
    {
     "name": "stdout",
     "output_type": "stream",
     "text": [
      "a 4\n",
      "c 3\n",
      "b 2\n"
     ]
    }
   ],
   "source": [
    "list2 = [\"a\",\"c\",\"c\",\"a\",\"b\",\"a\",\"a\",\"b\",\"c\"]\n",
    "cnt = Counter(list2)\n",
    "od = OrderedDict(cnt.most_common())\n",
    "for key, value in od.items():\n",
    "    print(key, value)"
   ]
  },
  {
   "cell_type": "code",
   "execution_count": 14,
   "id": "42bdb23a-af79-4963-95c1-20d1b20387fb",
   "metadata": {},
   "outputs": [
    {
     "name": "stdout",
     "output_type": "stream",
     "text": [
      "[{'a': 1, 'b': 2}, {'c': 3, 'b': 4}]\n"
     ]
    }
   ],
   "source": [
    "from collections import ChainMap\n",
    "dict1 = { 'a' : 1, 'b' : 2 }\n",
    "dict2 = { 'c' : 3, 'b' : 4 }\n",
    "chain_map = ChainMap(dict1, dict2)\n",
    "print(chain_map.maps)"
   ]
  },
  {
   "cell_type": "code",
   "execution_count": 15,
   "id": "dc32477b-1d87-4451-9740-95ad75144a62",
   "metadata": {},
   "outputs": [],
   "source": [
    "from collections import namedtuple"
   ]
  },
  {
   "cell_type": "code",
   "execution_count": 16,
   "id": "ce3fe765-e440-462a-ace6-9c2e64db1943",
   "metadata": {},
   "outputs": [],
   "source": [
    "Student = namedtuple('Student', 'fname, lname, age')\n",
    "s2 = Student._make(['Adam', 'Joe','18'])"
   ]
  },
  {
   "cell_type": "code",
   "execution_count": 17,
   "id": "67e605a3-fd48-4a95-ad8b-402b38125cad",
   "metadata": {},
   "outputs": [
    {
     "name": "stdout",
     "output_type": "stream",
     "text": [
      "Student(fname='Adam', lname='Joe', age='18')\n"
     ]
    }
   ],
   "source": [
    "print(s2)"
   ]
  },
  {
   "cell_type": "code",
   "execution_count": null,
   "id": "d7d598df-578e-4899-a4b1-096d2049b018",
   "metadata": {},
   "outputs": [],
   "source": []
  }
 ],
 "metadata": {
  "kernelspec": {
   "display_name": "lhl_env",
   "language": "python",
   "name": "lhl_env"
  },
  "language_info": {
   "codemirror_mode": {
    "name": "ipython",
    "version": 3
   },
   "file_extension": ".py",
   "mimetype": "text/x-python",
   "name": "python",
   "nbconvert_exporter": "python",
   "pygments_lexer": "ipython3",
   "version": "3.10.2"
  }
 },
 "nbformat": 4,
 "nbformat_minor": 5
}
