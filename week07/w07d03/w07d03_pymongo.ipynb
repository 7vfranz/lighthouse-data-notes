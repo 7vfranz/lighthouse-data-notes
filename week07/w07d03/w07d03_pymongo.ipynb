{
 "cells": [
  {
   "cell_type": "code",
   "execution_count": 1,
   "metadata": {},
   "outputs": [],
   "source": [
    "import pymongo"
   ]
  },
  {
   "cell_type": "code",
   "execution_count": 3,
   "metadata": {},
   "outputs": [
    {
     "data": {
      "text/plain": [
       "MongoClient(host=['localhost:27017'], document_class=dict, tz_aware=False, connect=True)"
      ]
     },
     "execution_count": 3,
     "metadata": {},
     "output_type": "execute_result"
    }
   ],
   "source": [
    "# initiate a MongoClient instance \n",
    "from pymongo import MongoClient\n",
    "client=MongoClient(host='localhost', port=27017) # can specify host, and port these are default\n",
    "client"
   ]
  },
  {
   "cell_type": "code",
   "execution_count": 4,
   "metadata": {},
   "outputs": [
    {
     "data": {
      "text/plain": [
       "Database(MongoClient(host=['localhost:27017'], document_class=dict, tz_aware=False, connect=True), 'rptutorials')"
      ]
     },
     "execution_count": 4,
     "metadata": {},
     "output_type": "execute_result"
    }
   ],
   "source": [
    "db=client.rptutorials #name of database\n",
    "# db=client['rptutorials'] # for dictionary like access \n",
    "db"
   ]
  },
  {
   "cell_type": "code",
   "execution_count": 5,
   "metadata": {},
   "outputs": [],
   "source": [
    "tutorial1={\n",
    "'title':'Test Title',\n",
    "'author':'Franz',\n",
    "'contributors':['p1','p2','p3'],\n",
    "'url':'fakeurl.com'}"
   ]
  },
  {
   "cell_type": "code",
   "execution_count": 6,
   "metadata": {},
   "outputs": [
    {
     "data": {
      "text/plain": [
       "Collection(Database(MongoClient(host=['localhost:27017'], document_class=dict, tz_aware=False, connect=True), 'rptutorials'), 'tutorial')"
      ]
     },
     "execution_count": 6,
     "metadata": {},
     "output_type": "execute_result"
    }
   ],
   "source": [
    "tutorial = db.tutorial # create tutorial collection\n",
    "tutorial"
   ]
  },
  {
   "cell_type": "code",
   "execution_count": 7,
   "metadata": {},
   "outputs": [
    {
     "data": {
      "text/plain": [
       "<pymongo.results.InsertOneResult at 0x110ffa380>"
      ]
     },
     "execution_count": 7,
     "metadata": {},
     "output_type": "execute_result"
    }
   ],
   "source": [
    "# insert tutorial 1\n",
    "result = tutorial.insert_one(tutorial1)\n",
    "result"
   ]
  },
  {
   "cell_type": "code",
   "execution_count": 8,
   "metadata": {},
   "outputs": [
    {
     "name": "stdout",
     "output_type": "stream",
     "text": [
      "One tutorial: 62ab7740e2af765ce3dc8294\n"
     ]
    }
   ],
   "source": [
    "print(f\"One tutorial: {result.inserted_id}\")"
   ]
  },
  {
   "cell_type": "code",
   "execution_count": 9,
   "metadata": {},
   "outputs": [],
   "source": [
    "# for inserting many documents pass a list, where each item is a dictionary\n",
    "# new_result = tutorial.insert_many([item1, item2])"
   ]
  },
  {
   "cell_type": "code",
   "execution_count": 11,
   "metadata": {},
   "outputs": [
    {
     "name": "stdout",
     "output_type": "stream",
     "text": [
      "{'_id': ObjectId('62ab7443fac69062ff65b738'),\n",
      " 'author': 'Franz',\n",
      " 'contributors': ['p1', 'p2', 'p3'],\n",
      " 'title': 'Test Title',\n",
      " 'url': 'fakeurl.com'}\n",
      "{'_id': ObjectId('62ab7740e2af765ce3dc8294'),\n",
      " 'author': 'Franz',\n",
      " 'contributors': ['p1', 'p2', 'p3'],\n",
      " 'title': 'Test Title',\n",
      " 'url': 'fakeurl.com'}\n"
     ]
    }
   ],
   "source": [
    "import pprint\n",
    "for doc in tutorial.find():\n",
    "    pprint.pprint(doc)"
   ]
  },
  {
   "cell_type": "code",
   "execution_count": 12,
   "metadata": {},
   "outputs": [],
   "source": [
    "franz_tutorial = tutorial.find_one({'author':'Franz'})"
   ]
  },
  {
   "cell_type": "code",
   "execution_count": 15,
   "metadata": {},
   "outputs": [
    {
     "data": {
      "text/plain": [
       "{'_id': ObjectId('62ab7443fac69062ff65b738'),\n",
       " 'title': 'Test Title',\n",
       " 'author': 'Franz',\n",
       " 'contributors': ['p1', 'p2', 'p3'],\n",
       " 'url': 'fakeurl.com'}"
      ]
     },
     "execution_count": 15,
     "metadata": {},
     "output_type": "execute_result"
    }
   ],
   "source": [
    "franz_tutorial"
   ]
  },
  {
   "cell_type": "code",
   "execution_count": 14,
   "metadata": {},
   "outputs": [
    {
     "name": "stdout",
     "output_type": "stream",
     "text": [
      "{'_id': ObjectId('62ab7443fac69062ff65b738'),\n",
      " 'author': 'Franz',\n",
      " 'contributors': ['p1', 'p2', 'p3'],\n",
      " 'title': 'Test Title',\n",
      " 'url': 'fakeurl.com'}\n"
     ]
    }
   ],
   "source": [
    "pprint.pprint(franz_tutorial) #pprint just prints it better "
   ]
  },
  {
   "cell_type": "code",
   "execution_count": 16,
   "metadata": {},
   "outputs": [],
   "source": [
    "# can replace, update, delete documents\n",
    "# cloosing connections - done when exiting the application to clear all the acquired resources\n",
    "\n",
    "client.close()"
   ]
  },
  {
   "cell_type": "code",
   "execution_count": null,
   "metadata": {},
   "outputs": [],
   "source": [
    "# to only get what you want and close right after, you can use with statement - context manager protocol\n",
    "# this automatically calls .close()\n",
    "# with MongoClient() as client:\n",
    "#      db = client.rptutorials\n",
    "#      for doc in db.tutorial.find():\n",
    "#          pprint.pprint(doc)"
   ]
  },
  {
   "cell_type": "markdown",
   "metadata": {},
   "source": [
    "#### WORKING WITH MONGOENGINE\n",
    "* higher abstraction with object-document mapper (similar to SQL object-relational mapper)"
   ]
  },
  {
   "cell_type": "code",
   "execution_count": 17,
   "metadata": {},
   "outputs": [
    {
     "data": {
      "text/plain": [
       "MongoClient(host=['localhost:27017'], document_class=dict, tz_aware=False, connect=True, read_preference=Primary())"
      ]
     },
     "execution_count": 17,
     "metadata": {},
     "output_type": "execute_result"
    }
   ],
   "source": [
    "from mongoengine import connect\n",
    "connect(db='rptutorials', host='localhost', port=27017)"
   ]
  },
  {
   "cell_type": "code",
   "execution_count": 18,
   "metadata": {},
   "outputs": [],
   "source": [
    "from mongoengine import Document, ListField, StringField, URLField\n"
   ]
  },
  {
   "cell_type": "code",
   "execution_count": 19,
   "metadata": {},
   "outputs": [],
   "source": [
    "# creating a subclass document and provide fields as class attributes, defining a document schema\n",
    "# similar to making a table in SQL\n",
    "class Tutorial(Document):\n",
    "    title = StringField(required=True, max_length=70)\n",
    "    author = StringField(required=True, max_length=20)\n",
    "    contributors = ListField(StringField(max_length=20))\n",
    "    url = URLField(required=True)"
   ]
  },
  {
   "cell_type": "code",
   "execution_count": 20,
   "metadata": {},
   "outputs": [],
   "source": [
    "# ways to validate fields, and maintain some structure, avoid processing errors and inconsistent behaviour\n",
    "# db_field - different field name\n",
    "# required - ensure field is provided \n",
    "# default - default value given if none\n",
    "# unique - no same values on the field"
   ]
  },
  {
   "cell_type": "code",
   "execution_count": 21,
   "metadata": {},
   "outputs": [
    {
     "data": {
      "text/plain": [
       "<Tutorial: Tutorial object>"
      ]
     },
     "execution_count": 21,
     "metadata": {},
     "output_type": "execute_result"
    }
   ],
   "source": [
    "# .save for saving a document to a database \n",
    "# note the call to class Tutorial to add \n",
    "tutorial1 = Tutorial(\n",
    "    title=\"Beautiful Soup: Build a Web Scraper With Python\",\n",
    "    author=\"Martin\",\n",
    "    contributors=[\"Aldren\", \"Geir Arne\", \"Jaya\", \"Joanna\", \"Mike\"],\n",
    "    url=\"https://realpython.com/beautiful-soup-web-scraper-python/\"\n",
    ")\n",
    "\n",
    "tutorial1.save()  # Insert the new tutorial"
   ]
  },
  {
   "cell_type": "code",
   "execution_count": 23,
   "metadata": {},
   "outputs": [
    {
     "name": "stdout",
     "output_type": "stream",
     "text": [
      "Test Title\n",
      "Test Title\n"
     ]
    }
   ],
   "source": [
    "# if a field is missing e.g. title before save - will give an error - as pymongo does datavalidation\n",
    "# printing specific fields, can also filter the objects printed \n",
    "for doc in Tutorial.objects(author='Franz'):\n",
    "     print(doc.title)"
   ]
  },
  {
   "cell_type": "code",
   "execution_count": null,
   "metadata": {},
   "outputs": [],
   "source": []
  }
 ],
 "metadata": {
  "kernelspec": {
   "display_name": "Python 3.8.13 ('lhl_env38')",
   "language": "python",
   "name": "python3"
  },
  "language_info": {
   "codemirror_mode": {
    "name": "ipython",
    "version": 3
   },
   "file_extension": ".py",
   "mimetype": "text/x-python",
   "name": "python",
   "nbconvert_exporter": "python",
   "pygments_lexer": "ipython3",
   "version": "3.8.13"
  },
  "orig_nbformat": 4,
  "vscode": {
   "interpreter": {
    "hash": "93c9cabeb8165e6a1575ace97e023eeebe73f88984ce88042818ce2a73501ce8"
   }
  }
 },
 "nbformat": 4,
 "nbformat_minor": 2
}
