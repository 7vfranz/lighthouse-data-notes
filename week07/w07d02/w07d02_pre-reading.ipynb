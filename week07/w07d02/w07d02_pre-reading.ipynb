{
 "cells": [
  {
   "cell_type": "markdown",
   "metadata": {},
   "source": [
    "#### Weekend Notes"
   ]
  },
  {
   "cell_type": "markdown",
   "metadata": {},
   "source": [
    "[amazon cloud/web services (AWS)](https://www.guru99.com/what-is-aws.html#4)\n",
    "* many different cloud services\n",
    "    * *elastic cloud (EC2) - cloud computing*\n",
    "    * *RDMS - database migration service - transferring data between datacenter and AWS*\n",
    "    * storage services \n",
    "    * security services\n",
    "    * database services\n",
    "    * management services\n",
    "    * applications, ai, ar, business, mobile services, developer tools etc.\n",
    "    * many big companies use AWS\n",
    "* running and storying data on remote server over the internet\n",
    "* computing platform offered by Amazon\n",
    "* infrastructure as a service (IaaS), platform as service (PaaS), packaged software as a service (SaaS)\n",
    "* low cost, cloud access quickly\n",
    "* disadvantages can hvave downtime, limited control, backup protection\n",
    "* one time payments to not get charged\n",
    "\n",
    "OpenSSH protocol in AWS\n",
    "* using terminal to control remote computers, used with github\n",
    "* primary connectivity tool for remote login with the SSH (secure shell)\n",
    "* encrypts traffic, avoid  eavesdropping, connection hijacking and other attacks\n",
    "* main tools:\n",
    "    * ssh\n",
    "    * scp\n",
    "* SSH\n",
    "    * command for logging in and executing commands on remote machine\n",
    "    * once connected use the same commands as our own terminal\n",
    "    * e.g. github\n",
    "* SCP\n",
    "    * command that copies files between hosts on a network\n",
    "    * works similar to 'cp' command, but with more authentication"
   ]
  },
  {
   "cell_type": "markdown",
   "metadata": {},
   "source": [
    "#### ML and BigData\n",
    "* big data requires cloud computing - not enough ram on computer for terabytes of data\n",
    "* big data can be used for preprocessing, or for modeling itselt will need distributed computing on servers sharing computation power\n",
    "* e.g. for tools to do this is Spark\n",
    "\n",
    "NoSQL\n",
    "* ETL - extract transform load\n",
    "* data is too big to do ETL - must use NoSQL (non-relational)\n",
    "* dynamic schemas for unstructured data (not structured queries)\n",
    "* horizontally scalable\n",
    "* document, key-value, graph, wide-column stores\n",
    "* better for unstructured data like documents and JSON\n",
    "* most popular is MongoDB\n",
    "* accessed with postgres (allows mysql/relational and non-relational) \n",
    "* e.g. table must be made in SQL before creating values, in NoSQL - can just insert data\n",
    "\n",
    "Popular Big Data Technologies\n",
    "* Apache Spark - provides big data langauges (python, java, r, scala)\n",
    "    * uses Hadoop for storage and processing \n",
    "    * for tracking real time transactions\n",
    "* Apache Flink\n",
    "    * community driven open source\n",
    "* NiFi\n",
    "    * NSA project\n",
    "* Kafka\n",
    "    * open soruce\n",
    "    * handles streams of data\n",
    "* Apache Samza\n",
    "* Cloud Dataflow\n"
   ]
  }
 ],
 "metadata": {
  "kernelspec": {
   "display_name": "lhl_env38",
   "language": "python",
   "name": "lhl_env38"
  },
  "language_info": {
   "name": "python",
   "version": "3.8.13"
  },
  "orig_nbformat": 4
 },
 "nbformat": 4,
 "nbformat_minor": 2
}
