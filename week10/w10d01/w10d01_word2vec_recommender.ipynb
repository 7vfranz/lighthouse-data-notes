{
 "cells": [
  {
   "cell_type": "code",
   "execution_count": 56,
   "metadata": {},
   "outputs": [],
   "source": [
    "import pandas as pd\n",
    "import numpy as np\n",
    "from random import random, shuffle"
   ]
  },
  {
   "cell_type": "code",
   "execution_count": 2,
   "metadata": {},
   "outputs": [],
   "source": [
    "df = pd.read_excel('Online Retail.xlsx')"
   ]
  },
  {
   "cell_type": "code",
   "execution_count": 27,
   "metadata": {},
   "outputs": [
    {
     "data": {
      "text/plain": [
       "InvoiceNo           0\n",
       "StockCode           0\n",
       "Description      1454\n",
       "Quantity            0\n",
       "InvoiceDate         0\n",
       "UnitPrice           0\n",
       "CustomerID     135080\n",
       "Country             0\n",
       "dtype: int64"
      ]
     },
     "execution_count": 27,
     "metadata": {},
     "output_type": "execute_result"
    }
   ],
   "source": [
    "df.isna().sum()"
   ]
  },
  {
   "cell_type": "code",
   "execution_count": 28,
   "metadata": {},
   "outputs": [],
   "source": [
    "df.dropna(inplace=True)"
   ]
  },
  {
   "cell_type": "code",
   "execution_count": 29,
   "metadata": {},
   "outputs": [
    {
     "data": {
      "text/plain": [
       "(406829, 8)"
      ]
     },
     "execution_count": 29,
     "metadata": {},
     "output_type": "execute_result"
    }
   ],
   "source": [
    "df.shape"
   ]
  },
  {
   "cell_type": "code",
   "execution_count": 30,
   "metadata": {},
   "outputs": [
    {
     "data": {
      "text/plain": [
       "4372"
      ]
     },
     "execution_count": 30,
     "metadata": {},
     "output_type": "execute_result"
    }
   ],
   "source": [
    "df.CustomerID.nunique()"
   ]
  },
  {
   "cell_type": "code",
   "execution_count": 34,
   "metadata": {},
   "outputs": [
    {
     "data": {
      "text/html": [
       "<div>\n",
       "<style scoped>\n",
       "    .dataframe tbody tr th:only-of-type {\n",
       "        vertical-align: middle;\n",
       "    }\n",
       "\n",
       "    .dataframe tbody tr th {\n",
       "        vertical-align: top;\n",
       "    }\n",
       "\n",
       "    .dataframe thead th {\n",
       "        text-align: right;\n",
       "    }\n",
       "</style>\n",
       "<table border=\"1\" class=\"dataframe\">\n",
       "  <thead>\n",
       "    <tr style=\"text-align: right;\">\n",
       "      <th></th>\n",
       "      <th>InvoiceNo</th>\n",
       "      <th>StockCode</th>\n",
       "      <th>Description</th>\n",
       "      <th>Quantity</th>\n",
       "      <th>InvoiceDate</th>\n",
       "      <th>UnitPrice</th>\n",
       "      <th>CustomerID</th>\n",
       "      <th>Country</th>\n",
       "    </tr>\n",
       "  </thead>\n",
       "  <tbody>\n",
       "    <tr>\n",
       "      <th>0</th>\n",
       "      <td>536365</td>\n",
       "      <td>85123A</td>\n",
       "      <td>WHITE HANGING HEART T-LIGHT HOLDER</td>\n",
       "      <td>6</td>\n",
       "      <td>2010-12-01 08:26:00</td>\n",
       "      <td>2.55</td>\n",
       "      <td>17850.0</td>\n",
       "      <td>United Kingdom</td>\n",
       "    </tr>\n",
       "    <tr>\n",
       "      <th>1</th>\n",
       "      <td>536365</td>\n",
       "      <td>71053</td>\n",
       "      <td>WHITE METAL LANTERN</td>\n",
       "      <td>6</td>\n",
       "      <td>2010-12-01 08:26:00</td>\n",
       "      <td>3.39</td>\n",
       "      <td>17850.0</td>\n",
       "      <td>United Kingdom</td>\n",
       "    </tr>\n",
       "    <tr>\n",
       "      <th>2</th>\n",
       "      <td>536365</td>\n",
       "      <td>84406B</td>\n",
       "      <td>CREAM CUPID HEARTS COAT HANGER</td>\n",
       "      <td>8</td>\n",
       "      <td>2010-12-01 08:26:00</td>\n",
       "      <td>2.75</td>\n",
       "      <td>17850.0</td>\n",
       "      <td>United Kingdom</td>\n",
       "    </tr>\n",
       "    <tr>\n",
       "      <th>3</th>\n",
       "      <td>536365</td>\n",
       "      <td>84029G</td>\n",
       "      <td>KNITTED UNION FLAG HOT WATER BOTTLE</td>\n",
       "      <td>6</td>\n",
       "      <td>2010-12-01 08:26:00</td>\n",
       "      <td>3.39</td>\n",
       "      <td>17850.0</td>\n",
       "      <td>United Kingdom</td>\n",
       "    </tr>\n",
       "    <tr>\n",
       "      <th>4</th>\n",
       "      <td>536365</td>\n",
       "      <td>84029E</td>\n",
       "      <td>RED WOOLLY HOTTIE WHITE HEART.</td>\n",
       "      <td>6</td>\n",
       "      <td>2010-12-01 08:26:00</td>\n",
       "      <td>3.39</td>\n",
       "      <td>17850.0</td>\n",
       "      <td>United Kingdom</td>\n",
       "    </tr>\n",
       "  </tbody>\n",
       "</table>\n",
       "</div>"
      ],
      "text/plain": [
       "  InvoiceNo StockCode                          Description  Quantity  \\\n",
       "0    536365    85123A   WHITE HANGING HEART T-LIGHT HOLDER         6   \n",
       "1    536365     71053                  WHITE METAL LANTERN         6   \n",
       "2    536365    84406B       CREAM CUPID HEARTS COAT HANGER         8   \n",
       "3    536365    84029G  KNITTED UNION FLAG HOT WATER BOTTLE         6   \n",
       "4    536365    84029E       RED WOOLLY HOTTIE WHITE HEART.         6   \n",
       "\n",
       "          InvoiceDate  UnitPrice  CustomerID         Country  \n",
       "0 2010-12-01 08:26:00       2.55     17850.0  United Kingdom  \n",
       "1 2010-12-01 08:26:00       3.39     17850.0  United Kingdom  \n",
       "2 2010-12-01 08:26:00       2.75     17850.0  United Kingdom  \n",
       "3 2010-12-01 08:26:00       3.39     17850.0  United Kingdom  \n",
       "4 2010-12-01 08:26:00       3.39     17850.0  United Kingdom  "
      ]
     },
     "execution_count": 34,
     "metadata": {},
     "output_type": "execute_result"
    }
   ],
   "source": [
    "df.head()"
   ]
  },
  {
   "cell_type": "code",
   "execution_count": 37,
   "metadata": {},
   "outputs": [],
   "source": [
    "df['StockCode'] = df['StockCode'].astype(str)"
   ]
  },
  {
   "cell_type": "code",
   "execution_count": 43,
   "metadata": {},
   "outputs": [],
   "source": [
    "df_orders = df.groupby('CustomerID').apply(lambda x: \" \".join(x.StockCode)).reset_index(name='StockCodeSentennce')"
   ]
  },
  {
   "cell_type": "code",
   "execution_count": 44,
   "metadata": {},
   "outputs": [
    {
     "data": {
      "text/plain": [
       "(4372, 2)"
      ]
     },
     "execution_count": 44,
     "metadata": {},
     "output_type": "execute_result"
    }
   ],
   "source": [
    "df_orders.shape"
   ]
  },
  {
   "cell_type": "code",
   "execution_count": 45,
   "metadata": {},
   "outputs": [
    {
     "data": {
      "text/html": [
       "<div>\n",
       "<style scoped>\n",
       "    .dataframe tbody tr th:only-of-type {\n",
       "        vertical-align: middle;\n",
       "    }\n",
       "\n",
       "    .dataframe tbody tr th {\n",
       "        vertical-align: top;\n",
       "    }\n",
       "\n",
       "    .dataframe thead th {\n",
       "        text-align: right;\n",
       "    }\n",
       "</style>\n",
       "<table border=\"1\" class=\"dataframe\">\n",
       "  <thead>\n",
       "    <tr style=\"text-align: right;\">\n",
       "      <th></th>\n",
       "      <th>CustomerID</th>\n",
       "      <th>StockCodeSentennce</th>\n",
       "    </tr>\n",
       "  </thead>\n",
       "  <tbody>\n",
       "    <tr>\n",
       "      <th>0</th>\n",
       "      <td>12346.0</td>\n",
       "      <td>23166 23166</td>\n",
       "    </tr>\n",
       "    <tr>\n",
       "      <th>1</th>\n",
       "      <td>12347.0</td>\n",
       "      <td>85116 22375 71477 22492 22771 22772 22773 2277...</td>\n",
       "    </tr>\n",
       "    <tr>\n",
       "      <th>2</th>\n",
       "      <td>12348.0</td>\n",
       "      <td>84992 22951 84991 84991 21213 21213 22616 2198...</td>\n",
       "    </tr>\n",
       "    <tr>\n",
       "      <th>3</th>\n",
       "      <td>12349.0</td>\n",
       "      <td>23112 23460 21564 21411 21563 22131 22195 4819...</td>\n",
       "    </tr>\n",
       "    <tr>\n",
       "      <th>4</th>\n",
       "      <td>12350.0</td>\n",
       "      <td>21908 22412 79066K 79191C 22348 84086C 22551 2...</td>\n",
       "    </tr>\n",
       "  </tbody>\n",
       "</table>\n",
       "</div>"
      ],
      "text/plain": [
       "   CustomerID                                 StockCodeSentennce\n",
       "0     12346.0                                        23166 23166\n",
       "1     12347.0  85116 22375 71477 22492 22771 22772 22773 2277...\n",
       "2     12348.0  84992 22951 84991 84991 21213 21213 22616 2198...\n",
       "3     12349.0  23112 23460 21564 21411 21563 22131 22195 4819...\n",
       "4     12350.0  21908 22412 79066K 79191C 22348 84086C 22551 2..."
      ]
     },
     "execution_count": 45,
     "metadata": {},
     "output_type": "execute_result"
    }
   ],
   "source": [
    "df_orders.head()"
   ]
  },
  {
   "cell_type": "code",
   "execution_count": 46,
   "metadata": {},
   "outputs": [
    {
     "data": {
      "text/plain": [
       "CustomerID            float64\n",
       "StockCodeSentennce     object\n",
       "dtype: object"
      ]
     },
     "execution_count": 46,
     "metadata": {},
     "output_type": "execute_result"
    }
   ],
   "source": [
    "df_orders.dtypes"
   ]
  },
  {
   "cell_type": "code",
   "execution_count": 51,
   "metadata": {},
   "outputs": [],
   "source": [
    "customers = df_orders['CustomerID'].tolist()"
   ]
  },
  {
   "cell_type": "code",
   "execution_count": 58,
   "metadata": {},
   "outputs": [],
   "source": [
    "shuffle(customers)"
   ]
  },
  {
   "cell_type": "code",
   "execution_count": 59,
   "metadata": {},
   "outputs": [],
   "source": [
    "# take 90 % customer ID for training \n",
    "customers_train = [customers[i] for i in range(round(0.9*len(customers)))]"
   ]
  },
  {
   "cell_type": "code",
   "execution_count": 60,
   "metadata": {},
   "outputs": [],
   "source": [
    "# split data for train and test\n",
    "train_df = df[df['CustomerID'].isin(customers_train)]\n",
    "test_df = df[~df['CustomerID'].isin(customers_train)]"
   ]
  },
  {
   "cell_type": "code",
   "execution_count": 62,
   "metadata": {},
   "outputs": [],
   "source": [
    "# purchase history of customers \n",
    "purchase_hist_train = []\n",
    "\n",
    "# populate with stock codes for each customer from customer for training data\n",
    "for i in customers_train:\n",
    "    temp = train_df[train_df['CustomerID']==i]['StockCode'].tolist()\n",
    "    purchase_hist_train.append(temp)"
   ]
  },
  {
   "cell_type": "code",
   "execution_count": 77,
   "metadata": {},
   "outputs": [],
   "source": [
    "# purchase history of customers for test data now\n",
    "purchase_hist_test = []\n",
    "\n",
    "# populate with stock codes for each customer from customer for training data\n",
    "for i in test_df['CustomerID'].unique():\n",
    "    temp = test_df[test_df['CustomerID']==i]['StockCode'].tolist()\n",
    "    purchase_hist_test.append(temp)"
   ]
  },
  {
   "cell_type": "code",
   "execution_count": 79,
   "metadata": {},
   "outputs": [
    {
     "data": {
      "text/plain": [
       "3935"
      ]
     },
     "execution_count": 79,
     "metadata": {},
     "output_type": "execute_result"
    }
   ],
   "source": [
    "len(purchase_hist_train) # a list of customers with a list of stockcodes of purchases "
   ]
  },
  {
   "cell_type": "code",
   "execution_count": 82,
   "metadata": {},
   "outputs": [],
   "source": [
    "from gensim.models import Word2Vec\n",
    "import nltk"
   ]
  },
  {
   "cell_type": "code",
   "execution_count": 83,
   "metadata": {},
   "outputs": [
    {
     "data": {
      "text/plain": [
       "(3667413, 3704730)"
      ]
     },
     "execution_count": 83,
     "metadata": {},
     "output_type": "execute_result"
    }
   ],
   "source": [
    "# train word2vec model, # not sure what the parameters are for... \n",
    "model = Word2Vec(window = 10, sg = 1, hs = 0,\n",
    "                 negative = 10, # for negative sampling\n",
    "                 alpha=0.03, min_alpha=0.0007,\n",
    "                 seed = 14)\n",
    "\n",
    "model.build_vocab(purchase_hist_train, progress_per=200)\n",
    "\n",
    "model.train(purchase_hist_train, total_examples = model.corpus_count, \n",
    "            epochs=10, report_delay=1)"
   ]
  },
  {
   "cell_type": "code",
   "execution_count": 84,
   "metadata": {},
   "outputs": [
    {
     "name": "stdout",
     "output_type": "stream",
     "text": [
      "Word2Vec<vocab=3180, vector_size=100, alpha=0.03>\n"
     ]
    }
   ],
   "source": [
    "print(model) # 3180 vocabulary, with vector size of 100 each "
   ]
  },
  {
   "cell_type": "code",
   "execution_count": 94,
   "metadata": {},
   "outputs": [
    {
     "data": {
      "text/plain": [
       "(3180, 100)"
      ]
     },
     "execution_count": 94,
     "metadata": {},
     "output_type": "execute_result"
    }
   ],
   "source": [
    "# extract all vectors\n",
    "X = model.wv.vectors\n",
    "\n",
    "X.shape"
   ]
  },
  {
   "cell_type": "code",
   "execution_count": null,
   "metadata": {},
   "outputs": [],
   "source": []
  },
  {
   "cell_type": "markdown",
   "metadata": {},
   "source": [
    "Making Predictions from Embeddings"
   ]
  },
  {
   "cell_type": "code",
   "execution_count": 97,
   "metadata": {},
   "outputs": [],
   "source": [
    "products = train_df[['StockCode', 'Description']].copy()"
   ]
  },
  {
   "cell_type": "code",
   "execution_count": 98,
   "metadata": {},
   "outputs": [],
   "source": [
    "# drop duplicates\n",
    "products.drop_duplicates(inplace=True, subset='StockCode', keep='last')"
   ]
  },
  {
   "cell_type": "code",
   "execution_count": 100,
   "metadata": {},
   "outputs": [],
   "source": [
    "products_dict=products.groupby('StockCode')['Description'].apply(list).to_dict() # turns into a dictionary of"
   ]
  },
  {
   "cell_type": "code",
   "execution_count": 103,
   "metadata": {},
   "outputs": [
    {
     "data": {
      "text/plain": [
       "['BLACK CANDELABRA T-LIGHT HOLDER']"
      ]
     },
     "execution_count": 103,
     "metadata": {},
     "output_type": "execute_result"
    }
   ],
   "source": [
    "products_dict['85116']"
   ]
  },
  {
   "cell_type": "code",
   "execution_count": 105,
   "metadata": {},
   "outputs": [
    {
     "data": {
      "text/plain": [
       "array([-1.12337932e-01,  1.17319867e-01,  8.15182924e-02, -5.83326370e-02,\n",
       "        6.55032322e-02, -5.50647266e-02, -2.12121353e-01,  2.32561193e-02,\n",
       "       -6.70790905e-03, -5.33204973e-02,  4.28800322e-02, -2.04933390e-01,\n",
       "        1.05022892e-01, -1.97778158e-02,  2.50801817e-02, -1.14791933e-02,\n",
       "        8.07166621e-02,  8.37571770e-02, -1.07036069e-01, -4.79292087e-02,\n",
       "       -1.78245962e-01, -6.48487806e-02,  3.43301333e-02,  1.37956040e-02,\n",
       "       -7.04274103e-02,  1.14728563e-01, -7.15274960e-02,  5.58164343e-02,\n",
       "        9.51602310e-02,  6.37888908e-02,  1.58054270e-02,  2.76659336e-02,\n",
       "        3.20722535e-02,  1.39598459e-01,  1.41642347e-01,  5.95028736e-02,\n",
       "        9.14749280e-02, -5.19945547e-02,  2.70709302e-02,  1.57832071e-01,\n",
       "        1.18664742e-01, -2.93566380e-02,  9.09362137e-02, -3.66026945e-02,\n",
       "       -4.32023890e-02, -6.13529794e-02,  2.04884093e-02,  2.19273165e-01,\n",
       "        6.11920623e-05, -1.26724288e-01,  1.40771698e-02, -1.46797001e-01,\n",
       "        6.22835904e-02,  8.31438825e-02,  1.27650708e-01,  2.49596119e-01,\n",
       "       -3.71392258e-02, -7.15147108e-02,  7.04898387e-02,  1.34610385e-01,\n",
       "       -5.53240776e-02,  1.35621000e-02, -3.67939882e-02, -2.70770285e-02,\n",
       "        7.84208067e-03,  2.02904910e-01, -7.23119453e-03, -1.09712733e-02,\n",
       "        4.79861684e-02, -1.47352675e-02, -2.81205419e-02,  2.19405312e-02,\n",
       "       -2.45178398e-02, -1.74118638e-01, -4.96491790e-02,  8.96904841e-02,\n",
       "        5.14334440e-02, -5.14918566e-02,  2.10195318e-01, -9.85020325e-02,\n",
       "        5.33977188e-02, -9.76002365e-02, -7.37338737e-02,  2.34911032e-03,\n",
       "        1.50043070e-01, -2.12608501e-02, -7.88672715e-02,  2.59915292e-01,\n",
       "       -4.83022556e-02, -2.92677879e-02, -6.78751804e-03, -2.63090897e-02,\n",
       "        2.00754434e-01, -1.95126042e-01, -2.07872957e-01, -1.26638144e-01,\n",
       "        6.81489557e-02, -1.14153646e-01,  1.56777799e-02, -7.22161308e-02],\n",
       "      dtype=float32)"
      ]
     },
     "execution_count": 105,
     "metadata": {},
     "output_type": "execute_result"
    }
   ],
   "source": [
    "# seeing vectors for a specific product\n",
    "model.wv['85116']"
   ]
  },
  {
   "cell_type": "code",
   "execution_count": 106,
   "metadata": {},
   "outputs": [],
   "source": [
    "sim_prods = model.wv.most_similar('85116')"
   ]
  },
  {
   "cell_type": "code",
   "execution_count": 108,
   "metadata": {},
   "outputs": [
    {
     "data": {
      "text/plain": [
       "[('84952C', 0.507075846195221),\n",
       " ('84952B', 0.4939388632774353),\n",
       " ('47343A', 0.48911792039871216),\n",
       " ('90129F', 0.46960723400115967),\n",
       " ('84625A', 0.4571723937988281)]"
      ]
     },
     "execution_count": 108,
     "metadata": {},
     "output_type": "execute_result"
    }
   ],
   "source": [
    "sim_prods[:5]"
   ]
  },
  {
   "cell_type": "code",
   "execution_count": 143,
   "metadata": {},
   "outputs": [],
   "source": [
    "# most similar products \n",
    "# function to get recommendation for products \n",
    "\n",
    "def recommender(stockcode, n=5):\n",
    "    sim_prods = model.wv.most_similar(stockcode)[:n]\n",
    "    prod_names=[]\n",
    "    for code in sim_prods:\n",
    "        prod_name = products_dict[code[0]]\n",
    "        prod_names.append(prod_name)\n",
    "    return prod_names\n"
   ]
  },
  {
   "cell_type": "code",
   "execution_count": 144,
   "metadata": {},
   "outputs": [
    {
     "data": {
      "text/plain": [
       "[['CHRISTMAS LIGHTS 10 SANTAS '],\n",
       " ['CHRISTMAS LIGHTS 10 VINTAGE BAUBLES'],\n",
       " ['RIBBON REEL SNOWY VILLAGE'],\n",
       " ['MINI LIGHTS WOODLAND MUSHROOMS'],\n",
       " ['15CM CHRISTMAS GLASS BALL 20 LIGHTS']]"
      ]
     },
     "execution_count": 144,
     "metadata": {},
     "output_type": "execute_result"
    }
   ],
   "source": [
    "recommender('22941')"
   ]
  },
  {
   "cell_type": "code",
   "execution_count": 145,
   "metadata": {},
   "outputs": [
    {
     "data": {
      "text/plain": [
       "['CHRISTMAS LIGHTS 10 REINDEER']"
      ]
     },
     "execution_count": 145,
     "metadata": {},
     "output_type": "execute_result"
    }
   ],
   "source": [
    "products_dict['22941']"
   ]
  },
  {
   "cell_type": "code",
   "execution_count": 48,
   "metadata": {},
   "outputs": [],
   "source": [
    "temp_string = \"85116 22375 71477 22492 22771 22772 22773 2277\""
   ]
  },
  {
   "cell_type": "code",
   "execution_count": 49,
   "metadata": {},
   "outputs": [],
   "source": [
    "temp_toke = nltk.word_tokenize(temp_string)"
   ]
  },
  {
   "cell_type": "markdown",
   "metadata": {},
   "source": [
    "[source](https://www.analyticsvidhya.com/blog/2019/07/how-to-build-recommendation-system-word2vec-python/)\n",
    "* some of the code is outdated with gensim word2vec and were updated "
   ]
  },
  {
   "cell_type": "code",
   "execution_count": 134,
   "metadata": {},
   "outputs": [],
   "source": [
    "test_df_firstbuy = test_df.groupby('CustomerID')[['StockCode','Description']].first()"
   ]
  },
  {
   "cell_type": "code",
   "execution_count": 137,
   "metadata": {},
   "outputs": [],
   "source": [
    "test_df_firstbuy_code = test_df_firstbuy['StockCode'].tolist()"
   ]
  },
  {
   "cell_type": "code",
   "execution_count": 149,
   "metadata": {},
   "outputs": [],
   "source": [
    "reco_list = list()\n",
    "for code in test_df_firstbuy_code:\n",
    "    try:\n",
    "        reco = recommender(code)\n",
    "        reco_list.append(reco)\n",
    "    except: # some codes are missing from the vocabulary \n",
    "        reco = None\n",
    "        reco_list.append(reco)\n"
   ]
  },
  {
   "cell_type": "code",
   "execution_count": 150,
   "metadata": {},
   "outputs": [],
   "source": [
    "test_df_firstbuy['recommendation'] = reco_list"
   ]
  },
  {
   "cell_type": "code",
   "execution_count": 151,
   "metadata": {},
   "outputs": [
    {
     "data": {
      "text/html": [
       "<div>\n",
       "<style scoped>\n",
       "    .dataframe tbody tr th:only-of-type {\n",
       "        vertical-align: middle;\n",
       "    }\n",
       "\n",
       "    .dataframe tbody tr th {\n",
       "        vertical-align: top;\n",
       "    }\n",
       "\n",
       "    .dataframe thead th {\n",
       "        text-align: right;\n",
       "    }\n",
       "</style>\n",
       "<table border=\"1\" class=\"dataframe\">\n",
       "  <thead>\n",
       "    <tr style=\"text-align: right;\">\n",
       "      <th></th>\n",
       "      <th>StockCode</th>\n",
       "      <th>Description</th>\n",
       "      <th>recommendation</th>\n",
       "    </tr>\n",
       "    <tr>\n",
       "      <th>CustomerID</th>\n",
       "      <th></th>\n",
       "      <th></th>\n",
       "      <th></th>\n",
       "    </tr>\n",
       "  </thead>\n",
       "  <tbody>\n",
       "    <tr>\n",
       "      <th>12428.0</th>\n",
       "      <td>21578</td>\n",
       "      <td>WOODLAND DESIGN  COTTON TOTE BAG</td>\n",
       "      <td>[[SAVE THE PLANET COTTON TOTE BAG], [RED RETRO...</td>\n",
       "    </tr>\n",
       "    <tr>\n",
       "      <th>12430.0</th>\n",
       "      <td>23144</td>\n",
       "      <td>ZINC T-LIGHT HOLDER STARS SMALL</td>\n",
       "      <td>[[ZINC T-LIGHT HOLDER STAR LARGE], [HANGING HE...</td>\n",
       "    </tr>\n",
       "    <tr>\n",
       "      <th>12431.0</th>\n",
       "      <td>22941</td>\n",
       "      <td>CHRISTMAS LIGHTS 10 REINDEER</td>\n",
       "      <td>[[CHRISTMAS LIGHTS 10 SANTAS ], [CHRISTMAS LIG...</td>\n",
       "    </tr>\n",
       "    <tr>\n",
       "      <th>12471.0</th>\n",
       "      <td>22752</td>\n",
       "      <td>SET 7 BABUSHKA NESTING BOXES</td>\n",
       "      <td>[[SPOTS ON RED BOOKCOVER TAPE], [SILK PURSE BA...</td>\n",
       "    </tr>\n",
       "    <tr>\n",
       "      <th>12473.0</th>\n",
       "      <td>21498</td>\n",
       "      <td>RED RETROSPOT WRAP</td>\n",
       "      <td>[[BLUE POLKADOT WRAP], [SKULLS AND CROSSBONES ...</td>\n",
       "    </tr>\n",
       "    <tr>\n",
       "      <th>...</th>\n",
       "      <td>...</td>\n",
       "      <td>...</td>\n",
       "      <td>...</td>\n",
       "    </tr>\n",
       "    <tr>\n",
       "      <th>18242.0</th>\n",
       "      <td>84879</td>\n",
       "      <td>ASSORTED COLOUR BIRD ORNAMENT</td>\n",
       "      <td>[[PAINTED METAL PEARS ASSORTED], [HEART IVORY ...</td>\n",
       "    </tr>\n",
       "    <tr>\n",
       "      <th>18256.0</th>\n",
       "      <td>22600</td>\n",
       "      <td>CHRISTMAS RETROSPOT STAR WOOD</td>\n",
       "      <td>[[CHRISTMAS RETROSPOT ANGEL WOOD], [CHRISTMAS ...</td>\n",
       "    </tr>\n",
       "    <tr>\n",
       "      <th>18262.0</th>\n",
       "      <td>21400</td>\n",
       "      <td>RED PUDDING SPOON</td>\n",
       "      <td>[[BLUE PUDDING SPOON], [RED  EGG  SPOON], [BLU...</td>\n",
       "    </tr>\n",
       "    <tr>\n",
       "      <th>18263.0</th>\n",
       "      <td>21790</td>\n",
       "      <td>VINTAGE SNAP CARDS</td>\n",
       "      <td>[[VINTAGE HEADS AND TAILS CARD GAME ], [WOODEN...</td>\n",
       "    </tr>\n",
       "    <tr>\n",
       "      <th>18283.0</th>\n",
       "      <td>22356</td>\n",
       "      <td>CHARLOTTE BAG PINK POLKADOT</td>\n",
       "      <td>[[CHARLOTTE BAG SUKI DESIGN], [RED RETROSPOT C...</td>\n",
       "    </tr>\n",
       "  </tbody>\n",
       "</table>\n",
       "<p>437 rows × 3 columns</p>\n",
       "</div>"
      ],
      "text/plain": [
       "           StockCode                       Description  \\\n",
       "CustomerID                                               \n",
       "12428.0        21578  WOODLAND DESIGN  COTTON TOTE BAG   \n",
       "12430.0        23144   ZINC T-LIGHT HOLDER STARS SMALL   \n",
       "12431.0        22941      CHRISTMAS LIGHTS 10 REINDEER   \n",
       "12471.0        22752      SET 7 BABUSHKA NESTING BOXES   \n",
       "12473.0        21498               RED RETROSPOT WRAP    \n",
       "...              ...                               ...   \n",
       "18242.0        84879     ASSORTED COLOUR BIRD ORNAMENT   \n",
       "18256.0        22600     CHRISTMAS RETROSPOT STAR WOOD   \n",
       "18262.0        21400                 RED PUDDING SPOON   \n",
       "18263.0        21790                VINTAGE SNAP CARDS   \n",
       "18283.0        22356       CHARLOTTE BAG PINK POLKADOT   \n",
       "\n",
       "                                               recommendation  \n",
       "CustomerID                                                     \n",
       "12428.0     [[SAVE THE PLANET COTTON TOTE BAG], [RED RETRO...  \n",
       "12430.0     [[ZINC T-LIGHT HOLDER STAR LARGE], [HANGING HE...  \n",
       "12431.0     [[CHRISTMAS LIGHTS 10 SANTAS ], [CHRISTMAS LIG...  \n",
       "12471.0     [[SPOTS ON RED BOOKCOVER TAPE], [SILK PURSE BA...  \n",
       "12473.0     [[BLUE POLKADOT WRAP], [SKULLS AND CROSSBONES ...  \n",
       "...                                                       ...  \n",
       "18242.0     [[PAINTED METAL PEARS ASSORTED], [HEART IVORY ...  \n",
       "18256.0     [[CHRISTMAS RETROSPOT ANGEL WOOD], [CHRISTMAS ...  \n",
       "18262.0     [[BLUE PUDDING SPOON], [RED  EGG  SPOON], [BLU...  \n",
       "18263.0     [[VINTAGE HEADS AND TAILS CARD GAME ], [WOODEN...  \n",
       "18283.0     [[CHARLOTTE BAG SUKI DESIGN], [RED RETROSPOT C...  \n",
       "\n",
       "[437 rows x 3 columns]"
      ]
     },
     "execution_count": 151,
     "metadata": {},
     "output_type": "execute_result"
    }
   ],
   "source": [
    "test_df_firstbuy"
   ]
  },
  {
   "cell_type": "code",
   "execution_count": null,
   "metadata": {},
   "outputs": [],
   "source": []
  }
 ],
 "metadata": {
  "kernelspec": {
   "display_name": "Python 3.8.13 ('lhl_env38')",
   "language": "python",
   "name": "python3"
  },
  "language_info": {
   "codemirror_mode": {
    "name": "ipython",
    "version": 3
   },
   "file_extension": ".py",
   "mimetype": "text/x-python",
   "name": "python",
   "nbconvert_exporter": "python",
   "pygments_lexer": "ipython3",
   "version": "3.8.13"
  },
  "orig_nbformat": 4,
  "vscode": {
   "interpreter": {
    "hash": "93c9cabeb8165e6a1575ace97e023eeebe73f88984ce88042818ce2a73501ce8"
   }
  }
 },
 "nbformat": 4,
 "nbformat_minor": 2
}
