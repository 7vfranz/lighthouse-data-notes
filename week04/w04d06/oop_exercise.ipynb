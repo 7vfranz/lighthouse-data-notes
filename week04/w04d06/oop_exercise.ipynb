{
 "cells": [
  {
   "cell_type": "markdown",
   "metadata": {},
   "source": [
    "## Exercise 1\n",
    "\n",
    "Write a Python class named `Circle` constructed by a radius and two methods which will compute the area and the perimeter of a circle."
   ]
  },
  {
   "cell_type": "code",
   "execution_count": 10,
   "metadata": {},
   "outputs": [],
   "source": [
    "class Circle:\n",
    "    import math\n",
    "    perim = 0\n",
    "    area = 0\n",
    "\n",
    "    @classmethod\n",
    "    def find_perim(cls,r):\n",
    "        cls.perim = 2 * math.pi * r\n",
    "        return cls.perim\n",
    "\n",
    "    @classmethod\n",
    "    def find_area(cls,r):\n",
    "        cls.area = math.pi * r**2\n",
    "        return cls.area\n",
    "        "
   ]
  },
  {
   "cell_type": "code",
   "execution_count": 14,
   "metadata": {},
   "outputs": [
    {
     "data": {
      "text/plain": [
       "18.84955592153876"
      ]
     },
     "execution_count": 14,
     "metadata": {},
     "output_type": "execute_result"
    }
   ],
   "source": [
    "Circle.find_perim(3)"
   ]
  },
  {
   "cell_type": "code",
   "execution_count": 13,
   "metadata": {},
   "outputs": [
    {
     "data": {
      "text/plain": [
       "28.274333882308138"
      ]
     },
     "execution_count": 13,
     "metadata": {},
     "output_type": "execute_result"
    }
   ],
   "source": [
    "Circle.find_area(3)"
   ]
  },
  {
   "cell_type": "code",
   "execution_count": 9,
   "metadata": {},
   "outputs": [
    {
     "data": {
      "text/plain": [
       "0.6283185307179586"
      ]
     },
     "execution_count": 9,
     "metadata": {},
     "output_type": "execute_result"
    }
   ],
   "source": []
  },
  {
   "cell_type": "markdown",
   "metadata": {},
   "source": [
    "## Exercise 2\n",
    "\n",
    "Create a class called `Numbers`, which has a single class attribute called `MULTIPLIER`, and a constructor which takes the parameters `x` and `y` (these should all be numbers).\n",
    "\n",
    "1. Write a method called `add` which returns the sum of the attributes `x` and `y`.\n",
    "2. Write a class method called `multiply`, which takes a single number parameter `a` and returns the product of `a` and `MULTIPLIER`.\n",
    "3. Write a static method called `subtract`, which takes two number parameters, `b` and `c`, and returns `b - c`.\n",
    "4. (STRETCH) Write a method called `value` which returns a tuple containing the values of `x` and `y`. Make this method into a property, and write a `setter` and a `deleter` for manipulating the values of `x` and `y`."
   ]
  },
  {
   "cell_type": "code",
   "execution_count": 108,
   "metadata": {},
   "outputs": [],
   "source": [
    "class Numbers:\n",
    "    MULTIPLIER = 2\n",
    "\n",
    "    def __init__(self, x,y):\n",
    "        self.x = int(x)\n",
    "        self.y = int(y)\n",
    "\n",
    "    def add(self):\n",
    "        return self.x + self.y\n",
    "\n",
    "    @classmethod\n",
    "    def multiply(cls,a):\n",
    "        return a * cls.MULTIPLIER\n",
    "\n",
    "    @staticmethod\n",
    "    def subtract(b, c):\n",
    "        return b-c\n",
    "\n",
    "    @property\n",
    "    def value(self):\n",
    "        return self.x, self.y\n",
    "\n",
    "    def setX(self, value):\n",
    "        self.x = value\n",
    "\n",
    "    def setY(self, value):\n",
    "        self.y = value\n",
    "    \n",
    "    def deleteX(self):\n",
    "        print('deleted x')\n",
    "        del self.x\n",
    "    \n",
    "    def deleteY(self):\n",
    "        print('deleted y')\n",
    "        del self.y"
   ]
  },
  {
   "cell_type": "code",
   "execution_count": 109,
   "metadata": {},
   "outputs": [],
   "source": [
    "numbers2 = Numbers(3,4)"
   ]
  },
  {
   "cell_type": "code",
   "execution_count": 110,
   "metadata": {},
   "outputs": [],
   "source": [
    "numbers2.setY(2)"
   ]
  },
  {
   "cell_type": "code",
   "execution_count": 113,
   "metadata": {},
   "outputs": [
    {
     "name": "stdout",
     "output_type": "stream",
     "text": [
      "deleted x\n"
     ]
    }
   ],
   "source": [
    "numbers2.deleteX()"
   ]
  },
  {
   "cell_type": "code",
   "execution_count": 115,
   "metadata": {},
   "outputs": [
    {
     "data": {
      "text/plain": [
       "2"
      ]
     },
     "execution_count": 115,
     "metadata": {},
     "output_type": "execute_result"
    }
   ],
   "source": [
    "numbers2.y"
   ]
  },
  {
   "cell_type": "code",
   "execution_count": 39,
   "metadata": {},
   "outputs": [],
   "source": [
    "numbers = Numbers(1,2)"
   ]
  },
  {
   "cell_type": "code",
   "execution_count": 40,
   "metadata": {},
   "outputs": [
    {
     "name": "stdout",
     "output_type": "stream",
     "text": [
      "{'x': 1, 'y': 2}\n"
     ]
    }
   ],
   "source": [
    "print(numbers.__dict__)"
   ]
  },
  {
   "cell_type": "code",
   "execution_count": 41,
   "metadata": {},
   "outputs": [
    {
     "data": {
      "text/plain": [
       "3"
      ]
     },
     "execution_count": 41,
     "metadata": {},
     "output_type": "execute_result"
    }
   ],
   "source": [
    "Numbers.add(numbers)"
   ]
  },
  {
   "cell_type": "code",
   "execution_count": 49,
   "metadata": {},
   "outputs": [
    {
     "name": "stdout",
     "output_type": "stream",
     "text": [
      "20\n"
     ]
    }
   ],
   "source": [
    "print(Numbers.multiply(10))"
   ]
  },
  {
   "cell_type": "code",
   "execution_count": 51,
   "metadata": {},
   "outputs": [
    {
     "name": "stdout",
     "output_type": "stream",
     "text": [
      "3\n"
     ]
    }
   ],
   "source": [
    "print(Numbers.subtract(5,2))"
   ]
  },
  {
   "cell_type": "code",
   "execution_count": null,
   "metadata": {},
   "outputs": [],
   "source": []
  }
 ],
 "metadata": {
  "kernelspec": {
   "display_name": "lhl_env38",
   "language": "python",
   "name": "lhl_env38"
  },
  "language_info": {
   "codemirror_mode": {
    "name": "ipython",
    "version": 3
   },
   "file_extension": ".py",
   "mimetype": "text/x-python",
   "name": "python",
   "nbconvert_exporter": "python",
   "pygments_lexer": "ipython3",
   "version": "3.8.13"
  }
 },
 "nbformat": 4,
 "nbformat_minor": 4
}
