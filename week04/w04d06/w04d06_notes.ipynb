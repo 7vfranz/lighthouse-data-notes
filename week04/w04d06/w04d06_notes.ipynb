{
 "cells": [
  {
   "cell_type": "markdown",
   "metadata": {},
   "source": [
    "#### From compass\n",
    "\n",
    "Classes and instances\n",
    "* classes - allows grouping of variables/data/functions that can build upon, 'blueprint' for concrete object \n",
    "* class/object attributes access with . class.attribute or object.attribute \n",
    "* instance - functions within the class - that have attributes/variables\n",
    "* can add methods (i.e. functions) to a class, for e.g. printing full name of employee from first and last \n",
    "* class variable vs instance variable\n",
    "    * instance done with 'self' - updated at each instance\n",
    "    * class done with name of the class - updated only through the class\n",
    "* Classmethods vs Staticmethods\n",
    "    * regular methods - take the instance as the argument (self), but can be done with Class\n",
    "    * Class methods - add a decorator @classmethod - takes (cls)\n",
    "        * classmethods can be used to create new objects in different ways (e.g. strings, datetimes)\n",
    "    * Staticmethods\n",
    "        * e.g. takes date and see if workday\n",
    "        * method that doesn't take on any class or instance in the argument\n",
    "        * just pass in argument of interest\n",
    "        * @staticmethod"
   ]
  },
  {
   "cell_type": "code",
   "execution_count": 62,
   "metadata": {},
   "outputs": [],
   "source": [
    "class Employee:\n",
    "    raise_amount = 1.04\n",
    "    num_emps = 0\n",
    "\n",
    "    def __init__(self, first, last, pay): #done to initialize - instead of entering values manually \n",
    "        self.first = first # same as emp_1.first \n",
    "        self.last = last\n",
    "        self.pay = pay\n",
    "        self.email = first + '.' + last + '@company.com'\n",
    "\n",
    "        Employee.num_emps += 1 #here you want Employee instead of self - because you don't want this variable to be different for each instance\n",
    "    \n",
    "    def fullname(self): #note you need the self argument, the 'emp_1' is getting passed automatically need 'self' placeholder\n",
    "        return '{} {}'.format(self.first, self.last)\n",
    "\n",
    "    def apply_raise(self):\n",
    "        self.pay = int(self.pay * self.raise_amount)\n",
    "\n",
    "    @classmethod\n",
    "    def set_raise_amt(cls, amount): #class cant be used because it is a keyword, cls as class variable name\n",
    "        cls.raise_amount= amount\n",
    "\n",
    "    @classmethod\n",
    "    def from_string(cls, emp_str): # alternative constructor splits the string\n",
    "        first, last, pay = emp_str.split('-')\n",
    "        return cls(first,last,pay)\n",
    "    \n",
    "    @staticmethod\n",
    "    def is_workday(day): #method should be static if instance or class not needed in the function \n",
    "        if day.weekday() == 5 or day.weekday() == 6: #5 = sat, 6 = sun\n",
    "            return False\n",
    "        return True\n",
    "        "
   ]
  },
  {
   "cell_type": "code",
   "execution_count": 47,
   "metadata": {},
   "outputs": [],
   "source": [
    "# can leave off self, init method passes automatically - sets attributes \n",
    "emp_1 = Employee('Franz','Villaruel',50000)\n",
    "emp_2 = Employee('Test','User',60000)"
   ]
  },
  {
   "cell_type": "code",
   "execution_count": 11,
   "metadata": {},
   "outputs": [
    {
     "name": "stdout",
     "output_type": "stream",
     "text": [
      "Franz Villaruel\n"
     ]
    }
   ],
   "source": [
    "# can print manually or done via a method \n",
    "print('{} {}'.format(emp_1.first, emp_1.last))"
   ]
  },
  {
   "cell_type": "code",
   "execution_count": 20,
   "metadata": {},
   "outputs": [
    {
     "name": "stdout",
     "output_type": "stream",
     "text": [
      "Franz Villaruel\n",
      "Test User\n"
     ]
    }
   ],
   "source": [
    "# using the method\n",
    "print(emp_1.fullname())\n",
    "print(emp_2.fullname())"
   ]
  },
  {
   "cell_type": "code",
   "execution_count": 21,
   "metadata": {},
   "outputs": [
    {
     "data": {
      "text/plain": [
       "'Franz Villaruel'"
      ]
     },
     "execution_count": 21,
     "metadata": {},
     "output_type": "execute_result"
    }
   ],
   "source": [
    "# using call on the class - what's actually being done in the background\n",
    "Employee.fullname(emp_1)"
   ]
  },
  {
   "cell_type": "code",
   "execution_count": 25,
   "metadata": {},
   "outputs": [
    {
     "name": "stdout",
     "output_type": "stream",
     "text": [
      "50000\n",
      "52000\n"
     ]
    }
   ],
   "source": [
    "# can be applied, but if you want access to how much that raise amount is - you have to set a class variable \n",
    "print(emp_1.pay)\n",
    "emp_1.apply_raise()\n",
    "print(emp_1.pay)"
   ]
  },
  {
   "cell_type": "code",
   "execution_count": 29,
   "metadata": {},
   "outputs": [
    {
     "name": "stdout",
     "output_type": "stream",
     "text": [
      "1.04\n",
      "1.04\n"
     ]
    }
   ],
   "source": [
    "# after setting raise_amount to a class variable \n",
    "print(Employee.raise_amount)\n",
    "print(emp_1.raise_amount)"
   ]
  },
  {
   "cell_type": "code",
   "execution_count": 30,
   "metadata": {},
   "outputs": [],
   "source": [
    "# can be changed for class or each instance in the class\n",
    "# finds first the instance before the class \n",
    "# use of 'self' in function allows for changing in class and instance,\n",
    "# allows for subclasses to override the constant in the 'class'\n",
    "# note that raise amount not actually part of the dictionary for each employee but part of the Employee class\n",
    "# although can be accessed through each employee emp_1\n",
    "Employee.raise_amount = 1.05 # changes for all employees\n",
    "emp_1.raise_amount = 1.06"
   ]
  },
  {
   "cell_type": "code",
   "execution_count": 33,
   "metadata": {},
   "outputs": [
    {
     "name": "stdout",
     "output_type": "stream",
     "text": [
      "{'first': 'Franz', 'last': 'Villaruel', 'pay': 50000, 'email': 'Franz.Villaruel@company.com', 'raise_amount': 1.06}\n",
      "{'__module__': '__main__', 'raise_amount': 1.05, '__init__': <function Employee.__init__ at 0x1051dd820>, 'fullname': <function Employee.fullname at 0x1051dd310>, 'apply_raise': <function Employee.apply_raise at 0x1052268b0>, '__dict__': <attribute '__dict__' of 'Employee' objects>, '__weakref__': <attribute '__weakref__' of 'Employee' objects>, '__doc__': None}\n"
     ]
    }
   ],
   "source": [
    "print(emp_1.__dict__)\n",
    "print(Employee.__dict__)"
   ]
  },
  {
   "cell_type": "code",
   "execution_count": 36,
   "metadata": {},
   "outputs": [
    {
     "name": "stdout",
     "output_type": "stream",
     "text": [
      "2\n"
     ]
    }
   ],
   "source": [
    "# For adding variable that is constant - can't be changed by instances in the classes \n",
    "print(Employee.num_emps)"
   ]
  },
  {
   "cell_type": "code",
   "execution_count": 48,
   "metadata": {},
   "outputs": [
    {
     "name": "stdout",
     "output_type": "stream",
     "text": [
      "1.05\n"
     ]
    }
   ],
   "source": [
    "# setting classmethod - instead of in the variable \n",
    "Employee.set_raise_amt(1.05)\n",
    "print(Employee.raise_amount)"
   ]
  },
  {
   "cell_type": "code",
   "execution_count": 49,
   "metadata": {},
   "outputs": [
    {
     "name": "stdout",
     "output_type": "stream",
     "text": [
      "1.03\n",
      "1.03\n"
     ]
    }
   ],
   "source": [
    "emp_1.set_raise_amt(1.03) # can still be changed using the instance - and whill change both class and instance \n",
    "print(Employee.raise_amount)\n",
    "print(emp_1.raise_amount)"
   ]
  },
  {
   "cell_type": "code",
   "execution_count": 55,
   "metadata": {},
   "outputs": [],
   "source": [
    "# class methods can be used to create new objects in different ways - e.g. strings with dashes\n",
    "emp_str_1 = 'John-Doe-70000'\n",
    "emp_str_2 = 'Jane-Doe-90000'"
   ]
  },
  {
   "cell_type": "code",
   "execution_count": null,
   "metadata": {},
   "outputs": [],
   "source": [
    "# done manually - but inefficient if use is repeated alot - use another classmethod \n",
    "# usefull for timestamps - this is used in datetime \n",
    "# first, last, pay = emp_str_1.split('-')\n",
    "# new_emp_1 = Employee(first, last, pay)"
   ]
  },
  {
   "cell_type": "code",
   "execution_count": 58,
   "metadata": {},
   "outputs": [],
   "source": [
    "new_emp_1 = Employee.from_string(emp_str_1)"
   ]
  },
  {
   "cell_type": "code",
   "execution_count": 59,
   "metadata": {},
   "outputs": [
    {
     "name": "stdout",
     "output_type": "stream",
     "text": [
      "{'first': 'John', 'last': 'Doe', 'pay': '70000', 'email': 'John.Doe@company.com'}\n"
     ]
    }
   ],
   "source": [
    "print(new_emp_1.__dict__)"
   ]
  },
  {
   "cell_type": "code",
   "execution_count": 64,
   "metadata": {},
   "outputs": [],
   "source": [
    "# Staticmethods \n",
    "import datetime\n",
    "my_date = datetime.date(2022,7,15)"
   ]
  },
  {
   "cell_type": "code",
   "execution_count": 65,
   "metadata": {},
   "outputs": [
    {
     "name": "stdout",
     "output_type": "stream",
     "text": [
      "True\n"
     ]
    }
   ],
   "source": [
    "print(Employee.is_workday(my_date))"
   ]
  },
  {
   "cell_type": "code",
   "execution_count": 5,
   "metadata": {},
   "outputs": [],
   "source": [
    "emp_1 = Employee()\n",
    "emp_2 = Employee()\n",
    "\n",
    "print(emp_1)\n",
    "\n",
    "emp_1.first = 'Franz'\n",
    "emp_2.first= 'User'"
   ]
  },
  {
   "cell_type": "code",
   "execution_count": 3,
   "metadata": {},
   "outputs": [
    {
     "name": "stdout",
     "output_type": "stream",
     "text": [
      "<__main__.Employee object at 0x1046aecd0>\n"
     ]
    }
   ],
   "source": [
    "print(emp_1)"
   ]
  },
  {
   "cell_type": "code",
   "execution_count": 10,
   "metadata": {},
   "outputs": [
    {
     "name": "stdout",
     "output_type": "stream",
     "text": [
      "Franz\n"
     ]
    }
   ],
   "source": [
    "print(emp_1.first)"
   ]
  },
  {
   "cell_type": "code",
   "execution_count": null,
   "metadata": {},
   "outputs": [],
   "source": []
  }
 ],
 "metadata": {
  "kernelspec": {
   "display_name": "lhl_env38",
   "language": "python",
   "name": "lhl_env38"
  },
  "language_info": {
   "codemirror_mode": {
    "name": "ipython",
    "version": 3
   },
   "file_extension": ".py",
   "mimetype": "text/x-python",
   "name": "python",
   "nbconvert_exporter": "python",
   "pygments_lexer": "ipython3",
   "version": "3.8.13"
  },
  "orig_nbformat": 4
 },
 "nbformat": 4,
 "nbformat_minor": 2
}
