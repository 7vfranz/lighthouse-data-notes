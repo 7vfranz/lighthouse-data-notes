{
 "cells": [
  {
   "cell_type": "markdown",
   "metadata": {},
   "source": [
    "## Optimization exercise"
   ]
  },
  {
   "cell_type": "markdown",
   "metadata": {},
   "source": [
    "**Goal: Train the 2nd order polynomial predictor using gradient descent. Optimize the stepsizes and compare against scikit-learn's implementation.**"
   ]
  },
  {
   "cell_type": "code",
   "execution_count": 1,
   "metadata": {},
   "outputs": [],
   "source": [
    "# IMPORT PACKAGES\n",
    "import pandas as pd\n",
    "import numpy as np"
   ]
  },
  {
   "cell_type": "code",
   "execution_count": 2,
   "metadata": {},
   "outputs": [],
   "source": [
    "nb = pd.read_csv('nba_games_2013_2015.csv', delimiter=';')\n",
    "x = nb[['AST','REB','STL']]\n",
    "y = nb['PTS']"
   ]
  },
  {
   "cell_type": "markdown",
   "metadata": {},
   "source": [
    "#### Task I\n",
    "Download the data from [here](https://drive.google.com/file/d/0Bz9_0VdXvv9bUUNlUTVrMF9VcVU/view?usp=sharing&resourcekey=0-16O9Fc5eaJH99-M7AHqHOg)."
   ]
  },
  {
   "cell_type": "code",
   "execution_count": 4,
   "metadata": {},
   "outputs": [],
   "source": [
    "# done"
   ]
  },
  {
   "cell_type": "code",
   "execution_count": 3,
   "metadata": {},
   "outputs": [
    {
     "data": {
      "text/html": [
       "<div>\n",
       "<style scoped>\n",
       "    .dataframe tbody tr th:only-of-type {\n",
       "        vertical-align: middle;\n",
       "    }\n",
       "\n",
       "    .dataframe tbody tr th {\n",
       "        vertical-align: top;\n",
       "    }\n",
       "\n",
       "    .dataframe thead th {\n",
       "        text-align: right;\n",
       "    }\n",
       "</style>\n",
       "<table border=\"1\" class=\"dataframe\">\n",
       "  <thead>\n",
       "    <tr style=\"text-align: right;\">\n",
       "      <th></th>\n",
       "      <th>AST</th>\n",
       "      <th>REB</th>\n",
       "      <th>STL</th>\n",
       "    </tr>\n",
       "  </thead>\n",
       "  <tbody>\n",
       "    <tr>\n",
       "      <th>0</th>\n",
       "      <td>41</td>\n",
       "      <td>43</td>\n",
       "      <td>14</td>\n",
       "    </tr>\n",
       "    <tr>\n",
       "      <th>1</th>\n",
       "      <td>23</td>\n",
       "      <td>43</td>\n",
       "      <td>8</td>\n",
       "    </tr>\n",
       "    <tr>\n",
       "      <th>2</th>\n",
       "      <td>20</td>\n",
       "      <td>39</td>\n",
       "      <td>7</td>\n",
       "    </tr>\n",
       "    <tr>\n",
       "      <th>3</th>\n",
       "      <td>19</td>\n",
       "      <td>47</td>\n",
       "      <td>6</td>\n",
       "    </tr>\n",
       "    <tr>\n",
       "      <th>4</th>\n",
       "      <td>21</td>\n",
       "      <td>43</td>\n",
       "      <td>4</td>\n",
       "    </tr>\n",
       "    <tr>\n",
       "      <th>...</th>\n",
       "      <td>...</td>\n",
       "      <td>...</td>\n",
       "      <td>...</td>\n",
       "    </tr>\n",
       "    <tr>\n",
       "      <th>7375</th>\n",
       "      <td>17</td>\n",
       "      <td>39</td>\n",
       "      <td>10</td>\n",
       "    </tr>\n",
       "    <tr>\n",
       "      <th>7376</th>\n",
       "      <td>26</td>\n",
       "      <td>40</td>\n",
       "      <td>10</td>\n",
       "    </tr>\n",
       "    <tr>\n",
       "      <th>7377</th>\n",
       "      <td>23</td>\n",
       "      <td>52</td>\n",
       "      <td>8</td>\n",
       "    </tr>\n",
       "    <tr>\n",
       "      <th>7378</th>\n",
       "      <td>23</td>\n",
       "      <td>41</td>\n",
       "      <td>11</td>\n",
       "    </tr>\n",
       "    <tr>\n",
       "      <th>7379</th>\n",
       "      <td>17</td>\n",
       "      <td>44</td>\n",
       "      <td>4</td>\n",
       "    </tr>\n",
       "  </tbody>\n",
       "</table>\n",
       "<p>7380 rows × 3 columns</p>\n",
       "</div>"
      ],
      "text/plain": [
       "      AST  REB  STL\n",
       "0      41   43   14\n",
       "1      23   43    8\n",
       "2      20   39    7\n",
       "3      19   47    6\n",
       "4      21   43    4\n",
       "...   ...  ...  ...\n",
       "7375   17   39   10\n",
       "7376   26   40   10\n",
       "7377   23   52    8\n",
       "7378   23   41   11\n",
       "7379   17   44    4\n",
       "\n",
       "[7380 rows x 3 columns]"
      ]
     },
     "execution_count": 3,
     "metadata": {},
     "output_type": "execute_result"
    }
   ],
   "source": [
    "x"
   ]
  },
  {
   "cell_type": "markdown",
   "metadata": {},
   "source": [
    "\n",
    "#### TASK II\n",
    "Create a function `psi(x)`, which transforms features AST (assists), REB (rebounds) and STL (steals) into 2nd order polynomial features (add each feature squared and each pair of features multiplied with every other)\n",
    "\n",
    "**Input:** DataFrame x from above. It contains columns AST, REB, STL\n",
    "\n",
    "**Output:** DataFrame with columns: AST, REB, STL, 1, AST^2, REB^2, STL^2, ASTSTL, REBSTL, ASTREB. The number of rows should be the same as Input."
   ]
  },
  {
   "cell_type": "code",
   "execution_count": 4,
   "metadata": {},
   "outputs": [],
   "source": [
    "def psi(x):\n",
    "    num_cols = range(len(x.columns))\n",
    "    x2 = x.copy()\n",
    "    for col in num_cols:\n",
    "        x2[x.columns[col]+'^2']=x.iloc[:,col]**2\n",
    "    for col in num_cols: \n",
    "        x2[x.columns[col]+x.columns[col-1]]=x.iloc[:,col]*x.iloc[:,col-1]\n",
    "    x2['1']=1\n",
    "    cols = x2.columns.tolist()\n",
    "    cols = cols[0:len(x.columns)] + [cols[-1]] + cols[3:-1]\n",
    "    x2 = x2[cols]\n",
    "    return x2"
   ]
  },
  {
   "cell_type": "code",
   "execution_count": 5,
   "metadata": {},
   "outputs": [
    {
     "data": {
      "text/plain": [
       "3"
      ]
     },
     "execution_count": 5,
     "metadata": {},
     "output_type": "execute_result"
    }
   ],
   "source": [
    "len(x.columns)"
   ]
  },
  {
   "cell_type": "code",
   "execution_count": 6,
   "metadata": {},
   "outputs": [],
   "source": [
    "x2 = x.copy()"
   ]
  },
  {
   "cell_type": "code",
   "execution_count": 7,
   "metadata": {},
   "outputs": [],
   "source": [
    "x2 = psi(x2)"
   ]
  },
  {
   "cell_type": "code",
   "execution_count": 8,
   "metadata": {},
   "outputs": [
    {
     "data": {
      "text/html": [
       "<div>\n",
       "<style scoped>\n",
       "    .dataframe tbody tr th:only-of-type {\n",
       "        vertical-align: middle;\n",
       "    }\n",
       "\n",
       "    .dataframe tbody tr th {\n",
       "        vertical-align: top;\n",
       "    }\n",
       "\n",
       "    .dataframe thead th {\n",
       "        text-align: right;\n",
       "    }\n",
       "</style>\n",
       "<table border=\"1\" class=\"dataframe\">\n",
       "  <thead>\n",
       "    <tr style=\"text-align: right;\">\n",
       "      <th></th>\n",
       "      <th>AST</th>\n",
       "      <th>REB</th>\n",
       "      <th>STL</th>\n",
       "      <th>1</th>\n",
       "      <th>AST^2</th>\n",
       "      <th>REB^2</th>\n",
       "      <th>STL^2</th>\n",
       "      <th>ASTSTL</th>\n",
       "      <th>REBAST</th>\n",
       "      <th>STLREB</th>\n",
       "    </tr>\n",
       "  </thead>\n",
       "  <tbody>\n",
       "    <tr>\n",
       "      <th>0</th>\n",
       "      <td>41</td>\n",
       "      <td>43</td>\n",
       "      <td>14</td>\n",
       "      <td>1</td>\n",
       "      <td>1681</td>\n",
       "      <td>1849</td>\n",
       "      <td>196</td>\n",
       "      <td>574</td>\n",
       "      <td>1763</td>\n",
       "      <td>602</td>\n",
       "    </tr>\n",
       "    <tr>\n",
       "      <th>1</th>\n",
       "      <td>23</td>\n",
       "      <td>43</td>\n",
       "      <td>8</td>\n",
       "      <td>1</td>\n",
       "      <td>529</td>\n",
       "      <td>1849</td>\n",
       "      <td>64</td>\n",
       "      <td>184</td>\n",
       "      <td>989</td>\n",
       "      <td>344</td>\n",
       "    </tr>\n",
       "    <tr>\n",
       "      <th>2</th>\n",
       "      <td>20</td>\n",
       "      <td>39</td>\n",
       "      <td>7</td>\n",
       "      <td>1</td>\n",
       "      <td>400</td>\n",
       "      <td>1521</td>\n",
       "      <td>49</td>\n",
       "      <td>140</td>\n",
       "      <td>780</td>\n",
       "      <td>273</td>\n",
       "    </tr>\n",
       "    <tr>\n",
       "      <th>3</th>\n",
       "      <td>19</td>\n",
       "      <td>47</td>\n",
       "      <td>6</td>\n",
       "      <td>1</td>\n",
       "      <td>361</td>\n",
       "      <td>2209</td>\n",
       "      <td>36</td>\n",
       "      <td>114</td>\n",
       "      <td>893</td>\n",
       "      <td>282</td>\n",
       "    </tr>\n",
       "    <tr>\n",
       "      <th>4</th>\n",
       "      <td>21</td>\n",
       "      <td>43</td>\n",
       "      <td>4</td>\n",
       "      <td>1</td>\n",
       "      <td>441</td>\n",
       "      <td>1849</td>\n",
       "      <td>16</td>\n",
       "      <td>84</td>\n",
       "      <td>903</td>\n",
       "      <td>172</td>\n",
       "    </tr>\n",
       "    <tr>\n",
       "      <th>...</th>\n",
       "      <td>...</td>\n",
       "      <td>...</td>\n",
       "      <td>...</td>\n",
       "      <td>...</td>\n",
       "      <td>...</td>\n",
       "      <td>...</td>\n",
       "      <td>...</td>\n",
       "      <td>...</td>\n",
       "      <td>...</td>\n",
       "      <td>...</td>\n",
       "    </tr>\n",
       "    <tr>\n",
       "      <th>7375</th>\n",
       "      <td>17</td>\n",
       "      <td>39</td>\n",
       "      <td>10</td>\n",
       "      <td>1</td>\n",
       "      <td>289</td>\n",
       "      <td>1521</td>\n",
       "      <td>100</td>\n",
       "      <td>170</td>\n",
       "      <td>663</td>\n",
       "      <td>390</td>\n",
       "    </tr>\n",
       "    <tr>\n",
       "      <th>7376</th>\n",
       "      <td>26</td>\n",
       "      <td>40</td>\n",
       "      <td>10</td>\n",
       "      <td>1</td>\n",
       "      <td>676</td>\n",
       "      <td>1600</td>\n",
       "      <td>100</td>\n",
       "      <td>260</td>\n",
       "      <td>1040</td>\n",
       "      <td>400</td>\n",
       "    </tr>\n",
       "    <tr>\n",
       "      <th>7377</th>\n",
       "      <td>23</td>\n",
       "      <td>52</td>\n",
       "      <td>8</td>\n",
       "      <td>1</td>\n",
       "      <td>529</td>\n",
       "      <td>2704</td>\n",
       "      <td>64</td>\n",
       "      <td>184</td>\n",
       "      <td>1196</td>\n",
       "      <td>416</td>\n",
       "    </tr>\n",
       "    <tr>\n",
       "      <th>7378</th>\n",
       "      <td>23</td>\n",
       "      <td>41</td>\n",
       "      <td>11</td>\n",
       "      <td>1</td>\n",
       "      <td>529</td>\n",
       "      <td>1681</td>\n",
       "      <td>121</td>\n",
       "      <td>253</td>\n",
       "      <td>943</td>\n",
       "      <td>451</td>\n",
       "    </tr>\n",
       "    <tr>\n",
       "      <th>7379</th>\n",
       "      <td>17</td>\n",
       "      <td>44</td>\n",
       "      <td>4</td>\n",
       "      <td>1</td>\n",
       "      <td>289</td>\n",
       "      <td>1936</td>\n",
       "      <td>16</td>\n",
       "      <td>68</td>\n",
       "      <td>748</td>\n",
       "      <td>176</td>\n",
       "    </tr>\n",
       "  </tbody>\n",
       "</table>\n",
       "<p>7380 rows × 10 columns</p>\n",
       "</div>"
      ],
      "text/plain": [
       "      AST  REB  STL  1  AST^2  REB^2  STL^2  ASTSTL  REBAST  STLREB\n",
       "0      41   43   14  1   1681   1849    196     574    1763     602\n",
       "1      23   43    8  1    529   1849     64     184     989     344\n",
       "2      20   39    7  1    400   1521     49     140     780     273\n",
       "3      19   47    6  1    361   2209     36     114     893     282\n",
       "4      21   43    4  1    441   1849     16      84     903     172\n",
       "...   ...  ...  ... ..    ...    ...    ...     ...     ...     ...\n",
       "7375   17   39   10  1    289   1521    100     170     663     390\n",
       "7376   26   40   10  1    676   1600    100     260    1040     400\n",
       "7377   23   52    8  1    529   2704     64     184    1196     416\n",
       "7378   23   41   11  1    529   1681    121     253     943     451\n",
       "7379   17   44    4  1    289   1936     16      68     748     176\n",
       "\n",
       "[7380 rows x 10 columns]"
      ]
     },
     "execution_count": 8,
     "metadata": {},
     "output_type": "execute_result"
    }
   ],
   "source": [
    "x2"
   ]
  },
  {
   "cell_type": "code",
   "execution_count": 318,
   "metadata": {},
   "outputs": [
    {
     "name": "stdout",
     "output_type": "stream",
     "text": [
      "[['AST', 'REB', 'STL']]\n"
     ]
    }
   ],
   "source": [
    "# cols = cols[0:3] + [cols[-1]] + cols[3:-1]\n",
    "# print(cols)"
   ]
  },
  {
   "cell_type": "markdown",
   "metadata": {},
   "source": [
    "#### Task III\n",
    "Create a transformed data matrix **X**, where each **x** is mapped to psi(x).\n",
    "\n",
    "HINT: We need to apply our function from Task II to matrix (DataFrame) x"
   ]
  },
  {
   "cell_type": "code",
   "execution_count": 9,
   "metadata": {},
   "outputs": [],
   "source": [
    "X = psi(x)"
   ]
  },
  {
   "cell_type": "markdown",
   "metadata": {},
   "source": [
    "#### Task IV\n",
    "Create a function `p2(x,w)`, which outputs the value of the polynomial ata given row of `x` for given parameters `w`.\n",
    "\n",
    "Inputs:\n",
    "- x: DataFrame from above\n",
    "- w: vector which represents beta coeficients for each column of X from the Task III.\n",
    "\n",
    "Ouputs:\n",
    "- Series of the same length as DataFrame x. Each value is a dot product of particular row in DataFrame and coeficients `w`.\n",
    "\n",
    "\n",
    "HINT:\n",
    "- length of w needs to be the same as number of columns of the dataframe that is returned from function `psi(x)`\n",
    "\n",
    "Example Input:\n",
    "\n",
    "`p2(x, [0.06, 0.05,0.03,0.01,0.02,0.02,0.04, 0.03,0.02,0.01])`\n",
    "\n",
    "Example Output:\n",
    "\n",
    "```\n",
    "0       130.37\n",
    "1        76.19\n",
    "2        61.21\n",
    "3        74.51\n",
    "4        64.97\n",
    "         ...  \n",
    "7375     63.01\n",
    "7376     79.59\n",
    "7377     97.25\n",
    "7378     78.85\n",
    "7379     61.53\n",
    "Length: 7380, dtype: float64\n",
    "\n",
    "```\n",
    "\n",
    "Our columns in the DataFrame **X** that is the output of `psi(x)` were in this order: `AST, REB, STL, 1, AST^2, REB^2, STL^2, ASTSTL, REBSTL, ASTREB`. If your columns are in different order the result can be different even for the **w**."
   ]
  },
  {
   "cell_type": "code",
   "execution_count": 10,
   "metadata": {},
   "outputs": [],
   "source": [
    "np.random.seed(15)\n",
    "w = np.random.rand(10)"
   ]
  },
  {
   "cell_type": "code",
   "execution_count": 11,
   "metadata": {},
   "outputs": [
    {
     "data": {
      "text/plain": [
       "array([0.8488177 , 0.17889592, 0.05436321, 0.36153845, 0.27540093,\n",
       "       0.53000022, 0.30591892, 0.30447436, 0.11174128, 0.24989901])"
      ]
     },
     "execution_count": 11,
     "metadata": {},
     "output_type": "execute_result"
    }
   ],
   "source": [
    "w"
   ]
  },
  {
   "cell_type": "code",
   "execution_count": 37,
   "metadata": {},
   "outputs": [],
   "source": [
    "def p2(x,w):\n",
    "    X = psi(x)\n",
    "    res_list=[]\n",
    "    for indx,row in X.iterrows(): \n",
    "        res = np.dot(row, w)\n",
    "        res_list.append(res)\n",
    "    return pd.Series(res_list)"
   ]
  },
  {
   "cell_type": "code",
   "execution_count": 38,
   "metadata": {},
   "outputs": [
    {
     "name": "stdout",
     "output_type": "stream",
     "text": [
      "0       2068.703517\n",
      "1       1425.748759\n",
      "2       1153.983153\n",
      "3       1511.393234\n",
      "4       1301.874465\n",
      "           ...     \n",
      "7375    1161.930837\n",
      "7376    1390.227413\n",
      "7377    1921.632187\n",
      "7378    1396.559223\n",
      "7379    1281.715277\n",
      "Length: 7380, dtype: float64\n"
     ]
    }
   ],
   "source": [
    "testp2 = p2(x,w)\n",
    "print(testp2)"
   ]
  },
  {
   "cell_type": "code",
   "execution_count": 14,
   "metadata": {},
   "outputs": [
    {
     "data": {
      "text/plain": [
       "0       2068.703517\n",
       "1       1425.748759\n",
       "2       1153.983153\n",
       "3       1511.393234\n",
       "4       1301.874465\n",
       "           ...     \n",
       "7375    1161.930837\n",
       "7376    1390.227413\n",
       "7377    1921.632187\n",
       "7378    1396.559223\n",
       "7379    1281.715277\n",
       "Length: 7380, dtype: float64"
      ]
     },
     "execution_count": 14,
     "metadata": {},
     "output_type": "execute_result"
    }
   ],
   "source": [
    "testp2"
   ]
  },
  {
   "cell_type": "markdown",
   "metadata": {},
   "source": [
    "#### Task V\n",
    "Create a function `Loss(x,y,w)`, which computes the squared loss of predicting **y** from **x** by `p2(x,w)` using parameters **w**. We have specified **y** as the variable PTS above. We will predict scored points (PTS) based on assists, rebounds and steals.\n",
    "\n",
    "\n",
    "HINTS: \n",
    "- Output of `p2(x,w)` represents our predictions. `y_pred = p2(x,w)`\n",
    "- Loss can be computed as:\n",
    "\n",
    "```\n",
    "np.mean((y_pred - y)**2)\n",
    "```"
   ]
  },
  {
   "cell_type": "code",
   "execution_count": 35,
   "metadata": {},
   "outputs": [],
   "source": [
    "def Loss(x,y,w):\n",
    "    y_pred = p2(x,w)\n",
    "    loss = np.mean((y_pred - y)**2)\n",
    "    return loss"
   ]
  },
  {
   "cell_type": "code",
   "execution_count": 36,
   "metadata": {},
   "outputs": [
    {
     "data": {
      "text/plain": [
       "1936041.1827870472"
      ]
     },
     "execution_count": 36,
     "metadata": {},
     "output_type": "execute_result"
    }
   ],
   "source": [
    "Loss(x,y,w)"
   ]
  },
  {
   "cell_type": "markdown",
   "metadata": {},
   "source": [
    "#### Task VI\n",
    "Code up the gradient descent. It should input **x**, target variable **y**, stepsize **alpha**, coeficients **w** and **maximum number of iterations**.\n",
    "\n",
    "Steps:\n",
    "1. transform input `x`\n",
    "2. compute initial loss for given, x,y and w and append it to the empty list.\n",
    "3. Inside the for loop, update each element of **w**, **w[i]**, using gradient descent.\n",
    "\n",
    "HINT: `w[i] = w[i] - alpha * (1.0 / m) * errors_i.sum()` where `errors_i = (y_pred - y) * X.iloc[:, i]`. We are scaling the errors by multiplicating with values that are relevant for coeficients `w[i]` (column `i` of DataFrame `X`, output of `psi(x)`).\n",
    "\n",
    "4. compute new loss using updated `w` and append to the list that we created in the step 2.\n",
    "5. repeat steps 3 and 4 for max number of iterations times."
   ]
  },
  {
   "cell_type": "code",
   "execution_count": 39,
   "metadata": {},
   "outputs": [
    {
     "data": {
      "text/plain": [
       "array([0.8488177 , 0.17889592, 0.05436321, 0.36153845, 0.27540093,\n",
       "       0.53000022, 0.30591892, 0.30447436, 0.11174128, 0.24989901])"
      ]
     },
     "execution_count": 39,
     "metadata": {},
     "output_type": "execute_result"
    }
   ],
   "source": [
    "np.random.seed(15)\n",
    "w = np.random.rand(10)\n",
    "w"
   ]
  },
  {
   "cell_type": "code",
   "execution_count": 52,
   "metadata": {},
   "outputs": [],
   "source": [
    "def gradient_descent(x,y,w,alpha=0.01,max_iter=10):\n",
    "    X=psi(x)\n",
    "    past_loss=[]\n",
    "    past_loss.append(Loss(x,y,w))\n",
    "    for i in range(max_iter):\n",
    "        y_pred = p2(x,w)\n",
    "        for j in range(len(w)):\n",
    "            w[j] = w[j] - alpha * (1/y.size) * (np.dot((y_pred-y), X.iloc[:,j]))\n",
    "        loss = Loss(x,y,w)\n",
    "        past_loss.append(loss)\n",
    "    return past_loss, w"
   ]
  },
  {
   "cell_type": "markdown",
   "metadata": {},
   "source": [
    "#### Task VII\n",
    "Choose an arbitrary **w** and **alpha** and run gradient descent for 100 iterations. How does the loss behave? Does it converge to something?\n"
   ]
  },
  {
   "cell_type": "code",
   "execution_count": 53,
   "metadata": {},
   "outputs": [],
   "source": [
    "alpha = 0.01\n",
    "max_iter=10 "
   ]
  },
  {
   "cell_type": "code",
   "execution_count": 54,
   "metadata": {},
   "outputs": [
    {
     "data": {
      "text/plain": [
       "([2.385979618200766e+195,\n",
       "  6.795791097083544e+204,\n",
       "  1.9355897377709267e+214,\n",
       "  5.512982343692057e+223,\n",
       "  1.5702177857618566e+233,\n",
       "  4.4723232200153555e+242,\n",
       "  1.2738153373153833e+252,\n",
       "  3.6281043067686236e+261,\n",
       "  1.0333633514363935e+271,\n",
       "  2.9432445315855005e+280,\n",
       "  8.383003287920605e+289],\n",
       " array([3.73027416e+139, 7.45203179e+139, 1.28132256e+139, 1.65935972e+138,\n",
       "        8.80700626e+140, 3.41885469e+141, 1.13582892e+140, 2.91089333e+140,\n",
       "        1.67675217e+141, 5.71817562e+140]))"
      ]
     },
     "execution_count": 54,
     "metadata": {},
     "output_type": "execute_result"
    }
   ],
   "source": [
    "gradient_descent(x,y,w,alpha,max_iter)"
   ]
  },
  {
   "cell_type": "code",
   "execution_count": 56,
   "metadata": {},
   "outputs": [
    {
     "data": {
      "text/plain": [
       "array([0.8488177 , 0.17889592, 0.05436321, 0.36153845, 0.27540093,\n",
       "       0.53000022, 0.30591892, 0.30447436, 0.11174128, 0.24989901])"
      ]
     },
     "execution_count": 56,
     "metadata": {},
     "output_type": "execute_result"
    }
   ],
   "source": [
    "np.random.seed(15)\n",
    "w = np.random.rand(10)\n",
    "w"
   ]
  },
  {
   "cell_type": "markdown",
   "metadata": {},
   "source": [
    "#### Task VIII\n",
    "Can you find which **alpha** from `[1, 0.1, 0.01, 0.001, 0.0001, 0.00001, 0.000001, 0.0000001, 0.00000001]` has the smallest loss after 100 iterations for a given **w**?"
   ]
  },
  {
   "cell_type": "code",
   "execution_count": 59,
   "metadata": {},
   "outputs": [
    {
     "name": "stdout",
     "output_type": "stream",
     "text": [
      "[inf, inf, inf, inf, inf, inf]\n",
      "[inf, nan, nan, nan, nan, nan]\n",
      "[nan, nan, nan, nan, nan, nan]\n",
      "[nan, nan, nan, nan, nan, nan]\n",
      "[nan, nan, nan, nan, nan, nan]\n",
      "[nan, nan, nan, nan, nan, nan]\n",
      "[nan, nan, nan, nan, nan, nan]\n",
      "[nan, nan, nan, nan, nan, nan]\n",
      "[nan, nan, nan, nan, nan, nan]\n"
     ]
    }
   ],
   "source": [
    "alphas = [1, 0.1, 0.01, 0.001, 0.0001, 0.00001, 0.000001, 0.0000001, 0.00000001]\n",
    "for a in alphas: \n",
    "    print(gradient_descent(x,y,w,a,max_iter=5)[0])"
   ]
  },
  {
   "cell_type": "code",
   "execution_count": null,
   "metadata": {},
   "outputs": [],
   "source": []
  }
 ],
 "metadata": {
  "kernelspec": {
   "display_name": "lhl_env38",
   "language": "python",
   "name": "lhl_env38"
  },
  "language_info": {
   "codemirror_mode": {
    "name": "ipython",
    "version": 3
   },
   "file_extension": ".py",
   "mimetype": "text/x-python",
   "name": "python",
   "nbconvert_exporter": "python",
   "pygments_lexer": "ipython3",
   "version": "3.8.13"
  }
 },
 "nbformat": 4,
 "nbformat_minor": 4
}
