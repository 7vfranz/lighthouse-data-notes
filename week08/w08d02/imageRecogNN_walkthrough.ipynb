{
 "cells": [
  {
   "cell_type": "code",
   "execution_count": 1,
   "metadata": {},
   "outputs": [],
   "source": [
    "from tensorflow.keras.models import Sequential\n",
    "from tensorflow.keras.layers import Convolution2D\n",
    "from tensorflow.keras.layers import MaxPooling2D\n",
    "from tensorflow.keras.layers import Flatten\n",
    "from tensorflow.keras.layers import Dense"
   ]
  },
  {
   "cell_type": "code",
   "execution_count": 2,
   "metadata": {},
   "outputs": [],
   "source": [
    "# images separated by training and test within the data set - using separate folders"
   ]
  },
  {
   "cell_type": "code",
   "execution_count": 3,
   "metadata": {},
   "outputs": [],
   "source": [
    "# building the network: convolution > pooling > flattening > full connection\n",
    "# Initialising the CNN\n",
    "classifier = Sequential()\n",
    "\n",
    "# Step 1 - Convolution\n",
    "classifier.add(Convolution2D(32, 3, 3, input_shape = (64, 64, 3), activation = 'relu'))\n",
    "# Step 2 - Pooling\n",
    "classifier.add(MaxPooling2D(pool_size = (2, 2)))\n",
    "# Step 3 - Flattening\n",
    "classifier.add(Flatten())\n",
    "# Step 4 - Full connection\n",
    "classifier.add(Dense(128, activation = 'relu'))\n",
    "classifier.add(Dense(1, activation = 'sigmoid'))\n",
    "\n",
    "# Compiling the CNN\n",
    "classifier.compile(optimizer = 'adam', loss = 'binary_crossentropy', metrics = ['accuracy'])"
   ]
  },
  {
   "cell_type": "markdown",
   "metadata": {},
   "source": [
    "1. Convolution - extract features from input image, preserving the spatial relationship between pixels\n",
    "<br> First number (32): dimension of output space (32x32 matrix)\n",
    "<br> Kernel_size: height and width of the 2D convolution window - can be a tuple if a rectangle is required\n",
    "<br> Strides: specify strides, movement along the axis, tuple if we want different heights and widths\n",
    "\n",
    "2. Pooling - pool_size - define the 'spatial neighbourhood' to take the max element from \n",
    "3. Flattening - convert matrix into one dimension \n",
    "4. Full connection - connecting convolutional network to NN for final prediction "
   ]
  },
  {
   "cell_type": "code",
   "execution_count": 4,
   "metadata": {},
   "outputs": [
    {
     "name": "stdout",
     "output_type": "stream",
     "text": [
      "Found 8000 images belonging to 2 classes.\n",
      "Found 2000 images belonging to 2 classes.\n"
     ]
    }
   ],
   "source": [
    "# Data Augmentation - altering current dataset (flips, translations, rotations) to reduce overfitting, and increases training data \n",
    "# can be done manually with PIL (pillow) or keras preprocessing\n",
    "from tensorflow.keras.preprocessing.image import ImageDataGenerator\n",
    "\n",
    "train_datagen = ImageDataGenerator(rescale = 1./255,\n",
    "                                   shear_range = 0.2,\n",
    "                                   zoom_range = 0.2,\n",
    "                                   horizontal_flip = True)\n",
    "\n",
    "test_datagen = ImageDataGenerator(rescale = 1./255)\n",
    "\n",
    "training_set = train_datagen.flow_from_directory('dataset/training_set',\n",
    "                                                 target_size = (64, 64),\n",
    "                                                 batch_size = 32,\n",
    "                                                 class_mode = 'binary')\n",
    "\n",
    "test_set = test_datagen.flow_from_directory('dataset/test_set',\n",
    "                                            target_size = (64, 64),\n",
    "                                            batch_size = 32,\n",
    "                                            class_mode = 'binary')"
   ]
  },
  {
   "cell_type": "code",
   "execution_count": 21,
   "metadata": {},
   "outputs": [
    {
     "name": "stdout",
     "output_type": "stream",
     "text": [
      "Epoch 1/20\n",
      " 1/50 [..............................] - ETA: 3s - loss: 0.5278 - accuracy: 0.8125"
     ]
    },
    {
     "name": "stderr",
     "output_type": "stream",
     "text": [
      "/var/folders/fm/m7sbfrtn37dcz2lvxhvj6q0m0000gn/T/ipykernel_34105/3158257038.py:3: UserWarning: `Model.fit_generator` is deprecated and will be removed in a future version. Please use `Model.fit`, which supports generators.\n",
      "  history = classifier.fit_generator(training_set,\n"
     ]
    },
    {
     "name": "stdout",
     "output_type": "stream",
     "text": [
      "50/50 [==============================] - 6s 113ms/step - loss: 0.6003 - accuracy: 0.6775 - val_loss: 0.6535 - val_accuracy: 0.6125\n",
      "Epoch 2/20\n",
      "50/50 [==============================] - 5s 101ms/step - loss: 0.6087 - accuracy: 0.6756 - val_loss: 0.5823 - val_accuracy: 0.7070\n",
      "Epoch 3/20\n",
      "50/50 [==============================] - 5s 99ms/step - loss: 0.5737 - accuracy: 0.7031 - val_loss: 0.5702 - val_accuracy: 0.7060\n",
      "Epoch 4/20\n",
      "50/50 [==============================] - 5s 99ms/step - loss: 0.5816 - accuracy: 0.6969 - val_loss: 0.5774 - val_accuracy: 0.7125\n",
      "Epoch 5/20\n",
      "50/50 [==============================] - 5s 98ms/step - loss: 0.5693 - accuracy: 0.7188 - val_loss: 0.5767 - val_accuracy: 0.7040\n",
      "Epoch 6/20\n",
      "50/50 [==============================] - 5s 97ms/step - loss: 0.5714 - accuracy: 0.7056 - val_loss: 0.5656 - val_accuracy: 0.7140\n",
      "Epoch 7/20\n",
      "50/50 [==============================] - 5s 97ms/step - loss: 0.5777 - accuracy: 0.7025 - val_loss: 0.5978 - val_accuracy: 0.6750\n",
      "Epoch 8/20\n",
      "50/50 [==============================] - 5s 96ms/step - loss: 0.5718 - accuracy: 0.7019 - val_loss: 0.5689 - val_accuracy: 0.7185\n",
      "Epoch 9/20\n",
      "50/50 [==============================] - 5s 98ms/step - loss: 0.5609 - accuracy: 0.7056 - val_loss: 0.5670 - val_accuracy: 0.7065\n",
      "Epoch 10/20\n",
      "50/50 [==============================] - 5s 96ms/step - loss: 0.5660 - accuracy: 0.7006 - val_loss: 0.5542 - val_accuracy: 0.7210\n",
      "Epoch 11/20\n",
      "50/50 [==============================] - 5s 96ms/step - loss: 0.5507 - accuracy: 0.7169 - val_loss: 0.5528 - val_accuracy: 0.7305\n",
      "Epoch 12/20\n",
      "50/50 [==============================] - 5s 96ms/step - loss: 0.5771 - accuracy: 0.6944 - val_loss: 0.5475 - val_accuracy: 0.7180\n",
      "Epoch 13/20\n",
      "50/50 [==============================] - 5s 96ms/step - loss: 0.5600 - accuracy: 0.7181 - val_loss: 0.5614 - val_accuracy: 0.7050\n",
      "Epoch 14/20\n",
      "50/50 [==============================] - 5s 96ms/step - loss: 0.5406 - accuracy: 0.7300 - val_loss: 0.6226 - val_accuracy: 0.6670\n",
      "Epoch 15/20\n",
      "50/50 [==============================] - 5s 95ms/step - loss: 0.5648 - accuracy: 0.7044 - val_loss: 0.5539 - val_accuracy: 0.7180\n",
      "Epoch 16/20\n",
      "50/50 [==============================] - 5s 97ms/step - loss: 0.5265 - accuracy: 0.7375 - val_loss: 0.5394 - val_accuracy: 0.7340\n",
      "Epoch 17/20\n",
      "50/50 [==============================] - 5s 102ms/step - loss: 0.5442 - accuracy: 0.7194 - val_loss: 0.5416 - val_accuracy: 0.7300\n",
      "Epoch 18/20\n",
      "50/50 [==============================] - 5s 102ms/step - loss: 0.5312 - accuracy: 0.7394 - val_loss: 0.5514 - val_accuracy: 0.7260\n",
      "Epoch 19/20\n",
      "50/50 [==============================] - 5s 100ms/step - loss: 0.5416 - accuracy: 0.7156 - val_loss: 0.5339 - val_accuracy: 0.7335\n",
      "Epoch 20/20\n",
      "50/50 [==============================] - 5s 102ms/step - loss: 0.5201 - accuracy: 0.7300 - val_loss: 0.5417 - val_accuracy: 0.7310\n"
     ]
    }
   ],
   "source": [
    "# can lead to overfitting with many epochs, but too low will reduce the quality of the model\n",
    "# TRAINING\n",
    "history = classifier.fit_generator(training_set,\n",
    "                         steps_per_epoch = 50,\n",
    "                         epochs = 20,\n",
    "                         validation_data = test_set)"
   ]
  },
  {
   "cell_type": "code",
   "execution_count": 22,
   "metadata": {},
   "outputs": [
    {
     "data": {
      "image/png": "[encoded data removed]",
      "text/plain": [
       "<Figure size 432x288 with 1 Axes>"
      ]
     },
     "metadata": {
      "needs_background": "light"
     },
     "output_type": "display_data"
    }
   ],
   "source": [
    "from matplotlib import pyplot as plt\n",
    "# plot history\n",
    "plt.plot(history.history['loss'], label='train')\n",
    "plt.plot(history.history['val_loss'], label='test')\n",
    "plt.legend()\n",
    "plt.show()"
   ]
  },
  {
   "cell_type": "code",
   "execution_count": 46,
   "metadata": {},
   "outputs": [
    {
     "name": "stdout",
     "output_type": "stream",
     "text": [
      "dog\n"
     ]
    }
   ],
   "source": [
    "import numpy as np\n",
    "from tensorflow.keras.preprocessing import image\n",
    "# loading an image from the disk\n",
    "test_image = image.load_img('/Users/franzv/Downloads/cat.4002.jpg', target_size = (64, 64))\n",
    "# converting the image to a numpy array\n",
    "test_image = image.img_to_array(test_image)\n",
    "test_image = np.expand_dims(test_image, axis = 0)\n",
    "result = classifier.predict(test_image)\n",
    "# print(training_set.class_indices)\n",
    "# our cut-off\n",
    "if result[0][0] >= 0.5:\n",
    "    prediction = 'dog'\n",
    "else:\n",
    "    prediction = 'cat'\n",
    "print(prediction)"
   ]
  },
  {
   "cell_type": "code",
   "execution_count": null,
   "metadata": {},
   "outputs": [],
   "source": [
    "# network seems pretty bad at detecting cats"
   ]
  }
 ],
 "metadata": {
  "kernelspec": {
   "display_name": "Python 3.8.13 ('lhl_env38')",
   "language": "python",
   "name": "python3"
  },
  "language_info": {
   "codemirror_mode": {
    "name": "ipython",
    "version": 3
   },
   "file_extension": ".py",
   "mimetype": "text/x-python",
   "name": "python",
   "nbconvert_exporter": "python",
   "pygments_lexer": "ipython3",
   "version": "3.8.13"
  },
  "orig_nbformat": 4,
  "vscode": {
   "interpreter": {
    "hash": "93c9cabeb8165e6a1575ace97e023eeebe73f88984ce88042818ce2a73501ce8"
   }
  }
 },
 "nbformat": 4,
 "nbformat_minor": 2
}
