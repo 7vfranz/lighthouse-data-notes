{
 "cells": [
  {
   "cell_type": "markdown",
   "metadata": {},
   "source": [
    "## Deep Learning Challenge"
   ]
  },
  {
   "cell_type": "markdown",
   "metadata": {},
   "source": [
    "### Loading the CIFAR10 data\n",
    "The data can be loaded directly from keras (`keras.datasets.cifar10`).\n",
    "\n",
    "```python\n",
    "cifar10 = keras.datasets.cifar10\n",
    "(train_images, train_labels), (test_images, test_labels) = cifar10.load_data()\n",
    "```\n",
    "\n",
    "[solution](https://machinelearningmastery.com/how-to-develop-a-cnn-from-scratch-for-cifar-10-photo-classification/)"
   ]
  },
  {
   "cell_type": "code",
   "execution_count": 1,
   "metadata": {},
   "outputs": [],
   "source": [
    "import keras\n",
    "from tensorflow.keras.preprocessing.image import ImageDataGenerator\n",
    "from tensorflow.keras import datasets\n",
    "\n",
    "from tensorflow.keras.models import Sequential\n",
    "from tensorflow.keras.layers import Convolution2D\n",
    "from tensorflow.keras.layers import MaxPooling2D\n",
    "from tensorflow.keras.layers import Flatten\n",
    "from tensorflow.keras.layers import Dense"
   ]
  },
  {
   "cell_type": "code",
   "execution_count": 2,
   "metadata": {},
   "outputs": [],
   "source": [
    "import matplotlib.pyplot as plt\n",
    "import numpy as np"
   ]
  },
  {
   "cell_type": "code",
   "execution_count": 3,
   "metadata": {},
   "outputs": [],
   "source": [
    "cifar10 = keras.datasets.cifar10\n",
    "(train_images, train_labels), (test_images, test_labels) = cifar10.load_data()"
   ]
  },
  {
   "cell_type": "code",
   "execution_count": 4,
   "metadata": {},
   "outputs": [
    {
     "data": {
      "image/png": "[encoded data removed]",
      "text/plain": [
       "<Figure size 432x288 with 3 Axes>"
      ]
     },
     "metadata": {
      "needs_background": "light"
     },
     "output_type": "display_data"
    }
   ],
   "source": [
    "for x in range(10,13):\n",
    "    plt.subplot(330 + 1 + x)\n",
    "    plt.imshow(train_images[x])\n",
    "plt.show()"
   ]
  },
  {
   "cell_type": "markdown",
   "metadata": {},
   "source": [
    "#### Task: Build a convulution neural network (CNN) to predict the object in the images. \n",
    "\n",
    "Try to do it on your own first before consulting with peers or tutorials on the internet. If you are stuck early, reach out to a mentor who will point you in the right direction."
   ]
  },
  {
   "cell_type": "code",
   "execution_count": 35,
   "metadata": {},
   "outputs": [],
   "source": [
    "# image augmentation, could pass rescale here rescale=1./255\n",
    "datagen_train = ImageDataGenerator(zoom_range=0.2,\n",
    "                            rotation_range=20,\n",
    "                            horizontal_flip=True,\n",
    "                            validation_split=0.2,\n",
    "                            width_shift_range=0.1,\n",
    "                            height_shift_range=0.1,\n",
    "                            )\n",
    "\n",
    "# datagen_test = ImageDataGenerator(rescale = 1./255)"
   ]
  },
  {
   "cell_type": "code",
   "execution_count": 36,
   "metadata": {},
   "outputs": [
    {
     "name": "stdout",
     "output_type": "stream",
     "text": [
      "(50000, 32, 32, 3)\n",
      "(10000, 32, 32, 3)\n"
     ]
    }
   ],
   "source": [
    "print(train_images.shape)\n",
    "print(test_images.shape)"
   ]
  },
  {
   "cell_type": "code",
   "execution_count": 37,
   "metadata": {},
   "outputs": [],
   "source": [
    "# # passing data augmentation\n",
    "datagen_train.fit(train_images)\n",
    "# # datagen_test.fit(test_images)"
   ]
  },
  {
   "cell_type": "code",
   "execution_count": 8,
   "metadata": {},
   "outputs": [],
   "source": [
    "# train_images = datagen_train.flow(train_images, train_labels, batch_size=32)\n",
    "# test_images = datagen_test.flow(test_images, test_labels, batch_size=32)"
   ]
  },
  {
   "cell_type": "code",
   "execution_count": 8,
   "metadata": {},
   "outputs": [],
   "source": [
    "train_images = train_images/255\n",
    "test_images = test_images/255"
   ]
  },
  {
   "cell_type": "code",
   "execution_count": 9,
   "metadata": {},
   "outputs": [],
   "source": [
    "# convert to floats\n",
    "train_images = train_images.astype('float32')\n",
    "test_images = test_images.astype('float32')"
   ]
  },
  {
   "cell_type": "code",
   "execution_count": 10,
   "metadata": {},
   "outputs": [],
   "source": [
    "# 10 classes \n",
    "from tensorflow.keras.utils import to_categorical\n",
    "train_labels = to_categorical(train_labels, 10)\n",
    "test_labels = to_categorical(test_labels, 10)"
   ]
  },
  {
   "cell_type": "code",
   "execution_count": 23,
   "metadata": {},
   "outputs": [
    {
     "data": {
      "text/plain": [
       "(10000, 32, 32, 3)"
      ]
     },
     "execution_count": 23,
     "metadata": {},
     "output_type": "execute_result"
    }
   ],
   "source": [
    "train_images.shape\n",
    "test_images.shape"
   ]
  },
  {
   "cell_type": "code",
   "execution_count": 26,
   "metadata": {},
   "outputs": [],
   "source": [
    "# build network - convolution, pool, flatten, full \n",
    "model = Sequential()\n",
    "\n",
    "# convolution model\n",
    "model.add(Convolution2D(32, 3, 3, input_shape=(32,32,3), activation='relu'))\n",
    "model.add(MaxPooling2D(pool_size=(2,2)))\n",
    "\n",
    "model.add(Flatten())\n",
    "model.add(Dense(128, activation='relu'))\n",
    "model.add(Dense(10, activation='softmax')) #classes \n",
    "\n",
    "# compiling the CNN\n",
    "model.compile(optimizer='adam', loss='categorical_crossentropy', metrics=['accuracy'])"
   ]
  },
  {
   "cell_type": "code",
   "execution_count": 27,
   "metadata": {},
   "outputs": [
    {
     "data": {
      "text/plain": [
       "(10000, 32, 32, 3)"
      ]
     },
     "execution_count": 27,
     "metadata": {},
     "output_type": "execute_result"
    }
   ],
   "source": [
    "test_images.shape"
   ]
  },
  {
   "cell_type": "code",
   "execution_count": 28,
   "metadata": {},
   "outputs": [
    {
     "name": "stdout",
     "output_type": "stream",
     "text": [
      "Epoch 1/5\n",
      "391/391 [==============================] - 2s 5ms/step - loss: 1.7120 - accuracy: 0.3897 - val_loss: 1.4913 - val_accuracy: 0.4752\n",
      "Epoch 2/5\n",
      "391/391 [==============================] - 2s 5ms/step - loss: 1.4333 - accuracy: 0.4929 - val_loss: 1.3727 - val_accuracy: 0.5145\n",
      "Epoch 3/5\n",
      "391/391 [==============================] - 2s 5ms/step - loss: 1.3413 - accuracy: 0.5288 - val_loss: 1.3186 - val_accuracy: 0.5343\n",
      "Epoch 4/5\n",
      "391/391 [==============================] - 2s 5ms/step - loss: 1.2803 - accuracy: 0.5495 - val_loss: 1.2715 - val_accuracy: 0.5516\n",
      "Epoch 5/5\n",
      "391/391 [==============================] - 2s 5ms/step - loss: 1.2346 - accuracy: 0.5652 - val_loss: 1.2470 - val_accuracy: 0.5617\n"
     ]
    }
   ],
   "source": [
    "history = model.fit(train_images, train_labels,\n",
    "                    batch_size=128,\n",
    "                    epochs=5, validation_data=(test_images, test_labels))"
   ]
  },
  {
   "cell_type": "code",
   "execution_count": 38,
   "metadata": {},
   "outputs": [
    {
     "name": "stdout",
     "output_type": "stream",
     "text": [
      "Epoch 1/10\n",
      "  4/128 [..............................] - ETA: 2s - loss: 3.0318 - accuracy: 0.0918"
     ]
    },
    {
     "name": "stderr",
     "output_type": "stream",
     "text": [
      "/var/folders/fm/m7sbfrtn37dcz2lvxhvj6q0m0000gn/T/ipykernel_35081/80860932.py:2: UserWarning: `Model.fit_generator` is deprecated and will be removed in a future version. Please use `Model.fit`, which supports generators.\n",
      "  history2 = model.fit_generator(datagen_train.flow(train_images, train_labels, batch_size=128),\n"
     ]
    },
    {
     "name": "stdout",
     "output_type": "stream",
     "text": [
      "128/128 [==============================] - 3s 25ms/step - loss: 2.3430 - accuracy: 0.1050 - val_loss: 1.9861 - val_accuracy: 0.3757\n",
      "Epoch 2/10\n",
      "128/128 [==============================] - 3s 24ms/step - loss: 2.3052 - accuracy: 0.1042 - val_loss: 1.9582 - val_accuracy: 0.3843\n",
      "Epoch 3/10\n",
      "128/128 [==============================] - 3s 25ms/step - loss: 2.3047 - accuracy: 0.1053 - val_loss: 1.9121 - val_accuracy: 0.3901\n",
      "Epoch 4/10\n",
      "128/128 [==============================] - 3s 24ms/step - loss: 2.3028 - accuracy: 0.1083 - val_loss: 1.9353 - val_accuracy: 0.3889\n",
      "Epoch 5/10\n",
      "128/128 [==============================] - 3s 25ms/step - loss: 2.3038 - accuracy: 0.1060 - val_loss: 1.9366 - val_accuracy: 0.3919\n",
      "Epoch 6/10\n",
      "128/128 [==============================] - 3s 24ms/step - loss: 2.3032 - accuracy: 0.1063 - val_loss: 1.8841 - val_accuracy: 0.3924\n",
      "Epoch 7/10\n",
      "128/128 [==============================] - 3s 25ms/step - loss: 2.3027 - accuracy: 0.1080 - val_loss: 1.9103 - val_accuracy: 0.3889\n",
      "Epoch 8/10\n",
      "128/128 [==============================] - 3s 24ms/step - loss: 2.3016 - accuracy: 0.1083 - val_loss: 1.8772 - val_accuracy: 0.3945\n",
      "Epoch 9/10\n",
      "128/128 [==============================] - 3s 25ms/step - loss: 2.3015 - accuracy: 0.1064 - val_loss: 1.9224 - val_accuracy: 0.3873\n",
      "Epoch 10/10\n",
      "128/128 [==============================] - 3s 25ms/step - loss: 2.3019 - accuracy: 0.1070 - val_loss: 1.9437 - val_accuracy: 0.3863\n"
     ]
    }
   ],
   "source": [
    "# with augmentation \n",
    "history2 = model.fit_generator(datagen_train.flow(train_images, train_labels, batch_size=128),\n",
    "steps_per_epoch=128, epochs=10, validation_data=(test_images, test_labels))"
   ]
  },
  {
   "cell_type": "code",
   "execution_count": 33,
   "metadata": {},
   "outputs": [
    {
     "data": {
      "image/png": "[encoded data removed]",
      "text/plain": [
       "<Figure size 432x288 with 1 Axes>"
      ]
     },
     "metadata": {
      "needs_background": "light"
     },
     "output_type": "display_data"
    }
   ],
   "source": [
    "# plot history\n",
    "plt.plot(history.history['loss'], label='train')\n",
    "plt.plot(history.history['val_loss'], label='test')\n",
    "plt.legend()\n",
    "plt.show()"
   ]
  },
  {
   "cell_type": "code",
   "execution_count": 31,
   "metadata": {},
   "outputs": [
    {
     "data": {
      "image/png": "[encoded data removed]",
      "text/plain": [
       "<Figure size 432x288 with 1 Axes>"
      ]
     },
     "metadata": {
      "needs_background": "light"
     },
     "output_type": "display_data"
    }
   ],
   "source": [
    "# plot history - with augmentation\n",
    "plt.plot(history2.history['loss'], label='train')\n",
    "plt.plot(history2.history['val_loss'], label='test')\n",
    "plt.legend()\n",
    "plt.show()"
   ]
  },
  {
   "cell_type": "code",
   "execution_count": null,
   "metadata": {},
   "outputs": [],
   "source": []
  }
 ],
 "metadata": {
  "kernelspec": {
   "display_name": "Python 3.8.13 ('lhl_env38')",
   "language": "python",
   "name": "python3"
  },
  "language_info": {
   "codemirror_mode": {
    "name": "ipython",
    "version": 3
   },
   "file_extension": ".py",
   "mimetype": "text/x-python",
   "name": "python",
   "nbconvert_exporter": "python",
   "pygments_lexer": "ipython3",
   "version": "3.8.13"
  },
  "vscode": {
   "interpreter": {
    "hash": "93c9cabeb8165e6a1575ace97e023eeebe73f88984ce88042818ce2a73501ce8"
   }
  }
 },
 "nbformat": 4,
 "nbformat_minor": 4
}
