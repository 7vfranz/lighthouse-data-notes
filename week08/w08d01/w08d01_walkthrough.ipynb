{
 "cells": [
  {
   "cell_type": "code",
   "execution_count": 1,
   "metadata": {},
   "outputs": [],
   "source": [
    "# Creating data set - predicting A B or C\n",
    "\n",
    "# A\n",
    "a =[0, 0, 1, 1, 0, 0,\n",
    "0, 1, 0, 0, 1, 0,\n",
    "1, 1, 1, 1, 1, 1,\n",
    "1, 0, 0, 0, 0, 1,\n",
    "1, 0, 0, 0, 0, 1]\n",
    "# B\n",
    "b =[0, 1, 1, 1, 1, 0,\n",
    "0, 1, 0, 0, 1, 0,\n",
    "0, 1, 1, 1, 1, 0,\n",
    "0, 1, 0, 0, 1, 0,\n",
    "0, 1, 1, 1, 1, 0]\n",
    "# C\n",
    "c =[0, 1, 1, 1, 1, 0,\n",
    "0, 1, 0, 0, 0, 0,\n",
    "0, 1, 0, 0, 0, 0,\n",
    "0, 1, 0, 0, 0, 0,\n",
    "0, 1, 1, 1, 1, 0]\n",
    "\n",
    "# Creating labels\n",
    "y =[[1, 0, 0],\n",
    "[0, 1, 0],\n",
    "[0, 0, 1]]\n"
   ]
  },
  {
   "cell_type": "code",
   "execution_count": 2,
   "metadata": {},
   "outputs": [
    {
     "data": {
      "image/png": "[encoded data removed]",
      "text/plain": [
       "<Figure size 432x288 with 1 Axes>"
      ]
     },
     "metadata": {
      "needs_background": "light"
     },
     "output_type": "display_data"
    }
   ],
   "source": [
    "import numpy as np\n",
    "import matplotlib.pyplot as plt\n",
    "# visualizing the data, ploting A.\n",
    "plt.imshow(np.array(a).reshape(5, 6))\n",
    "plt.show()"
   ]
  },
  {
   "cell_type": "code",
   "execution_count": 5,
   "metadata": {},
   "outputs": [
    {
     "name": "stdout",
     "output_type": "stream",
     "text": [
      "[array([[0, 0, 1, 1, 0, 0, 0, 1, 0, 0, 1, 0, 1, 1, 1, 1, 1, 1, 1, 0, 0, 0,\n",
      "        0, 1, 1, 0, 0, 0, 0, 1]]), array([[0, 1, 1, 1, 1, 0, 0, 1, 0, 0, 1, 0, 0, 1, 1, 1, 1, 0, 0, 1, 0, 0,\n",
      "        1, 0, 0, 1, 1, 1, 1, 0]]), array([[0, 1, 1, 1, 1, 0, 0, 1, 0, 0, 0, 0, 0, 1, 0, 0, 0, 0, 0, 1, 0, 0,\n",
      "        0, 0, 0, 1, 1, 1, 1, 0]])] \n",
      "\n",
      " [[1 0 0]\n",
      " [0 1 0]\n",
      " [0 0 1]]\n"
     ]
    }
   ],
   "source": [
    "\n",
    "# converting data and labels into numpy array\n",
    " \n",
    "\"\"\"\n",
    "Convert the matrix of 0 and 1 into one hot vector\n",
    "so that we can directly feed it to the neural network,\n",
    "these vectors are then stored in a list x.\n",
    "\"\"\"\n",
    " \n",
    "x =[np.array(a).reshape(1, 30), np.array(b).reshape(1, 30),\n",
    "                                np.array(c).reshape(1, 30)]\n",
    " \n",
    " \n",
    "# Labels are also converted into NumPy array\n",
    "y = np.array(y)\n",
    " \n",
    "print(x, \"\\n\\n\", y)"
   ]
  },
  {
   "cell_type": "code",
   "execution_count": 6,
   "metadata": {},
   "outputs": [],
   "source": [
    "# Defining layers of the NN\n",
    "# 1st layer: Input layer(1, 30)\n",
    "# 2nd layer: Hidden layer (1, 5)\n",
    "# 3rd layer: Output layer(3, 3)"
   ]
  },
  {
   "cell_type": "code",
   "execution_count": 7,
   "metadata": {},
   "outputs": [],
   "source": [
    "# activation function\n",
    "\n",
    "def sigmoid(x):\n",
    "\treturn(1/(1 + np.exp(-x)))\n",
    "\n",
    "# Creating the Feed forward neural network\n",
    "# 1 Input layer(1, 30)\n",
    "# 1 hidden layer (1, 5)\n",
    "# 1 output layer(3, 3)\n",
    "\n",
    "def f_forward(x, w1, w2):\n",
    "\t# hidden\n",
    "\tz1 = x.dot(w1)# input from layer 1 # dot product of matrix and vector \n",
    "\ta1 = sigmoid(z1)# out put of layer 2 # changed to activation function\n",
    "\t\n",
    "\t# Output layer \n",
    "\tz2 = a1.dot(w2)# input of out layer \n",
    "\ta2 = sigmoid(z2)# output of out layer\n",
    "\treturn(a2)\n",
    "\n",
    "# initializing the weights randomly # for SGD\n",
    "def generate_wt(x, y):\n",
    "\tl =[]\n",
    "\tfor i in range(x * y):\n",
    "\t\tl.append(np.random.randn())\n",
    "\treturn(np.array(l).reshape(x, y))\n",
    "\t\n",
    "# for loss we will be using mean square error(MSE)\n",
    "def loss(out, Y):\n",
    "\ts =(np.square(out-Y))\n",
    "\ts = np.sum(s)/len(y)\n",
    "\treturn(s)\n",
    "\n",
    "# Back propagation of error\n",
    "def back_prop(x, y, w1, w2, alpha):\n",
    "\t\n",
    "\t# hidden layer\n",
    "\tz1 = x.dot(w1)# input from layer 1\n",
    "\ta1 = sigmoid(z1)# output of layer 2\n",
    "\t\n",
    "\t# Output layer\n",
    "\tz2 = a1.dot(w2)# input of out layer\n",
    "\ta2 = sigmoid(z2)# output of out layer\n",
    "\t# error in output layer\n",
    "\td2 =(a2-y)\n",
    "\td1 = np.multiply((w2.dot((d2.transpose()))).transpose(),\n",
    "\t\t\t\t\t\t\t\t(np.multiply(a1, 1-a1)))\n",
    "\n",
    "\t# Gradient for w1 and w2\n",
    "\tw1_adj = x.transpose().dot(d1) #transposed and multiplied by error\n",
    "\tw2_adj = a1.transpose().dot(d2)\n",
    "\t\n",
    "\t# Updating parameters/weights\n",
    "\tw1 = w1-(alpha*(w1_adj))\n",
    "\tw2 = w2-(alpha*(w2_adj))\n",
    "\t\n",
    "\treturn(w1, w2)\n",
    "\n",
    "def train(x, Y, w1, w2, alpha = 0.01, epoch = 10):\n",
    "\tacc =[]\n",
    "\tlosss =[]\n",
    "\tfor j in range(epoch):\n",
    "\t\tl =[]\n",
    "\t\tfor i in range(len(x)):\n",
    "\t\t\tout = f_forward(x[i], w1, w2)\n",
    "\t\t\tl.append((loss(out, Y[i])))\n",
    "\t\t\tw1, w2 = back_prop(x[i], y[i], w1, w2, alpha)\n",
    "\t\tprint(\"epochs:\", j + 1, \"======== acc:\", (1-(sum(l)/len(x)))*100)\n",
    "\t\tacc.append((1-(sum(l)/len(x)))*100)\n",
    "\t\tlosss.append(sum(l)/len(x))\n",
    "\treturn(acc, losss, w1, w2)\n",
    "\n",
    "def predict(x, w1, w2):\n",
    "\tOut = f_forward(x, w1, w2)\n",
    "\tmaxm = 0\n",
    "\tk = 0\n",
    "\tfor i in range(len(Out[0])):\n",
    "\t\tif(maxm<Out[0][i]):\n",
    "\t\t\tmaxm = Out[0][i]\n",
    "\t\t\tk = i\n",
    "\tif(k == 0):\n",
    "\t\tprint(\"Image is of letter A.\")\n",
    "\telif(k == 1):\n",
    "\t\tprint(\"Image is of letter B.\")\n",
    "\telse:\n",
    "\t\tprint(\"Image is of letter C.\")\n",
    "\tplt.imshow(x.reshape(5, 6))\n",
    "\tplt.show()"
   ]
  },
  {
   "cell_type": "code",
   "execution_count": 8,
   "metadata": {},
   "outputs": [
    {
     "name": "stdout",
     "output_type": "stream",
     "text": [
      "[[-0.53822694  0.56020836 -1.32771759  2.3954723  -1.25794926]\n",
      " [ 0.02479903  0.46436653  0.32769362 -1.62516767 -0.26312782]\n",
      " [-1.34042774 -1.11479907  0.30430489 -0.67589765 -1.24218437]\n",
      " [-1.86418918  1.28551045 -0.98752695  0.10493718  2.20753523]\n",
      " [ 0.12374136 -0.41673754  0.67059712 -0.3819703   1.40188002]\n",
      " [-0.37936581 -1.03383236  0.13833757  1.78234705 -0.20883056]\n",
      " [-1.71596855 -2.17674456  0.98464106  0.40761507 -0.89851175]\n",
      " [ 0.62791335  1.39458418 -0.38284771 -0.95576056 -0.41609489]\n",
      " [ 2.03352443  0.49999298 -0.12395003 -0.70365076  0.06236684]\n",
      " [-1.53273696 -0.34270935 -0.85284101  0.51179142  0.22023449]\n",
      " [-0.53180477  2.36536377 -0.46345081  0.5594623   0.00884039]\n",
      " [-0.07171503 -0.6894269   0.36316686 -1.60458802 -0.18102409]\n",
      " [ 1.11953215 -0.45922169 -2.20598665  0.52870933  0.11898127]\n",
      " [-0.46423511 -0.6826584  -0.81509102  1.30432516  1.53986827]\n",
      " [-1.08553974  0.68735886 -0.09644155  0.52771723  0.36262703]\n",
      " [ 0.03942207 -0.49016535 -0.227697   -0.12972683  0.378089  ]\n",
      " [-1.58850765  0.87332322  0.57596205  0.84543292 -0.94620645]\n",
      " [ 1.17978503  0.23601921 -1.94289386  0.08121216  0.66488843]\n",
      " [ 0.5248153  -0.226479    0.52375972 -1.35332713  1.64358243]\n",
      " [-0.21304886 -1.34110808  0.02291926  0.45521437 -0.39613044]\n",
      " [ 0.87732114  1.85816324  1.25282175  1.32675913 -0.10701779]\n",
      " [-1.97571643 -1.02497556  1.12156191  0.48624881 -1.05098765]\n",
      " [ 1.84732088  1.50582233  1.39200583  0.34110789 -0.14605555]\n",
      " [ 0.60311593  1.86232639  0.61020032  0.37244193  0.20349197]\n",
      " [ 1.16978753 -1.10855965  1.71808435 -1.05818739 -1.17089414]\n",
      " [ 2.37594917 -0.66505324 -1.44542455 -0.88019532 -0.46177847]\n",
      " [-1.19994807 -1.22036536 -0.81774605  0.54025058  0.50661336]\n",
      " [ 0.15210473  2.12338941 -0.77516809  0.56639426 -0.26516846]\n",
      " [-1.28612614 -0.7193347   0.28846834  0.53122663  1.76570036]\n",
      " [ 1.22581564 -0.61706944  1.41835391  0.24472102  0.89879903]] \n",
      "\n",
      " [[ 0.38258571  1.14452327  0.72586713]\n",
      " [ 1.03825437 -0.82384755 -1.18331581]\n",
      " [ 0.18020667 -0.74066036  0.01125915]\n",
      " [ 0.28416277  1.1557473   1.27235127]\n",
      " [-0.73929301 -0.97287889 -0.0743159 ]]\n"
     ]
    }
   ],
   "source": [
    "# NN has 3 layers - 2 weight matrix associated with it - size of matrix depends on number of nodes\n",
    "# randomly initializes weights for gradient descent \n",
    "w1 = generate_wt(30, 5)\n",
    "w2 = generate_wt(5, 3)\n",
    "print(w1, \"\\n\\n\", w2)"
   ]
  },
  {
   "cell_type": "code",
   "execution_count": 9,
   "metadata": {},
   "outputs": [
    {
     "name": "stdout",
     "output_type": "stream",
     "text": [
      "epochs: 1 ======== acc: 76.45567546232391\n",
      "epochs: 2 ======== acc: 77.86765276638428\n",
      "epochs: 3 ======== acc: 78.92947254633789\n",
      "epochs: 4 ======== acc: 79.76171456698802\n",
      "epochs: 5 ======== acc: 80.44324845941229\n",
      "epochs: 6 ======== acc: 81.02329758904828\n",
      "epochs: 7 ======== acc: 81.53236220391547\n",
      "epochs: 8 ======== acc: 81.9896669089913\n",
      "epochs: 9 ======== acc: 82.40774293194532\n",
      "epochs: 10 ======== acc: 82.79512285390163\n",
      "epochs: 11 ======== acc: 83.15789109012793\n",
      "epochs: 12 ======== acc: 83.50057010370942\n",
      "epochs: 13 ======== acc: 83.82663247384312\n",
      "epochs: 14 ======== acc: 84.13880664270555\n",
      "epochs: 15 ======== acc: 84.43926967428303\n",
      "epochs: 16 ======== acc: 84.72977715045089\n",
      "epochs: 17 ======== acc: 85.01175647279547\n",
      "epochs: 18 ======== acc: 85.28637726664508\n",
      "epochs: 19 ======== acc: 85.55460620831713\n",
      "epochs: 20 ======== acc: 85.81725043544472\n",
      "epochs: 21 ======== acc: 86.07499212378164\n",
      "epochs: 22 ======== acc: 86.32841598606575\n",
      "epochs: 23 ======== acc: 86.57803096352824\n",
      "epochs: 24 ======== acc: 86.82428705089606\n",
      "epochs: 25 ======== acc: 87.06758793888126\n",
      "epochs: 26 ======== acc: 87.30829994149448\n",
      "epochs: 27 ======== acc: 87.54675749112562\n",
      "epochs: 28 ======== acc: 87.78326533919648\n",
      "epochs: 29 ======== acc: 88.01809751304347\n",
      "epochs: 30 ======== acc: 88.25149307947042\n",
      "epochs: 31 ======== acc: 88.48364888754321\n",
      "epochs: 32 ======== acc: 88.714709740024\n",
      "epochs: 33 ======== acc: 88.94475688524123\n",
      "epochs: 34 ======== acc: 89.17379629156665\n",
      "epochs: 35 ======== acc: 89.40174875103875\n",
      "epochs: 36 ======== acc: 89.62844425643645\n",
      "epochs: 37 ======== acc: 89.85362305371682\n",
      "epochs: 38 ======== acc: 90.07694507758806\n",
      "epochs: 39 ======== acc: 90.2980080998588\n",
      "epochs: 40 ======== acc: 90.51637311358502\n",
      "epochs: 41 ======== acc: 90.7315937656497\n",
      "epochs: 42 ======== acc: 90.9432456379282\n",
      "epochs: 43 ======== acc: 91.1509512512364\n",
      "epochs: 44 ======== acc: 91.35439779211113\n",
      "epochs: 45 ======== acc: 91.55334629948103\n",
      "epochs: 46 ======== acc: 91.74763278461545\n",
      "epochs: 47 ======== acc: 91.93716300081066\n",
      "epochs: 48 ======== acc: 92.12190312665582\n",
      "epochs: 49 ======== acc: 92.30186855673736\n",
      "epochs: 50 ======== acc: 92.47711253904727\n",
      "epochs: 51 ======== acc: 92.64771580736206\n",
      "epochs: 52 ======== acc: 92.81377780839755\n",
      "epochs: 53 ======== acc: 92.97540970643742\n",
      "epochs: 54 ======== acc: 93.13272908011588\n",
      "epochs: 55 ======== acc: 93.28585608478292\n",
      "epochs: 56 ======== acc: 93.43491080297655\n",
      "epochs: 57 ======== acc: 93.58001151002496\n",
      "epochs: 58 ======== acc: 93.72127361478472\n",
      "epochs: 59 ======== acc: 93.85880907909284\n",
      "epochs: 60 ======== acc: 93.99272616324774\n",
      "epochs: 61 ======== acc: 94.12312938356648\n",
      "epochs: 62 ======== acc: 94.25011959990628\n",
      "epochs: 63 ======== acc: 94.37379417591475\n",
      "epochs: 64 ======== acc: 94.49424717347863\n",
      "epochs: 65 ======== acc: 94.61156955647479\n",
      "epochs: 66 ======== acc: 94.72584938858878\n",
      "epochs: 67 ======== acc: 94.83717201663111\n",
      "epochs: 68 ======== acc: 94.94562023524195\n",
      "epochs: 69 ======== acc: 95.05127443175809\n",
      "epochs: 70 ======== acc: 95.15421271178921\n",
      "epochs: 71 ======== acc: 95.25451100706435\n",
      "epochs: 72 ======== acc: 95.3522431676137\n",
      "epochs: 73 ======== acc: 95.44748104052441\n",
      "epochs: 74 ======== acc: 95.54029453747695\n",
      "epochs: 75 ======== acc: 95.63075169311526\n",
      "epochs: 76 ======== acc: 95.71891871608777\n",
      "epochs: 77 ======== acc: 95.80486003435512\n",
      "epochs: 78 ======== acc: 95.88863833611619\n",
      "epochs: 79 ======== acc: 95.97031460747384\n",
      "epochs: 80 ======== acc: 96.0499481677516\n",
      "epochs: 81 ======== acc: 96.12759670318584\n",
      "epochs: 82 ======== acc: 96.20331629955821\n",
      "epochs: 83 ======== acc: 96.27716147419588\n",
      "epochs: 84 ======== acc: 96.34918520765387\n",
      "epochs: 85 ======== acc: 96.4194389753006\n",
      "epochs: 86 ======== acc: 96.48797277895179\n",
      "epochs: 87 ======== acc: 96.55483517863922\n",
      "epochs: 88 ======== acc: 96.62007332455302\n",
      "epochs: 89 ======== acc: 96.68373298916173\n",
      "epochs: 90 ======== acc: 96.74585859948719\n",
      "epochs: 91 ======== acc: 96.8064932694934\n",
      "epochs: 92 ======== acc: 96.86567883253454\n",
      "epochs: 93 ======== acc: 96.92345587380069\n",
      "epochs: 94 ======== acc: 96.97986376269459\n",
      "epochs: 95 ======== acc: 97.03494068507223\n",
      "epochs: 96 ======== acc: 97.08872367528053\n",
      "epochs: 97 ======== acc: 97.14124864792856\n",
      "epochs: 98 ======== acc: 97.19255042933179\n",
      "epochs: 99 ======== acc: 97.24266278857418\n",
      "epochs: 100 ======== acc: 97.29161846813733\n"
     ]
    }
   ],
   "source": [
    "\"\"\"The arguments of train function are data set list x,\n",
    "correct labels y, weights w1, w2, learning rate = 0.1,\n",
    "no of epochs or iteration.The function will return the\n",
    "matrix of accuracy and loss and also the matrix of\n",
    "trained weights w1, w2\"\"\"\n",
    " \n",
    "acc, losss, w1, w2 = train(x, y, w1, w2, 0.1, 100)"
   ]
  },
  {
   "cell_type": "code",
   "execution_count": 10,
   "metadata": {},
   "outputs": [
    {
     "data": {
      "image/png": "[encoded data removed]",
      "text/plain": [
       "<Figure size 432x288 with 1 Axes>"
      ]
     },
     "metadata": {
      "needs_background": "light"
     },
     "output_type": "display_data"
    },
    {
     "data": {
      "image/png": "[encoded data removed]",
      "text/plain": [
       "<Figure size 432x288 with 1 Axes>"
      ]
     },
     "metadata": {
      "needs_background": "light"
     },
     "output_type": "display_data"
    }
   ],
   "source": [
    "# plots lsos and accuracy for each iteration\n",
    "import matplotlib.pyplot as plt1\n",
    " \n",
    "# ploting accuracy\n",
    "plt1.plot(acc)\n",
    "plt1.ylabel('Accuracy')\n",
    "plt1.xlabel(\"Epochs:\")\n",
    "plt1.show()\n",
    " \n",
    "# plotting Loss\n",
    "plt1.plot(losss)\n",
    "plt1.ylabel('Loss')\n",
    "plt1.xlabel(\"Epochs:\")\n",
    "plt1.show()"
   ]
  },
  {
   "cell_type": "code",
   "execution_count": 11,
   "metadata": {},
   "outputs": [
    {
     "name": "stdout",
     "output_type": "stream",
     "text": [
      "[[-0.53822694  0.56020836 -1.32771759  2.3954723  -1.25794926]\n",
      " [-0.02200216  0.16722293  0.04512549 -1.40845459 -0.22709056]\n",
      " [-1.37339293 -1.29893705  0.52476928 -1.01279641 -1.23895012]\n",
      " [-1.89715437  1.10137247 -0.76706257 -0.23196158  2.21076947]\n",
      " [ 0.07694017 -0.71388114  0.388029   -0.16525722  1.43791728]\n",
      " [-0.37936581 -1.03383236  0.13833757  1.78234705 -0.20883056]\n",
      " [-1.71596855 -2.17674456  0.98464106  0.40761507 -0.89851175]\n",
      " [ 0.59494816  1.2104462  -0.16238332 -1.29265933 -0.41286064]\n",
      " [ 2.03352443  0.49999298 -0.12395003 -0.70365076  0.06236684]\n",
      " [-1.53273696 -0.34270935 -0.85284101  0.51179142  0.22023449]\n",
      " [-0.51471437  2.65845633 -0.27014396  0.73968866 -0.06697394]\n",
      " [-0.07171503 -0.6894269   0.36316686 -1.60458802 -0.18102409]\n",
      " [ 1.13336815 -0.34621607 -1.70295414 -0.02490252  0.08617825]\n",
      " [-0.49720029 -0.86679637 -0.59462663  0.9674264   1.54310252]\n",
      " [-1.06844934  0.98045142  0.09686531  0.70794359  0.28681269]\n",
      " [ 0.05651247 -0.19707278 -0.03439015  0.05049952  0.30227466]\n",
      " [-1.57141725  1.16641578  0.76926891  1.02565928 -1.02202078]\n",
      " [ 1.19362104  0.34902483 -1.43986135 -0.47239969  0.63208542]\n",
      " [ 0.5386513  -0.11347338  1.02679223 -1.90693898  1.61077942]\n",
      " [-0.25985005 -1.63825168 -0.25964886  0.67192746 -0.36009318]\n",
      " [ 0.87732114  1.85816324  1.25282175  1.32675913 -0.10701779]\n",
      " [-1.97571643 -1.02497556  1.12156191  0.48624881 -1.05098765]\n",
      " [ 1.85057527  1.68590927  1.08228017  1.07494609 -0.18906687]\n",
      " [ 0.61695193  1.97533201  1.11323283 -0.18116992  0.17068896]\n",
      " [ 1.18362354 -0.99555403  2.22111686 -1.61179924 -1.20369716]\n",
      " [ 2.32914798 -0.96219684 -1.72799268 -0.66348224 -0.42574121]\n",
      " [-1.24674926 -1.51750896 -1.10031418  0.75696367  0.54265062]\n",
      " [ 0.10530354  1.82624581 -1.05773621  0.78310734 -0.2291312 ]\n",
      " [-1.33292734 -1.0164783   0.00590022  0.74793972  1.80173763]\n",
      " [ 1.23965165 -0.50406382  1.92138642 -0.30889083  0.86599601]] \n",
      " [[ 1.08200994  0.65107304  0.57852719]\n",
      " [ 1.74944005  0.86087102 -3.76681262]\n",
      " [ 1.54935475 -1.37225934 -0.46630102]\n",
      " [-2.24585852  2.92221528  0.87464701]\n",
      " [-1.73589934 -2.20957394  0.77927221]]\n"
     ]
    }
   ],
   "source": [
    "# trained weights\n",
    "print(w1, \"\\n\", w2)"
   ]
  },
  {
   "cell_type": "code",
   "execution_count": 12,
   "metadata": {},
   "outputs": [
    {
     "name": "stdout",
     "output_type": "stream",
     "text": [
      "Image is of letter B.\n"
     ]
    },
    {
     "data": {
      "image/png": "[encoded data removed]",
      "text/plain": [
       "<Figure size 432x288 with 1 Axes>"
      ]
     },
     "metadata": {
      "needs_background": "light"
     },
     "output_type": "display_data"
    }
   ],
   "source": [
    "# can then make predictions\n",
    "predict(x[1], w1, w2)"
   ]
  },
  {
   "cell_type": "code",
   "execution_count": null,
   "metadata": {},
   "outputs": [],
   "source": []
  }
 ],
 "metadata": {
  "kernelspec": {
   "display_name": "lhl_env38",
   "language": "python",
   "name": "lhl_env38"
  },
  "language_info": {
   "codemirror_mode": {
    "name": "ipython",
    "version": 3
   },
   "file_extension": ".py",
   "mimetype": "text/x-python",
   "name": "python",
   "nbconvert_exporter": "python",
   "pygments_lexer": "ipython3",
   "version": "3.8.13"
  },
  "orig_nbformat": 4,
  "vscode": {
   "interpreter": {
    "hash": "93c9cabeb8165e6a1575ace97e023eeebe73f88984ce88042818ce2a73501ce8"
   }
  }
 },
 "nbformat": 4,
 "nbformat_minor": 2
}
