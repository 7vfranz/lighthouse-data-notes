{
 "cells": [
  {
   "cell_type": "markdown",
   "metadata": {},
   "source": [
    "w08d05\n",
    "* no lecture\n",
    "\n",
    "training data\n",
    "* easy to overfit with deep learning\n",
    "* evluate with:\n",
    "* test questions\n",
    " * manually labelled data test by user\n",
    " * used to test accuracy\n",
    "* Labelbox - repository of labeled data allows browse and manage data in one place \n",
    "* direct inspection\n",
    " * going through data by user \n",
    " * harder to scale\n",
    " * only with known answers already\n",
    "* consensus\n",
    " * more scalable\n",
    " * requires multiple annotators to provide labels for same piece of data\n",
    " * answers to same questions are compared and aggregated\n",
    " * can see high agreement = high quality\n",
    " * low agreement = messy data, or ambiguous examples\n",
    "\n",
    "Diminishing Marginal returns\n",
    "* can have too much data where adding more doesn't increase model performance\n",
    "* perform on small data- repeat on more\n",
    "\n",
    "Workflow Transparency\n",
    "* labelling data\n",
    "* doing it yourself - more control than outsourcing"
   ]
  }
 ],
 "metadata": {
  "kernelspec": {
   "display_name": "lhl_env38",
   "language": "python",
   "name": "lhl_env38"
  },
  "language_info": {
   "name": "python",
   "version": "3.8.13"
  },
  "orig_nbformat": 4
 },
 "nbformat": 4,
 "nbformat_minor": 2
}
