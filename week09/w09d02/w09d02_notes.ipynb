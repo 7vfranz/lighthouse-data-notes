{
 "cells": [
  {
   "cell_type": "markdown",
   "metadata": {},
   "source": [
    "#### Time Series II\n",
    "[link](https://drive.google.com/file/u/0/d/1SF01YrH-AkOlsghg84yDDPg4PKta99Lc/edit)\n",
    "Facebook prophet \n",
    "* for predictions\n",
    "* toolkit for modelling time and decomposing trends\n",
    "* built on top of sklearn\n",
    "* works best for seasonal effects data, with several seasons\n",
    "* typically handles outliers well and missing data\n",
    "* also dealing with timezones \n",
    "* fast, accurate and works well\n",
    "* fully automatic, tunable forecasts, done in R and python\n",
    "* good for business analytic questions \n",
    "* sales most of the year, busiest, time for ads etc. \n",
    "* only works with date and value - no other features\n",
    "\n",
    "\n",
    "Time series to a supervised learning problem\n",
    "* standard question in interviews turning time series to supervised learning \n",
    "* only has one column, with x and y\n",
    "\n",
    "Deep learning for stock prediction\n",
    "* check google-colab notebook\n",
    "\n",
    "Time series final project brainstorm"
   ]
  },
  {
   "cell_type": "markdown",
   "metadata": {},
   "source": [
    "#### From Compass\n",
    "* Prophet - from facebook\n",
    "    * open source\n",
    "    * good for data with seasonality with at least a few months/year of history\n",
    "    * easy to understand  easily interpretable params\n",
    "    * easily inspect forecasts and modeling - automated evaluation and surface problems\n",
    "* easier to create a reasonable accure forecast, includes ARMIA, exponential smoothing\n",
    "* forecasts are intuitive to non-experts\n",
    "\n",
    "How it works\n",
    "* additive regression model\n",
    "* piecewise linear/logistic growth curve trend - detects changes in trends by selecting changepoints from the data\n",
    "* yearly seasonal component modeled using Fourier series\n",
    "* weekly seasonal component with dummy variables\n",
    "* user provided list of holidays\n",
    "* fit model using Stan - performs the MAP optimization for parameters \n",
    "* gives option to estimate parameter with Hamiltonian Monte Carlo\n",
    "\n",
    "\n",
    "Time Series Forecasting as Supervised learning\n",
    "* uses a sliding window method\n",
    "* shift data and use previous data as input\n",
    "* eliminate first value (no value to predict with)\n",
    "* eliminate last value (no prediction)\n",
    "* can then use regression or any supervised learning\n",
    "* width of sliding window can be changed  \n",
    "\n",
    "Sliding window with multivariate data\n",
    "* two or more variables are observed at each time\n",
    "* will usually need neural netowrks to have two outputs \n",
    "* essentially predicting a sequence \n",
    "\n",
    "Sliding window with Multi-step forecasting\n",
    "* one-step - next time step is predicted\n",
    "* multi-step - two or more future timesteps predicted\n",
    "    * done by taking two steps back forward with y, instead of only shifting once\n",
    "    * will now be missing 2 at the end instead of just one"
   ]
  }
 ],
 "metadata": {
  "kernelspec": {
   "display_name": "lhl_env38",
   "language": "python",
   "name": "lhl_env38"
  },
  "language_info": {
   "name": "python",
   "version": "3.8.13"
  },
  "orig_nbformat": 4
 },
 "nbformat": 4,
 "nbformat_minor": 2
}
